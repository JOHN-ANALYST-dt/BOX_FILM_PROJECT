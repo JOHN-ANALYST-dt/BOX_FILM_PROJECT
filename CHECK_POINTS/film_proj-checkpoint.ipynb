{
 "cells": [
  {
   "cell_type": "markdown",
   "id": "f12d1ea3-eb06-47e6-af89-2d9acf3adff2",
   "metadata": {},
   "source": [
    "<center><h1><b>FILM PROJECT:<br>Box Office Analysis for New Movie Studio</b></h1></center>"
   ]
  },
  {
   "cell_type": "markdown",
   "id": "6bcc108e-e707-41d7-bab9-83d36dbc9780",
   "metadata": {},
   "source": [
    "<b><h2>1.BUSINESS UNDERSTANDING</h2></b>"
   ]
  },
  {
   "cell_type": "markdown",
   "id": "1d5712b9-144a-41db-8e6f-e21bef505d33",
   "metadata": {},
   "source": [
    "<h3>\n",
    "    <b>1.1. Business Overview</b>\n",
    "</h3>\n",
    "<p>Our project is to  analyze current box office trends and competitor strategies to provide actionable insights for the company’s new movie studio. </p>"
   ]
  },
  {
   "cell_type": "markdown",
   "id": "6ce044c0-135f-49f4-a5c7-4c85ec2b9109",
   "metadata": {},
   "source": [
    "<H3>1.2<b>Business Objectives</b></H3>\n",
    "<p>Our main objectives are to ensure data-backed decisions on film production, budgeting, and marketing. Also, consider some of the factors clients consider most in the film industry's popularity \n",
    "    </p>"
   ]
  },
  {
   "cell_type": "markdown",
   "id": "87a4ca79-3a74-4bb2-a95a-1c4a6cc16147",
   "metadata": {},
   "source": [
    "<h3><b>1.3 Business Success Criteria </b></h3>\n",
    "<p><b>(i)Financial Success</b><br>\n",
    "-Target Gross Revenue per Film: E.g., achieve an average worldwide gross of at least 6 million per film.<br>\n",
    "-Profitability per Film: Aim for a minimum profit margin (e.g., 30% of budget) for at least 70% of released films.<br>\n",
    "    <b>(ii)Audience Engagement & Brand Building</b><br>\n",
    "    -Audience Satisfaction-Achieve average audience scores above a certain threshold<br>\n",
    "    -Social Media Engagement: Build a strong online presence and engagement around releases <br>\n",
    "    -Brand Recognition: Establish the studio as a recognized and respected name in the industry within 5 years.<br>\n",
    "    \n",
    "</p>"
   ]
  },
  {
   "cell_type": "markdown",
   "id": "03465d86-0abb-4d1d-ba4f-4833f0c0155e",
   "metadata": {},
   "source": [
    "<h2><b>2.0 DATA UNDERSTANDING</b></h2>"
   ]
  },
  {
   "cell_type": "markdown",
   "id": "b584e518-a750-4adf-9da7-c1d64d8ba070",
   "metadata": {},
   "source": [
    "<h3><b>2.1 Data understanding overview</b></h3>"
   ]
  },
  {
   "cell_type": "markdown",
   "id": "d54ca1c4-c054-4875-81c3-603909127667",
   "metadata": {},
   "source": [
    "<p>-Files have different formats. Some are compressed CSV (comma-separated values) or TSV (tab-separated values) files that can be opened using spreadsheet software or pd.read_csv, while the data from IMDB is located in a SQLite database.</p>"
   ]
  },
  {
   "cell_type": "markdown",
   "id": "3aad1024-cdd5-4dec-8077-857a3ae5da70",
   "metadata": {},
   "source": [
    "<h3><b>2.2 Python Library Importation</b></h3>"
   ]
  },
  {
   "cell_type": "code",
   "execution_count": 3,
   "id": "1007a10c-2c72-4107-bdb7-1d82b9ee867c",
   "metadata": {},
   "outputs": [],
   "source": [
    "import pandas as pd\n",
    "import sqlite3\n",
    "import numpy as np\n",
    "import seaborn as sns\n",
    "import matplotlib.pyplot as plt\n",
    "%matplotlib inline \n"
   ]
  },
  {
   "cell_type": "markdown",
   "id": "44d60b4e-9c4f-42bd-b75f-a01e507f3f61",
   "metadata": {},
   "source": [
    "<h3><b>2.3 Files importation</b></h3>"
   ]
  },
  {
   "cell_type": "markdown",
   "id": "d94d8366-4b53-413f-ad37-2c34c8cee113",
   "metadata": {},
   "source": [
    "<p>The files we will use in the analysis are in different formats, some in CSV, TSV, and a database file. <br>We obtained our data from a GitHub account, which you can <a href=\"https://github.com/learn-co-curriculum/dsc-phase-2-project-v3\">Visit by clicking</a>. For our projects , we will use more than 2 files </p>"
   ]
  },
  {
   "cell_type": "code",
   "execution_count": 8,
   "id": "3b93923f-d803-4d40-8c7b-4fbd7d8f29d1",
   "metadata": {},
   "outputs": [],
   "source": [
    "movie_gross=pd.read_csv(\"FILES/bom.movie_gross.csv\")\n"
   ]
  },
  {
   "cell_type": "markdown",
   "id": "81a200e7-92ad-4e22-b1d9-10213408e41c",
   "metadata": {},
   "source": [
    "<h4>Movies gross incomes per year</h4>"
   ]
  },
  {
   "cell_type": "code",
   "execution_count": 9,
   "id": "b8b91b27-4876-4b47-b432-18f23f43404c",
   "metadata": {},
   "outputs": [
    {
     "data": {
      "text/html": [
       "<div>\n",
       "<style scoped>\n",
       "    .dataframe tbody tr th:only-of-type {\n",
       "        vertical-align: middle;\n",
       "    }\n",
       "\n",
       "    .dataframe tbody tr th {\n",
       "        vertical-align: top;\n",
       "    }\n",
       "\n",
       "    .dataframe thead th {\n",
       "        text-align: right;\n",
       "    }\n",
       "</style>\n",
       "<table border=\"1\" class=\"dataframe\">\n",
       "  <thead>\n",
       "    <tr style=\"text-align: right;\">\n",
       "      <th></th>\n",
       "      <th>title</th>\n",
       "      <th>studio</th>\n",
       "      <th>domestic_gross</th>\n",
       "      <th>foreign_gross</th>\n",
       "      <th>year</th>\n",
       "    </tr>\n",
       "  </thead>\n",
       "  <tbody>\n",
       "    <tr>\n",
       "      <th>0</th>\n",
       "      <td>Toy Story 3</td>\n",
       "      <td>BV</td>\n",
       "      <td>415000000.0</td>\n",
       "      <td>652000000</td>\n",
       "      <td>2010</td>\n",
       "    </tr>\n",
       "    <tr>\n",
       "      <th>1</th>\n",
       "      <td>Alice in Wonderland (2010)</td>\n",
       "      <td>BV</td>\n",
       "      <td>334200000.0</td>\n",
       "      <td>691300000</td>\n",
       "      <td>2010</td>\n",
       "    </tr>\n",
       "    <tr>\n",
       "      <th>2</th>\n",
       "      <td>Harry Potter and the Deathly Hallows Part 1</td>\n",
       "      <td>WB</td>\n",
       "      <td>296000000.0</td>\n",
       "      <td>664300000</td>\n",
       "      <td>2010</td>\n",
       "    </tr>\n",
       "    <tr>\n",
       "      <th>3</th>\n",
       "      <td>Inception</td>\n",
       "      <td>WB</td>\n",
       "      <td>292600000.0</td>\n",
       "      <td>535700000</td>\n",
       "      <td>2010</td>\n",
       "    </tr>\n",
       "    <tr>\n",
       "      <th>4</th>\n",
       "      <td>Shrek Forever After</td>\n",
       "      <td>P/DW</td>\n",
       "      <td>238700000.0</td>\n",
       "      <td>513900000</td>\n",
       "      <td>2010</td>\n",
       "    </tr>\n",
       "    <tr>\n",
       "      <th>5</th>\n",
       "      <td>The Twilight Saga: Eclipse</td>\n",
       "      <td>Sum.</td>\n",
       "      <td>300500000.0</td>\n",
       "      <td>398000000</td>\n",
       "      <td>2010</td>\n",
       "    </tr>\n",
       "    <tr>\n",
       "      <th>6</th>\n",
       "      <td>Iron Man 2</td>\n",
       "      <td>Par.</td>\n",
       "      <td>312400000.0</td>\n",
       "      <td>311500000</td>\n",
       "      <td>2010</td>\n",
       "    </tr>\n",
       "    <tr>\n",
       "      <th>7</th>\n",
       "      <td>Tangled</td>\n",
       "      <td>BV</td>\n",
       "      <td>200800000.0</td>\n",
       "      <td>391000000</td>\n",
       "      <td>2010</td>\n",
       "    </tr>\n",
       "    <tr>\n",
       "      <th>8</th>\n",
       "      <td>Despicable Me</td>\n",
       "      <td>Uni.</td>\n",
       "      <td>251500000.0</td>\n",
       "      <td>291600000</td>\n",
       "      <td>2010</td>\n",
       "    </tr>\n",
       "    <tr>\n",
       "      <th>9</th>\n",
       "      <td>How to Train Your Dragon</td>\n",
       "      <td>P/DW</td>\n",
       "      <td>217600000.0</td>\n",
       "      <td>277300000</td>\n",
       "      <td>2010</td>\n",
       "    </tr>\n",
       "  </tbody>\n",
       "</table>\n",
       "</div>"
      ],
      "text/plain": [
       "                                         title studio  domestic_gross  \\\n",
       "0                                  Toy Story 3     BV     415000000.0   \n",
       "1                   Alice in Wonderland (2010)     BV     334200000.0   \n",
       "2  Harry Potter and the Deathly Hallows Part 1     WB     296000000.0   \n",
       "3                                    Inception     WB     292600000.0   \n",
       "4                          Shrek Forever After   P/DW     238700000.0   \n",
       "5                   The Twilight Saga: Eclipse   Sum.     300500000.0   \n",
       "6                                   Iron Man 2   Par.     312400000.0   \n",
       "7                                      Tangled     BV     200800000.0   \n",
       "8                                Despicable Me   Uni.     251500000.0   \n",
       "9                     How to Train Your Dragon   P/DW     217600000.0   \n",
       "\n",
       "  foreign_gross  year  \n",
       "0     652000000  2010  \n",
       "1     691300000  2010  \n",
       "2     664300000  2010  \n",
       "3     535700000  2010  \n",
       "4     513900000  2010  \n",
       "5     398000000  2010  \n",
       "6     311500000  2010  \n",
       "7     391000000  2010  \n",
       "8     291600000  2010  \n",
       "9     277300000  2010  "
      ]
     },
     "execution_count": 9,
     "metadata": {},
     "output_type": "execute_result"
    }
   ],
   "source": [
    "movie_gross.head(10)\n"
   ]
  },
  {
   "cell_type": "markdown",
   "id": "022f250a-3ed9-48a5-9b61-7c89b4067b5e",
   "metadata": {},
   "source": [
    "<h3><b>2.4 Data Information</b></h3>"
   ]
  },
  {
   "cell_type": "code",
   "execution_count": 4,
   "id": "72652629-d9ac-472e-8ac1-acd082fa277f",
   "metadata": {},
   "outputs": [
    {
     "name": "stdout",
     "output_type": "stream",
     "text": [
      "<class 'pandas.core.frame.DataFrame'>\n",
      "RangeIndex: 3387 entries, 0 to 3386\n",
      "Data columns (total 5 columns):\n",
      " #   Column          Non-Null Count  Dtype  \n",
      "---  ------          --------------  -----  \n",
      " 0   title           3387 non-null   object \n",
      " 1   studio          3382 non-null   object \n",
      " 2   domestic_gross  3359 non-null   float64\n",
      " 3   foreign_gross   2037 non-null   object \n",
      " 4   year            3387 non-null   int64  \n",
      "dtypes: float64(1), int64(1), object(3)\n",
      "memory usage: 132.4+ KB\n"
     ]
    }
   ],
   "source": [
    "movie_gross.info()"
   ]
  },
  {
   "cell_type": "code",
   "execution_count": 5,
   "id": "29c79d07-eef5-48d0-a96a-bccccc7eac98",
   "metadata": {},
   "outputs": [
    {
     "data": {
      "text/html": [
       "<div>\n",
       "<style scoped>\n",
       "    .dataframe tbody tr th:only-of-type {\n",
       "        vertical-align: middle;\n",
       "    }\n",
       "\n",
       "    .dataframe tbody tr th {\n",
       "        vertical-align: top;\n",
       "    }\n",
       "\n",
       "    .dataframe thead th {\n",
       "        text-align: right;\n",
       "    }\n",
       "</style>\n",
       "<table border=\"1\" class=\"dataframe\">\n",
       "  <thead>\n",
       "    <tr style=\"text-align: right;\">\n",
       "      <th></th>\n",
       "      <th>title</th>\n",
       "      <th>studio</th>\n",
       "      <th>domestic_gross</th>\n",
       "      <th>foreign_gross</th>\n",
       "      <th>year</th>\n",
       "    </tr>\n",
       "  </thead>\n",
       "  <tbody>\n",
       "    <tr>\n",
       "      <th>0</th>\n",
       "      <td>Toy Story 3</td>\n",
       "      <td>BV</td>\n",
       "      <td>415000000.0</td>\n",
       "      <td>652000000.0</td>\n",
       "      <td>2010</td>\n",
       "    </tr>\n",
       "    <tr>\n",
       "      <th>1</th>\n",
       "      <td>Alice in Wonderland (2010)</td>\n",
       "      <td>BV</td>\n",
       "      <td>334200000.0</td>\n",
       "      <td>691300000.0</td>\n",
       "      <td>2010</td>\n",
       "    </tr>\n",
       "    <tr>\n",
       "      <th>2</th>\n",
       "      <td>Harry Potter and the Deathly Hallows Part 1</td>\n",
       "      <td>WB</td>\n",
       "      <td>296000000.0</td>\n",
       "      <td>664300000.0</td>\n",
       "      <td>2010</td>\n",
       "    </tr>\n",
       "    <tr>\n",
       "      <th>3</th>\n",
       "      <td>Inception</td>\n",
       "      <td>WB</td>\n",
       "      <td>292600000.0</td>\n",
       "      <td>535700000.0</td>\n",
       "      <td>2010</td>\n",
       "    </tr>\n",
       "    <tr>\n",
       "      <th>4</th>\n",
       "      <td>Shrek Forever After</td>\n",
       "      <td>P/DW</td>\n",
       "      <td>238700000.0</td>\n",
       "      <td>513900000.0</td>\n",
       "      <td>2010</td>\n",
       "    </tr>\n",
       "    <tr>\n",
       "      <th>...</th>\n",
       "      <td>...</td>\n",
       "      <td>...</td>\n",
       "      <td>...</td>\n",
       "      <td>...</td>\n",
       "      <td>...</td>\n",
       "    </tr>\n",
       "    <tr>\n",
       "      <th>3382</th>\n",
       "      <td>The Quake</td>\n",
       "      <td>Magn.</td>\n",
       "      <td>6200.0</td>\n",
       "      <td>NaN</td>\n",
       "      <td>2018</td>\n",
       "    </tr>\n",
       "    <tr>\n",
       "      <th>3383</th>\n",
       "      <td>Edward II (2018 re-release)</td>\n",
       "      <td>FM</td>\n",
       "      <td>4800.0</td>\n",
       "      <td>NaN</td>\n",
       "      <td>2018</td>\n",
       "    </tr>\n",
       "    <tr>\n",
       "      <th>3384</th>\n",
       "      <td>El Pacto</td>\n",
       "      <td>Sony</td>\n",
       "      <td>2500.0</td>\n",
       "      <td>NaN</td>\n",
       "      <td>2018</td>\n",
       "    </tr>\n",
       "    <tr>\n",
       "      <th>3385</th>\n",
       "      <td>The Swan</td>\n",
       "      <td>Synergetic</td>\n",
       "      <td>2400.0</td>\n",
       "      <td>NaN</td>\n",
       "      <td>2018</td>\n",
       "    </tr>\n",
       "    <tr>\n",
       "      <th>3386</th>\n",
       "      <td>An Actor Prepares</td>\n",
       "      <td>Grav.</td>\n",
       "      <td>1700.0</td>\n",
       "      <td>NaN</td>\n",
       "      <td>2018</td>\n",
       "    </tr>\n",
       "  </tbody>\n",
       "</table>\n",
       "<p>3387 rows × 5 columns</p>\n",
       "</div>"
      ],
      "text/plain": [
       "                                            title      studio  domestic_gross  \\\n",
       "0                                     Toy Story 3          BV     415000000.0   \n",
       "1                      Alice in Wonderland (2010)          BV     334200000.0   \n",
       "2     Harry Potter and the Deathly Hallows Part 1          WB     296000000.0   \n",
       "3                                       Inception          WB     292600000.0   \n",
       "4                             Shrek Forever After        P/DW     238700000.0   \n",
       "...                                           ...         ...             ...   \n",
       "3382                                    The Quake       Magn.          6200.0   \n",
       "3383                  Edward II (2018 re-release)          FM          4800.0   \n",
       "3384                                     El Pacto        Sony          2500.0   \n",
       "3385                                     The Swan  Synergetic          2400.0   \n",
       "3386                            An Actor Prepares       Grav.          1700.0   \n",
       "\n",
       "      foreign_gross  year  \n",
       "0       652000000.0  2010  \n",
       "1       691300000.0  2010  \n",
       "2       664300000.0  2010  \n",
       "3       535700000.0  2010  \n",
       "4       513900000.0  2010  \n",
       "...             ...   ...  \n",
       "3382            NaN  2018  \n",
       "3383            NaN  2018  \n",
       "3384            NaN  2018  \n",
       "3385            NaN  2018  \n",
       "3386            NaN  2018  \n",
       "\n",
       "[3387 rows x 5 columns]"
      ]
     },
     "execution_count": 5,
     "metadata": {},
     "output_type": "execute_result"
    }
   ],
   "source": [
    "#add the two gross amounts to the new column gross_amount\n",
    "movie_gross['foreign_gross'] = movie_gross['foreign_gross'].str.replace(',', '', regex=False).astype(float)\n",
    "movie_gross"
   ]
  },
  {
   "cell_type": "markdown",
   "id": "e2d90b34-6596-457e-98ac-0614e8128c5e",
   "metadata": {},
   "source": [
    "<h3><b>2.5 Shape of the data</b></h3>"
   ]
  },
  {
   "cell_type": "code",
   "execution_count": 6,
   "id": "29a854b2-502c-4fac-a56a-8e9e6222dd0b",
   "metadata": {},
   "outputs": [
    {
     "data": {
      "text/plain": [
       "(3387, 5)"
      ]
     },
     "execution_count": 6,
     "metadata": {},
     "output_type": "execute_result"
    }
   ],
   "source": [
    "movie_gross.shape"
   ]
  },
  {
   "cell_type": "markdown",
   "id": "5b456828-5c25-4ba8-b127-16af6ea59a2b",
   "metadata": {},
   "source": [
    "<h4>we found the data has 3387 rows of data and 5 columns  </h4>"
   ]
  },
  {
   "cell_type": "markdown",
   "id": "8ca92297-e0c5-4de4-accb-767d28b2f23d",
   "metadata": {},
   "source": [
    "<h3><b>2.6 Finding the  missing values</b></h3>"
   ]
  },
  {
   "cell_type": "code",
   "execution_count": 7,
   "id": "d754a88d-339f-46ff-8e05-7a5fe8a03044",
   "metadata": {},
   "outputs": [
    {
     "data": {
      "text/plain": [
       "title               0\n",
       "studio            210\n",
       "domestic_gross    230\n",
       "foreign_gross     222\n",
       "year                0\n",
       "dtype: int64"
      ]
     },
     "execution_count": 7,
     "metadata": {},
     "output_type": "execute_result"
    }
   ],
   "source": [
    "movie_gross.isna().idxmax()"
   ]
  },
  {
   "cell_type": "markdown",
   "id": "b58f3292-d5d8-4105-bebc-e2a7b730d1fe",
   "metadata": {},
   "source": [
    "<h3><b>2.7 percentage of the missing values</b></h3>"
   ]
  },
  {
   "cell_type": "code",
   "execution_count": 8,
   "id": "7de6ba48-4ce2-44ea-8d6c-fdc50dc4b9df",
   "metadata": {},
   "outputs": [
    {
     "data": {
      "text/plain": [
       "title              0.000000\n",
       "studio             0.147623\n",
       "domestic_gross     0.826690\n",
       "foreign_gross     39.858282\n",
       "year               0.000000\n",
       "dtype: float64"
      ]
     },
     "execution_count": 8,
     "metadata": {},
     "output_type": "execute_result"
    }
   ],
   "source": [
    "total=len(movie_gross)\n",
    "movie_gross.isna().sum()*100/total"
   ]
  },
  {
   "cell_type": "markdown",
   "id": "8fde3a03-19d2-49bb-968a-aa3f79e1ae47",
   "metadata": {},
   "source": [
    "<h4>From the data , the column with the highest percentage of the missing values is Foreign_gross with 39.9%</h4>"
   ]
  },
  {
   "cell_type": "markdown",
   "id": "13aec85a-bfce-4cd4-8d0f-33259a951f2f",
   "metadata": {},
   "source": [
    "<h3><b>2.8 Checking for the duplicates</b></h3>"
   ]
  },
  {
   "cell_type": "code",
   "execution_count": 9,
   "id": "08569ea5-07ea-4a32-8f76-4c12dce7a29e",
   "metadata": {},
   "outputs": [
    {
     "data": {
      "text/plain": [
       "False    3387\n",
       "Name: count, dtype: int64"
      ]
     },
     "execution_count": 9,
     "metadata": {},
     "output_type": "execute_result"
    }
   ],
   "source": [
    "movie_gross.duplicated().value_counts()"
   ]
  },
  {
   "cell_type": "markdown",
   "id": "6526fa66-9d60-42f3-8fae-9822ae72b914",
   "metadata": {},
   "source": [
    "<h4>From our Data , we don't have any duplicates\n",
    "</h4>"
   ]
  },
  {
   "cell_type": "markdown",
   "id": "db6ce173-fc98-4336-8931-bc15ecc5e643",
   "metadata": {},
   "source": [
    "<h3><b>2.9 Filling the null values </b></h3>"
   ]
  },
  {
   "cell_type": "code",
   "execution_count": 10,
   "id": "b9f04f27-61e4-403f-937f-e5fcc8388e3c",
   "metadata": {},
   "outputs": [],
   "source": [
    "#beginning with the integer/float data types\n",
    "# We will fill the missing values with the median\n",
    "for col in movie_gross.select_dtypes(include='float64').columns:\n",
    "    if movie_gross[col].isnull().any():\n",
    "        median_val = movie_gross[col].median()\n",
    "        movie_gross[col].fillna(median_val, inplace=True)"
   ]
  },
  {
   "cell_type": "code",
   "execution_count": 11,
   "id": "20c12d76-b98e-4488-8fca-ae49d31a5b43",
   "metadata": {},
   "outputs": [],
   "source": [
    "# We will fill the missing values in objects with the mode\n",
    "for col in movie_gross.select_dtypes(include='object').columns:\n",
    "    if movie_gross[col].isnull().any():\n",
    "        mode_val = movie_gross[col].mode()[0]\n",
    "        movie_gross[col].fillna(mode_val, inplace=True)\n"
   ]
  },
  {
   "cell_type": "code",
   "execution_count": 12,
   "id": "a08a5b10-f660-4a38-bfa8-8ae2dea1a0ba",
   "metadata": {},
   "outputs": [
    {
     "data": {
      "text/plain": [
       "title             0\n",
       "studio            0\n",
       "domestic_gross    0\n",
       "foreign_gross     0\n",
       "year              0\n",
       "dtype: int64"
      ]
     },
     "execution_count": 12,
     "metadata": {},
     "output_type": "execute_result"
    }
   ],
   "source": [
    "movie_gross.isna().idxmax()"
   ]
  },
  {
   "cell_type": "markdown",
   "id": "d2d80032-3243-48d3-a7fe-aa5a4b8a835b",
   "metadata": {},
   "source": [
    "<h4>We have filled our data appropriately, no null values in our Data </h4>"
   ]
  },
  {
   "cell_type": "code",
   "execution_count": 13,
   "id": "93b42eab-995e-499c-8c7c-68b37bb1f357",
   "metadata": {},
   "outputs": [
    {
     "data": {
      "text/html": [
       "<div>\n",
       "<style scoped>\n",
       "    .dataframe tbody tr th:only-of-type {\n",
       "        vertical-align: middle;\n",
       "    }\n",
       "\n",
       "    .dataframe tbody tr th {\n",
       "        vertical-align: top;\n",
       "    }\n",
       "\n",
       "    .dataframe thead th {\n",
       "        text-align: right;\n",
       "    }\n",
       "</style>\n",
       "<table border=\"1\" class=\"dataframe\">\n",
       "  <thead>\n",
       "    <tr style=\"text-align: right;\">\n",
       "      <th></th>\n",
       "      <th>title</th>\n",
       "      <th>studio</th>\n",
       "      <th>domestic_gross</th>\n",
       "      <th>foreign_gross</th>\n",
       "      <th>year</th>\n",
       "    </tr>\n",
       "  </thead>\n",
       "  <tbody>\n",
       "    <tr>\n",
       "      <th>0</th>\n",
       "      <td>Toy Story 3</td>\n",
       "      <td>BV</td>\n",
       "      <td>415000000.0</td>\n",
       "      <td>652000000.0</td>\n",
       "      <td>2010</td>\n",
       "    </tr>\n",
       "    <tr>\n",
       "      <th>1</th>\n",
       "      <td>Alice in Wonderland (2010)</td>\n",
       "      <td>BV</td>\n",
       "      <td>334200000.0</td>\n",
       "      <td>691300000.0</td>\n",
       "      <td>2010</td>\n",
       "    </tr>\n",
       "    <tr>\n",
       "      <th>2</th>\n",
       "      <td>Harry Potter and the Deathly Hallows Part 1</td>\n",
       "      <td>WB</td>\n",
       "      <td>296000000.0</td>\n",
       "      <td>664300000.0</td>\n",
       "      <td>2010</td>\n",
       "    </tr>\n",
       "    <tr>\n",
       "      <th>3</th>\n",
       "      <td>Inception</td>\n",
       "      <td>WB</td>\n",
       "      <td>292600000.0</td>\n",
       "      <td>535700000.0</td>\n",
       "      <td>2010</td>\n",
       "    </tr>\n",
       "    <tr>\n",
       "      <th>4</th>\n",
       "      <td>Shrek Forever After</td>\n",
       "      <td>P/DW</td>\n",
       "      <td>238700000.0</td>\n",
       "      <td>513900000.0</td>\n",
       "      <td>2010</td>\n",
       "    </tr>\n",
       "    <tr>\n",
       "      <th>...</th>\n",
       "      <td>...</td>\n",
       "      <td>...</td>\n",
       "      <td>...</td>\n",
       "      <td>...</td>\n",
       "      <td>...</td>\n",
       "    </tr>\n",
       "    <tr>\n",
       "      <th>3382</th>\n",
       "      <td>The Quake</td>\n",
       "      <td>Magn.</td>\n",
       "      <td>6200.0</td>\n",
       "      <td>18700000.0</td>\n",
       "      <td>2018</td>\n",
       "    </tr>\n",
       "    <tr>\n",
       "      <th>3383</th>\n",
       "      <td>Edward II (2018 re-release)</td>\n",
       "      <td>FM</td>\n",
       "      <td>4800.0</td>\n",
       "      <td>18700000.0</td>\n",
       "      <td>2018</td>\n",
       "    </tr>\n",
       "    <tr>\n",
       "      <th>3384</th>\n",
       "      <td>El Pacto</td>\n",
       "      <td>Sony</td>\n",
       "      <td>2500.0</td>\n",
       "      <td>18700000.0</td>\n",
       "      <td>2018</td>\n",
       "    </tr>\n",
       "    <tr>\n",
       "      <th>3385</th>\n",
       "      <td>The Swan</td>\n",
       "      <td>Synergetic</td>\n",
       "      <td>2400.0</td>\n",
       "      <td>18700000.0</td>\n",
       "      <td>2018</td>\n",
       "    </tr>\n",
       "    <tr>\n",
       "      <th>3386</th>\n",
       "      <td>An Actor Prepares</td>\n",
       "      <td>Grav.</td>\n",
       "      <td>1700.0</td>\n",
       "      <td>18700000.0</td>\n",
       "      <td>2018</td>\n",
       "    </tr>\n",
       "  </tbody>\n",
       "</table>\n",
       "<p>3387 rows × 5 columns</p>\n",
       "</div>"
      ],
      "text/plain": [
       "                                            title      studio  domestic_gross  \\\n",
       "0                                     Toy Story 3          BV     415000000.0   \n",
       "1                      Alice in Wonderland (2010)          BV     334200000.0   \n",
       "2     Harry Potter and the Deathly Hallows Part 1          WB     296000000.0   \n",
       "3                                       Inception          WB     292600000.0   \n",
       "4                             Shrek Forever After        P/DW     238700000.0   \n",
       "...                                           ...         ...             ...   \n",
       "3382                                    The Quake       Magn.          6200.0   \n",
       "3383                  Edward II (2018 re-release)          FM          4800.0   \n",
       "3384                                     El Pacto        Sony          2500.0   \n",
       "3385                                     The Swan  Synergetic          2400.0   \n",
       "3386                            An Actor Prepares       Grav.          1700.0   \n",
       "\n",
       "      foreign_gross  year  \n",
       "0       652000000.0  2010  \n",
       "1       691300000.0  2010  \n",
       "2       664300000.0  2010  \n",
       "3       535700000.0  2010  \n",
       "4       513900000.0  2010  \n",
       "...             ...   ...  \n",
       "3382     18700000.0  2018  \n",
       "3383     18700000.0  2018  \n",
       "3384     18700000.0  2018  \n",
       "3385     18700000.0  2018  \n",
       "3386     18700000.0  2018  \n",
       "\n",
       "[3387 rows x 5 columns]"
      ]
     },
     "execution_count": 13,
     "metadata": {},
     "output_type": "execute_result"
    }
   ],
   "source": [
    "movie_gross"
   ]
  },
  {
   "cell_type": "markdown",
   "id": "df620b1b-4036-4313-b71d-bb1850ac4b4b",
   "metadata": {},
   "source": [
    "<h3><b>3.1. Movie Popularity</b></h3>"
   ]
  },
  {
   "cell_type": "code",
   "execution_count": 7,
   "id": "6e6a470f-28bd-48c5-b107-97ad121de043",
   "metadata": {},
   "outputs": [
    {
     "data": {
      "text/html": [
       "<div>\n",
       "<style scoped>\n",
       "    .dataframe tbody tr th:only-of-type {\n",
       "        vertical-align: middle;\n",
       "    }\n",
       "\n",
       "    .dataframe tbody tr th {\n",
       "        vertical-align: top;\n",
       "    }\n",
       "\n",
       "    .dataframe thead th {\n",
       "        text-align: right;\n",
       "    }\n",
       "</style>\n",
       "<table border=\"1\" class=\"dataframe\">\n",
       "  <thead>\n",
       "    <tr style=\"text-align: right;\">\n",
       "      <th></th>\n",
       "      <th>genre_ids</th>\n",
       "      <th>id</th>\n",
       "      <th>original_language</th>\n",
       "      <th>original_title</th>\n",
       "      <th>popularity</th>\n",
       "      <th>release_date</th>\n",
       "      <th>title</th>\n",
       "      <th>vote_average</th>\n",
       "      <th>vote_count</th>\n",
       "    </tr>\n",
       "  </thead>\n",
       "  <tbody>\n",
       "    <tr>\n",
       "      <th>0</th>\n",
       "      <td>[12, 14, 10751]</td>\n",
       "      <td>12444</td>\n",
       "      <td>en</td>\n",
       "      <td>Harry Potter and the Deathly Hallows: Part 1</td>\n",
       "      <td>33.533</td>\n",
       "      <td>2010-11-19</td>\n",
       "      <td>Harry Potter and the Deathly Hallows: Part 1</td>\n",
       "      <td>7.7</td>\n",
       "      <td>10788</td>\n",
       "    </tr>\n",
       "    <tr>\n",
       "      <th>1</th>\n",
       "      <td>[14, 12, 16, 10751]</td>\n",
       "      <td>10191</td>\n",
       "      <td>en</td>\n",
       "      <td>How to Train Your Dragon</td>\n",
       "      <td>28.734</td>\n",
       "      <td>2010-03-26</td>\n",
       "      <td>How to Train Your Dragon</td>\n",
       "      <td>7.7</td>\n",
       "      <td>7610</td>\n",
       "    </tr>\n",
       "    <tr>\n",
       "      <th>2</th>\n",
       "      <td>[12, 28, 878]</td>\n",
       "      <td>10138</td>\n",
       "      <td>en</td>\n",
       "      <td>Iron Man 2</td>\n",
       "      <td>28.515</td>\n",
       "      <td>2010-05-07</td>\n",
       "      <td>Iron Man 2</td>\n",
       "      <td>6.8</td>\n",
       "      <td>12368</td>\n",
       "    </tr>\n",
       "    <tr>\n",
       "      <th>3</th>\n",
       "      <td>[16, 35, 10751]</td>\n",
       "      <td>862</td>\n",
       "      <td>en</td>\n",
       "      <td>Toy Story</td>\n",
       "      <td>28.005</td>\n",
       "      <td>1995-11-22</td>\n",
       "      <td>Toy Story</td>\n",
       "      <td>7.9</td>\n",
       "      <td>10174</td>\n",
       "    </tr>\n",
       "    <tr>\n",
       "      <th>4</th>\n",
       "      <td>[28, 878, 12]</td>\n",
       "      <td>27205</td>\n",
       "      <td>en</td>\n",
       "      <td>Inception</td>\n",
       "      <td>27.920</td>\n",
       "      <td>2010-07-16</td>\n",
       "      <td>Inception</td>\n",
       "      <td>8.3</td>\n",
       "      <td>22186</td>\n",
       "    </tr>\n",
       "    <tr>\n",
       "      <th>5</th>\n",
       "      <td>[12, 14, 10751]</td>\n",
       "      <td>32657</td>\n",
       "      <td>en</td>\n",
       "      <td>Percy Jackson &amp; the Olympians: The Lightning T...</td>\n",
       "      <td>26.691</td>\n",
       "      <td>2010-02-11</td>\n",
       "      <td>Percy Jackson &amp; the Olympians: The Lightning T...</td>\n",
       "      <td>6.1</td>\n",
       "      <td>4229</td>\n",
       "    </tr>\n",
       "    <tr>\n",
       "      <th>6</th>\n",
       "      <td>[28, 12, 14, 878]</td>\n",
       "      <td>19995</td>\n",
       "      <td>en</td>\n",
       "      <td>Avatar</td>\n",
       "      <td>26.526</td>\n",
       "      <td>2009-12-18</td>\n",
       "      <td>Avatar</td>\n",
       "      <td>7.4</td>\n",
       "      <td>18676</td>\n",
       "    </tr>\n",
       "    <tr>\n",
       "      <th>7</th>\n",
       "      <td>[16, 10751, 35]</td>\n",
       "      <td>10193</td>\n",
       "      <td>en</td>\n",
       "      <td>Toy Story 3</td>\n",
       "      <td>24.445</td>\n",
       "      <td>2010-06-17</td>\n",
       "      <td>Toy Story 3</td>\n",
       "      <td>7.7</td>\n",
       "      <td>8340</td>\n",
       "    </tr>\n",
       "    <tr>\n",
       "      <th>8</th>\n",
       "      <td>[16, 10751, 35]</td>\n",
       "      <td>20352</td>\n",
       "      <td>en</td>\n",
       "      <td>Despicable Me</td>\n",
       "      <td>23.673</td>\n",
       "      <td>2010-07-09</td>\n",
       "      <td>Despicable Me</td>\n",
       "      <td>7.2</td>\n",
       "      <td>10057</td>\n",
       "    </tr>\n",
       "    <tr>\n",
       "      <th>9</th>\n",
       "      <td>[16, 28, 35, 10751, 878]</td>\n",
       "      <td>38055</td>\n",
       "      <td>en</td>\n",
       "      <td>Megamind</td>\n",
       "      <td>22.855</td>\n",
       "      <td>2010-11-04</td>\n",
       "      <td>Megamind</td>\n",
       "      <td>6.8</td>\n",
       "      <td>3635</td>\n",
       "    </tr>\n",
       "  </tbody>\n",
       "</table>\n",
       "</div>"
      ],
      "text/plain": [
       "                  genre_ids     id original_language  \\\n",
       "0           [12, 14, 10751]  12444                en   \n",
       "1       [14, 12, 16, 10751]  10191                en   \n",
       "2             [12, 28, 878]  10138                en   \n",
       "3           [16, 35, 10751]    862                en   \n",
       "4             [28, 878, 12]  27205                en   \n",
       "5           [12, 14, 10751]  32657                en   \n",
       "6         [28, 12, 14, 878]  19995                en   \n",
       "7           [16, 10751, 35]  10193                en   \n",
       "8           [16, 10751, 35]  20352                en   \n",
       "9  [16, 28, 35, 10751, 878]  38055                en   \n",
       "\n",
       "                                      original_title  popularity release_date  \\\n",
       "0       Harry Potter and the Deathly Hallows: Part 1      33.533   2010-11-19   \n",
       "1                           How to Train Your Dragon      28.734   2010-03-26   \n",
       "2                                         Iron Man 2      28.515   2010-05-07   \n",
       "3                                          Toy Story      28.005   1995-11-22   \n",
       "4                                          Inception      27.920   2010-07-16   \n",
       "5  Percy Jackson & the Olympians: The Lightning T...      26.691   2010-02-11   \n",
       "6                                             Avatar      26.526   2009-12-18   \n",
       "7                                        Toy Story 3      24.445   2010-06-17   \n",
       "8                                      Despicable Me      23.673   2010-07-09   \n",
       "9                                           Megamind      22.855   2010-11-04   \n",
       "\n",
       "                                               title  vote_average  vote_count  \n",
       "0       Harry Potter and the Deathly Hallows: Part 1           7.7       10788  \n",
       "1                           How to Train Your Dragon           7.7        7610  \n",
       "2                                         Iron Man 2           6.8       12368  \n",
       "3                                          Toy Story           7.9       10174  \n",
       "4                                          Inception           8.3       22186  \n",
       "5  Percy Jackson & the Olympians: The Lightning T...           6.1        4229  \n",
       "6                                             Avatar           7.4       18676  \n",
       "7                                        Toy Story 3           7.7        8340  \n",
       "8                                      Despicable Me           7.2       10057  \n",
       "9                                           Megamind           6.8        3635  "
      ]
     },
     "execution_count": 7,
     "metadata": {},
     "output_type": "execute_result"
    }
   ],
   "source": [
    "tmdb_movies=pd.read_csv(\"FILES/tmdb.movies.csv\", index_col=0)\n",
    "tmdb_movies.head(10)"
   ]
  },
  {
   "cell_type": "code",
   "execution_count": 15,
   "id": "ece22709-bdfc-4ac3-b634-c4cffc1b72d1",
   "metadata": {},
   "outputs": [
    {
     "data": {
      "text/plain": [
       "(26517, 9)"
      ]
     },
     "execution_count": 15,
     "metadata": {},
     "output_type": "execute_result"
    }
   ],
   "source": [
    "tmdb_movies.shape"
   ]
  },
  {
   "cell_type": "code",
   "execution_count": 11,
   "id": "86033d41-ef3e-4dbe-9568-799aa83d8776",
   "metadata": {},
   "outputs": [
    {
     "name": "stdout",
     "output_type": "stream",
     "text": [
      "<class 'pandas.core.frame.DataFrame'>\n",
      "Index: 26517 entries, 0 to 26516\n",
      "Data columns (total 9 columns):\n",
      " #   Column             Non-Null Count  Dtype  \n",
      "---  ------             --------------  -----  \n",
      " 0   genre_ids          26517 non-null  object \n",
      " 1   id                 26517 non-null  int64  \n",
      " 2   original_language  26517 non-null  object \n",
      " 3   original_title     26517 non-null  object \n",
      " 4   popularity         26517 non-null  float64\n",
      " 5   release_date       26517 non-null  object \n",
      " 6   title              26517 non-null  object \n",
      " 7   vote_average       26517 non-null  float64\n",
      " 8   vote_count         26517 non-null  int64  \n",
      "dtypes: float64(2), int64(2), object(5)\n",
      "memory usage: 2.0+ MB\n"
     ]
    }
   ],
   "source": [
    "tmdb_movies.info()"
   ]
  },
  {
   "cell_type": "markdown",
   "id": "b667be73-eaa9-4254-8a51-c4bc695a9b80",
   "metadata": {},
   "source": [
    "<h4>Our data has 26517 row data and 10 colmns </h4>"
   ]
  },
  {
   "cell_type": "markdown",
   "id": "bb1225b4-6fea-40e5-aa94-fede5a1bb4a9",
   "metadata": {},
   "source": [
    "<h3><b>3.1 We need drop other columns</b></h3>"
   ]
  },
  {
   "cell_type": "code",
   "execution_count": 16,
   "id": "b0adfbfc-6ade-4262-a79b-36f47e183229",
   "metadata": {},
   "outputs": [],
   "source": [
    "tmdb_movies.drop(columns=[\"original_language\",\"genre_ids\",\"original_title\",\"id\"],inplace=True)"
   ]
  },
  {
   "cell_type": "code",
   "execution_count": 17,
   "id": "23ce73b0-9716-4fcd-9815-2f418960b54d",
   "metadata": {},
   "outputs": [
    {
     "data": {
      "text/html": [
       "<div>\n",
       "<style scoped>\n",
       "    .dataframe tbody tr th:only-of-type {\n",
       "        vertical-align: middle;\n",
       "    }\n",
       "\n",
       "    .dataframe tbody tr th {\n",
       "        vertical-align: top;\n",
       "    }\n",
       "\n",
       "    .dataframe thead th {\n",
       "        text-align: right;\n",
       "    }\n",
       "</style>\n",
       "<table border=\"1\" class=\"dataframe\">\n",
       "  <thead>\n",
       "    <tr style=\"text-align: right;\">\n",
       "      <th></th>\n",
       "      <th>popularity</th>\n",
       "      <th>release_date</th>\n",
       "      <th>title</th>\n",
       "      <th>vote_average</th>\n",
       "      <th>vote_count</th>\n",
       "    </tr>\n",
       "  </thead>\n",
       "  <tbody>\n",
       "    <tr>\n",
       "      <th>0</th>\n",
       "      <td>33.533</td>\n",
       "      <td>2010-11-19</td>\n",
       "      <td>Harry Potter and the Deathly Hallows: Part 1</td>\n",
       "      <td>7.7</td>\n",
       "      <td>10788</td>\n",
       "    </tr>\n",
       "    <tr>\n",
       "      <th>1</th>\n",
       "      <td>28.734</td>\n",
       "      <td>2010-03-26</td>\n",
       "      <td>How to Train Your Dragon</td>\n",
       "      <td>7.7</td>\n",
       "      <td>7610</td>\n",
       "    </tr>\n",
       "    <tr>\n",
       "      <th>2</th>\n",
       "      <td>28.515</td>\n",
       "      <td>2010-05-07</td>\n",
       "      <td>Iron Man 2</td>\n",
       "      <td>6.8</td>\n",
       "      <td>12368</td>\n",
       "    </tr>\n",
       "    <tr>\n",
       "      <th>3</th>\n",
       "      <td>28.005</td>\n",
       "      <td>1995-11-22</td>\n",
       "      <td>Toy Story</td>\n",
       "      <td>7.9</td>\n",
       "      <td>10174</td>\n",
       "    </tr>\n",
       "    <tr>\n",
       "      <th>4</th>\n",
       "      <td>27.920</td>\n",
       "      <td>2010-07-16</td>\n",
       "      <td>Inception</td>\n",
       "      <td>8.3</td>\n",
       "      <td>22186</td>\n",
       "    </tr>\n",
       "    <tr>\n",
       "      <th>...</th>\n",
       "      <td>...</td>\n",
       "      <td>...</td>\n",
       "      <td>...</td>\n",
       "      <td>...</td>\n",
       "      <td>...</td>\n",
       "    </tr>\n",
       "    <tr>\n",
       "      <th>26512</th>\n",
       "      <td>0.600</td>\n",
       "      <td>2018-10-13</td>\n",
       "      <td>Laboratory Conditions</td>\n",
       "      <td>0.0</td>\n",
       "      <td>1</td>\n",
       "    </tr>\n",
       "    <tr>\n",
       "      <th>26513</th>\n",
       "      <td>0.600</td>\n",
       "      <td>2018-05-01</td>\n",
       "      <td>_EXHIBIT_84xxx_</td>\n",
       "      <td>0.0</td>\n",
       "      <td>1</td>\n",
       "    </tr>\n",
       "    <tr>\n",
       "      <th>26514</th>\n",
       "      <td>0.600</td>\n",
       "      <td>2018-10-01</td>\n",
       "      <td>The Last One</td>\n",
       "      <td>0.0</td>\n",
       "      <td>1</td>\n",
       "    </tr>\n",
       "    <tr>\n",
       "      <th>26515</th>\n",
       "      <td>0.600</td>\n",
       "      <td>2018-06-22</td>\n",
       "      <td>Trailer Made</td>\n",
       "      <td>0.0</td>\n",
       "      <td>1</td>\n",
       "    </tr>\n",
       "    <tr>\n",
       "      <th>26516</th>\n",
       "      <td>0.600</td>\n",
       "      <td>2018-10-05</td>\n",
       "      <td>The Church</td>\n",
       "      <td>0.0</td>\n",
       "      <td>1</td>\n",
       "    </tr>\n",
       "  </tbody>\n",
       "</table>\n",
       "<p>26517 rows × 5 columns</p>\n",
       "</div>"
      ],
      "text/plain": [
       "       popularity release_date                                         title  \\\n",
       "0          33.533   2010-11-19  Harry Potter and the Deathly Hallows: Part 1   \n",
       "1          28.734   2010-03-26                      How to Train Your Dragon   \n",
       "2          28.515   2010-05-07                                    Iron Man 2   \n",
       "3          28.005   1995-11-22                                     Toy Story   \n",
       "4          27.920   2010-07-16                                     Inception   \n",
       "...           ...          ...                                           ...   \n",
       "26512       0.600   2018-10-13                         Laboratory Conditions   \n",
       "26513       0.600   2018-05-01                               _EXHIBIT_84xxx_   \n",
       "26514       0.600   2018-10-01                                  The Last One   \n",
       "26515       0.600   2018-06-22                                  Trailer Made   \n",
       "26516       0.600   2018-10-05                                    The Church   \n",
       "\n",
       "       vote_average  vote_count  \n",
       "0               7.7       10788  \n",
       "1               7.7        7610  \n",
       "2               6.8       12368  \n",
       "3               7.9       10174  \n",
       "4               8.3       22186  \n",
       "...             ...         ...  \n",
       "26512           0.0           1  \n",
       "26513           0.0           1  \n",
       "26514           0.0           1  \n",
       "26515           0.0           1  \n",
       "26516           0.0           1  \n",
       "\n",
       "[26517 rows x 5 columns]"
      ]
     },
     "execution_count": 17,
     "metadata": {},
     "output_type": "execute_result"
    }
   ],
   "source": [
    "tmdb_movies"
   ]
  },
  {
   "cell_type": "code",
   "execution_count": 18,
   "id": "18ca2b25-6426-4989-8222-ad88f5e1bb73",
   "metadata": {},
   "outputs": [
    {
     "data": {
      "text/plain": [
       "popularity      False\n",
       "release_date    False\n",
       "title           False\n",
       "vote_average    False\n",
       "vote_count      False\n",
       "dtype: bool"
      ]
     },
     "execution_count": 18,
     "metadata": {},
     "output_type": "execute_result"
    }
   ],
   "source": [
    "tmdb_movies.isna().max()"
   ]
  },
  {
   "cell_type": "markdown",
   "id": "54f9270f-5ebe-491c-896c-de9c4a08ed19",
   "metadata": {},
   "source": [
    "<h4>We dont have any null valus from our data set </h4>"
   ]
  },
  {
   "cell_type": "markdown",
   "id": "8c21be8f-a4d6-4512-b418-1db05506a3a4",
   "metadata": {},
   "source": [
    "<h3><b>3.2 Checking of the Duplicates</b></h3>"
   ]
  },
  {
   "cell_type": "code",
   "execution_count": 19,
   "id": "6cbc7574-83fc-4628-9018-5d9f1ba35717",
   "metadata": {},
   "outputs": [
    {
     "data": {
      "text/plain": [
       "False    25497\n",
       "True      1020\n",
       "Name: count, dtype: int64"
      ]
     },
     "execution_count": 19,
     "metadata": {},
     "output_type": "execute_result"
    }
   ],
   "source": [
    "tmdb_movies.duplicated().value_counts()"
   ]
  },
  {
   "cell_type": "code",
   "execution_count": 20,
   "id": "8261db20-a708-43c3-a81d-c8fc287fbeb2",
   "metadata": {},
   "outputs": [],
   "source": [
    "#dropping duplicates from the data set\n",
    "tmdb_movies.drop_duplicates(inplace=True)"
   ]
  },
  {
   "cell_type": "code",
   "execution_count": 21,
   "id": "48aecaff-dfa1-4e1d-8658-1aee54fab795",
   "metadata": {},
   "outputs": [
    {
     "data": {
      "text/plain": [
       "False    25497\n",
       "Name: count, dtype: int64"
      ]
     },
     "execution_count": 21,
     "metadata": {},
     "output_type": "execute_result"
    }
   ],
   "source": [
    "tmdb_movies.duplicated().value_counts()"
   ]
  },
  {
   "cell_type": "markdown",
   "id": "6086c121-6b68-4a44-b8c9-d14e43fe8ee2",
   "metadata": {},
   "source": [
    "<h4>All duplicated have been drops from the data set\n",
    "</h4>"
   ]
  },
  {
   "cell_type": "markdown",
   "id": "f772d9f4-d821-43d3-b9d8-791a016d4e7b",
   "metadata": {},
   "source": [
    "<h3><b>3.3 Merging the two dataFrames, tmdb_movies and movies_gross</b></h3>"
   ]
  },
  {
   "cell_type": "code",
   "execution_count": 22,
   "id": "59107046-a7a6-4e0f-a75d-df00ed41a483",
   "metadata": {},
   "outputs": [
    {
     "data": {
      "text/html": [
       "<div>\n",
       "<style scoped>\n",
       "    .dataframe tbody tr th:only-of-type {\n",
       "        vertical-align: middle;\n",
       "    }\n",
       "\n",
       "    .dataframe tbody tr th {\n",
       "        vertical-align: top;\n",
       "    }\n",
       "\n",
       "    .dataframe thead th {\n",
       "        text-align: right;\n",
       "    }\n",
       "</style>\n",
       "<table border=\"1\" class=\"dataframe\">\n",
       "  <thead>\n",
       "    <tr style=\"text-align: right;\">\n",
       "      <th></th>\n",
       "      <th>popularity</th>\n",
       "      <th>release_date</th>\n",
       "      <th>title</th>\n",
       "      <th>vote_average</th>\n",
       "      <th>vote_count</th>\n",
       "      <th>studio</th>\n",
       "      <th>domestic_gross</th>\n",
       "      <th>foreign_gross</th>\n",
       "      <th>year</th>\n",
       "    </tr>\n",
       "  </thead>\n",
       "  <tbody>\n",
       "    <tr>\n",
       "      <th>0</th>\n",
       "      <td>28.734</td>\n",
       "      <td>2010-03-26</td>\n",
       "      <td>How to Train Your Dragon</td>\n",
       "      <td>7.7</td>\n",
       "      <td>7610</td>\n",
       "      <td>P/DW</td>\n",
       "      <td>217600000.0</td>\n",
       "      <td>277300000.0</td>\n",
       "      <td>2010</td>\n",
       "    </tr>\n",
       "    <tr>\n",
       "      <th>1</th>\n",
       "      <td>28.515</td>\n",
       "      <td>2010-05-07</td>\n",
       "      <td>Iron Man 2</td>\n",
       "      <td>6.8</td>\n",
       "      <td>12368</td>\n",
       "      <td>Par.</td>\n",
       "      <td>312400000.0</td>\n",
       "      <td>311500000.0</td>\n",
       "      <td>2010</td>\n",
       "    </tr>\n",
       "    <tr>\n",
       "      <th>2</th>\n",
       "      <td>27.920</td>\n",
       "      <td>2010-07-16</td>\n",
       "      <td>Inception</td>\n",
       "      <td>8.3</td>\n",
       "      <td>22186</td>\n",
       "      <td>WB</td>\n",
       "      <td>292600000.0</td>\n",
       "      <td>535700000.0</td>\n",
       "      <td>2010</td>\n",
       "    </tr>\n",
       "    <tr>\n",
       "      <th>3</th>\n",
       "      <td>24.445</td>\n",
       "      <td>2010-06-17</td>\n",
       "      <td>Toy Story 3</td>\n",
       "      <td>7.7</td>\n",
       "      <td>8340</td>\n",
       "      <td>BV</td>\n",
       "      <td>415000000.0</td>\n",
       "      <td>652000000.0</td>\n",
       "      <td>2010</td>\n",
       "    </tr>\n",
       "    <tr>\n",
       "      <th>4</th>\n",
       "      <td>23.673</td>\n",
       "      <td>2010-07-09</td>\n",
       "      <td>Despicable Me</td>\n",
       "      <td>7.2</td>\n",
       "      <td>10057</td>\n",
       "      <td>Uni.</td>\n",
       "      <td>251500000.0</td>\n",
       "      <td>291600000.0</td>\n",
       "      <td>2010</td>\n",
       "    </tr>\n",
       "    <tr>\n",
       "      <th>...</th>\n",
       "      <td>...</td>\n",
       "      <td>...</td>\n",
       "      <td>...</td>\n",
       "      <td>...</td>\n",
       "      <td>...</td>\n",
       "      <td>...</td>\n",
       "      <td>...</td>\n",
       "      <td>...</td>\n",
       "      <td>...</td>\n",
       "    </tr>\n",
       "    <tr>\n",
       "      <th>2451</th>\n",
       "      <td>2.903</td>\n",
       "      <td>2018-11-30</td>\n",
       "      <td>Elliot: The Littlest Reindeer</td>\n",
       "      <td>3.4</td>\n",
       "      <td>7</td>\n",
       "      <td>Scre.</td>\n",
       "      <td>24300.0</td>\n",
       "      <td>18700000.0</td>\n",
       "      <td>2018</td>\n",
       "    </tr>\n",
       "    <tr>\n",
       "      <th>2452</th>\n",
       "      <td>2.707</td>\n",
       "      <td>2018-02-02</td>\n",
       "      <td>Bilal: A New Breed of Hero</td>\n",
       "      <td>6.8</td>\n",
       "      <td>54</td>\n",
       "      <td>VE</td>\n",
       "      <td>491000.0</td>\n",
       "      <td>1700000.0</td>\n",
       "      <td>2018</td>\n",
       "    </tr>\n",
       "    <tr>\n",
       "      <th>2453</th>\n",
       "      <td>2.550</td>\n",
       "      <td>2018-02-09</td>\n",
       "      <td>La Boda de Valentina</td>\n",
       "      <td>6.3</td>\n",
       "      <td>7</td>\n",
       "      <td>PNT</td>\n",
       "      <td>2800000.0</td>\n",
       "      <td>18700000.0</td>\n",
       "      <td>2018</td>\n",
       "    </tr>\n",
       "    <tr>\n",
       "      <th>2454</th>\n",
       "      <td>2.276</td>\n",
       "      <td>2018-01-12</td>\n",
       "      <td>Mukkabaaz</td>\n",
       "      <td>7.5</td>\n",
       "      <td>18</td>\n",
       "      <td>Eros</td>\n",
       "      <td>75900.0</td>\n",
       "      <td>18700000.0</td>\n",
       "      <td>2018</td>\n",
       "    </tr>\n",
       "    <tr>\n",
       "      <th>2455</th>\n",
       "      <td>0.600</td>\n",
       "      <td>2018-11-09</td>\n",
       "      <td>Last Letter</td>\n",
       "      <td>6.0</td>\n",
       "      <td>1</td>\n",
       "      <td>CL</td>\n",
       "      <td>181000.0</td>\n",
       "      <td>18700000.0</td>\n",
       "      <td>2018</td>\n",
       "    </tr>\n",
       "  </tbody>\n",
       "</table>\n",
       "<p>2456 rows × 9 columns</p>\n",
       "</div>"
      ],
      "text/plain": [
       "      popularity release_date                          title  vote_average  \\\n",
       "0         28.734   2010-03-26       How to Train Your Dragon           7.7   \n",
       "1         28.515   2010-05-07                     Iron Man 2           6.8   \n",
       "2         27.920   2010-07-16                      Inception           8.3   \n",
       "3         24.445   2010-06-17                    Toy Story 3           7.7   \n",
       "4         23.673   2010-07-09                  Despicable Me           7.2   \n",
       "...          ...          ...                            ...           ...   \n",
       "2451       2.903   2018-11-30  Elliot: The Littlest Reindeer           3.4   \n",
       "2452       2.707   2018-02-02     Bilal: A New Breed of Hero           6.8   \n",
       "2453       2.550   2018-02-09           La Boda de Valentina           6.3   \n",
       "2454       2.276   2018-01-12                      Mukkabaaz           7.5   \n",
       "2455       0.600   2018-11-09                    Last Letter           6.0   \n",
       "\n",
       "      vote_count studio  domestic_gross  foreign_gross  year  \n",
       "0           7610   P/DW     217600000.0    277300000.0  2010  \n",
       "1          12368   Par.     312400000.0    311500000.0  2010  \n",
       "2          22186     WB     292600000.0    535700000.0  2010  \n",
       "3           8340     BV     415000000.0    652000000.0  2010  \n",
       "4          10057   Uni.     251500000.0    291600000.0  2010  \n",
       "...          ...    ...             ...            ...   ...  \n",
       "2451           7  Scre.         24300.0     18700000.0  2018  \n",
       "2452          54     VE        491000.0      1700000.0  2018  \n",
       "2453           7    PNT       2800000.0     18700000.0  2018  \n",
       "2454          18   Eros         75900.0     18700000.0  2018  \n",
       "2455           1     CL        181000.0     18700000.0  2018  \n",
       "\n",
       "[2456 rows x 9 columns]"
      ]
     },
     "execution_count": 22,
     "metadata": {},
     "output_type": "execute_result"
    }
   ],
   "source": [
    "mg_data=pd.merge(tmdb_movies,movie_gross,on=\"title\")\n",
    "mg_data"
   ]
  },
  {
   "cell_type": "code",
   "execution_count": 118,
   "id": "0dcc6c1a-7da1-453a-865a-48b7494745ad",
   "metadata": {},
   "outputs": [],
   "source": [
    "#coverting the dataFrame to excel file\n",
    "mg_data.to_excel('movie_final.xlsx', index=False)"
   ]
  },
  {
   "cell_type": "markdown",
   "id": "be9a3b54-300d-4c02-ac10-6fa443fe3f20",
   "metadata": {},
   "source": [
    "<h3><b>3.4. Swapping title as the main index </b></h3>"
   ]
  },
  {
   "cell_type": "code",
   "execution_count": 23,
   "id": "a20a2c94-650f-48ac-b431-b1760abced15",
   "metadata": {},
   "outputs": [
    {
     "data": {
      "text/html": [
       "<div>\n",
       "<style scoped>\n",
       "    .dataframe tbody tr th:only-of-type {\n",
       "        vertical-align: middle;\n",
       "    }\n",
       "\n",
       "    .dataframe tbody tr th {\n",
       "        vertical-align: top;\n",
       "    }\n",
       "\n",
       "    .dataframe thead th {\n",
       "        text-align: right;\n",
       "    }\n",
       "</style>\n",
       "<table border=\"1\" class=\"dataframe\">\n",
       "  <thead>\n",
       "    <tr style=\"text-align: right;\">\n",
       "      <th></th>\n",
       "      <th>title</th>\n",
       "      <th>popularity</th>\n",
       "      <th>release_date</th>\n",
       "      <th>vote_average</th>\n",
       "      <th>vote_count</th>\n",
       "      <th>studio</th>\n",
       "      <th>domestic_gross</th>\n",
       "      <th>foreign_gross</th>\n",
       "      <th>year</th>\n",
       "    </tr>\n",
       "  </thead>\n",
       "  <tbody>\n",
       "    <tr>\n",
       "      <th>0</th>\n",
       "      <td>How to Train Your Dragon</td>\n",
       "      <td>28.734</td>\n",
       "      <td>2010-03-26</td>\n",
       "      <td>7.7</td>\n",
       "      <td>7610</td>\n",
       "      <td>P/DW</td>\n",
       "      <td>217600000.0</td>\n",
       "      <td>277300000.0</td>\n",
       "      <td>2010</td>\n",
       "    </tr>\n",
       "    <tr>\n",
       "      <th>1</th>\n",
       "      <td>Iron Man 2</td>\n",
       "      <td>28.515</td>\n",
       "      <td>2010-05-07</td>\n",
       "      <td>6.8</td>\n",
       "      <td>12368</td>\n",
       "      <td>Par.</td>\n",
       "      <td>312400000.0</td>\n",
       "      <td>311500000.0</td>\n",
       "      <td>2010</td>\n",
       "    </tr>\n",
       "    <tr>\n",
       "      <th>2</th>\n",
       "      <td>Inception</td>\n",
       "      <td>27.920</td>\n",
       "      <td>2010-07-16</td>\n",
       "      <td>8.3</td>\n",
       "      <td>22186</td>\n",
       "      <td>WB</td>\n",
       "      <td>292600000.0</td>\n",
       "      <td>535700000.0</td>\n",
       "      <td>2010</td>\n",
       "    </tr>\n",
       "    <tr>\n",
       "      <th>3</th>\n",
       "      <td>Toy Story 3</td>\n",
       "      <td>24.445</td>\n",
       "      <td>2010-06-17</td>\n",
       "      <td>7.7</td>\n",
       "      <td>8340</td>\n",
       "      <td>BV</td>\n",
       "      <td>415000000.0</td>\n",
       "      <td>652000000.0</td>\n",
       "      <td>2010</td>\n",
       "    </tr>\n",
       "    <tr>\n",
       "      <th>4</th>\n",
       "      <td>Despicable Me</td>\n",
       "      <td>23.673</td>\n",
       "      <td>2010-07-09</td>\n",
       "      <td>7.2</td>\n",
       "      <td>10057</td>\n",
       "      <td>Uni.</td>\n",
       "      <td>251500000.0</td>\n",
       "      <td>291600000.0</td>\n",
       "      <td>2010</td>\n",
       "    </tr>\n",
       "    <tr>\n",
       "      <th>...</th>\n",
       "      <td>...</td>\n",
       "      <td>...</td>\n",
       "      <td>...</td>\n",
       "      <td>...</td>\n",
       "      <td>...</td>\n",
       "      <td>...</td>\n",
       "      <td>...</td>\n",
       "      <td>...</td>\n",
       "      <td>...</td>\n",
       "    </tr>\n",
       "    <tr>\n",
       "      <th>2451</th>\n",
       "      <td>Elliot: The Littlest Reindeer</td>\n",
       "      <td>2.903</td>\n",
       "      <td>2018-11-30</td>\n",
       "      <td>3.4</td>\n",
       "      <td>7</td>\n",
       "      <td>Scre.</td>\n",
       "      <td>24300.0</td>\n",
       "      <td>18700000.0</td>\n",
       "      <td>2018</td>\n",
       "    </tr>\n",
       "    <tr>\n",
       "      <th>2452</th>\n",
       "      <td>Bilal: A New Breed of Hero</td>\n",
       "      <td>2.707</td>\n",
       "      <td>2018-02-02</td>\n",
       "      <td>6.8</td>\n",
       "      <td>54</td>\n",
       "      <td>VE</td>\n",
       "      <td>491000.0</td>\n",
       "      <td>1700000.0</td>\n",
       "      <td>2018</td>\n",
       "    </tr>\n",
       "    <tr>\n",
       "      <th>2453</th>\n",
       "      <td>La Boda de Valentina</td>\n",
       "      <td>2.550</td>\n",
       "      <td>2018-02-09</td>\n",
       "      <td>6.3</td>\n",
       "      <td>7</td>\n",
       "      <td>PNT</td>\n",
       "      <td>2800000.0</td>\n",
       "      <td>18700000.0</td>\n",
       "      <td>2018</td>\n",
       "    </tr>\n",
       "    <tr>\n",
       "      <th>2454</th>\n",
       "      <td>Mukkabaaz</td>\n",
       "      <td>2.276</td>\n",
       "      <td>2018-01-12</td>\n",
       "      <td>7.5</td>\n",
       "      <td>18</td>\n",
       "      <td>Eros</td>\n",
       "      <td>75900.0</td>\n",
       "      <td>18700000.0</td>\n",
       "      <td>2018</td>\n",
       "    </tr>\n",
       "    <tr>\n",
       "      <th>2455</th>\n",
       "      <td>Last Letter</td>\n",
       "      <td>0.600</td>\n",
       "      <td>2018-11-09</td>\n",
       "      <td>6.0</td>\n",
       "      <td>1</td>\n",
       "      <td>CL</td>\n",
       "      <td>181000.0</td>\n",
       "      <td>18700000.0</td>\n",
       "      <td>2018</td>\n",
       "    </tr>\n",
       "  </tbody>\n",
       "</table>\n",
       "<p>2456 rows × 9 columns</p>\n",
       "</div>"
      ],
      "text/plain": [
       "                              title  popularity release_date  vote_average  \\\n",
       "0          How to Train Your Dragon      28.734   2010-03-26           7.7   \n",
       "1                        Iron Man 2      28.515   2010-05-07           6.8   \n",
       "2                         Inception      27.920   2010-07-16           8.3   \n",
       "3                       Toy Story 3      24.445   2010-06-17           7.7   \n",
       "4                     Despicable Me      23.673   2010-07-09           7.2   \n",
       "...                             ...         ...          ...           ...   \n",
       "2451  Elliot: The Littlest Reindeer       2.903   2018-11-30           3.4   \n",
       "2452     Bilal: A New Breed of Hero       2.707   2018-02-02           6.8   \n",
       "2453           La Boda de Valentina       2.550   2018-02-09           6.3   \n",
       "2454                      Mukkabaaz       2.276   2018-01-12           7.5   \n",
       "2455                    Last Letter       0.600   2018-11-09           6.0   \n",
       "\n",
       "      vote_count studio  domestic_gross  foreign_gross  year  \n",
       "0           7610   P/DW     217600000.0    277300000.0  2010  \n",
       "1          12368   Par.     312400000.0    311500000.0  2010  \n",
       "2          22186     WB     292600000.0    535700000.0  2010  \n",
       "3           8340     BV     415000000.0    652000000.0  2010  \n",
       "4          10057   Uni.     251500000.0    291600000.0  2010  \n",
       "...          ...    ...             ...            ...   ...  \n",
       "2451           7  Scre.         24300.0     18700000.0  2018  \n",
       "2452          54     VE        491000.0      1700000.0  2018  \n",
       "2453           7    PNT       2800000.0     18700000.0  2018  \n",
       "2454          18   Eros         75900.0     18700000.0  2018  \n",
       "2455           1     CL        181000.0     18700000.0  2018  \n",
       "\n",
       "[2456 rows x 9 columns]"
      ]
     },
     "execution_count": 23,
     "metadata": {},
     "output_type": "execute_result"
    }
   ],
   "source": [
    "mg_data.set_index(\"title\").reset_index(drop=False)\n"
   ]
  },
  {
   "cell_type": "markdown",
   "id": "ed46e673-165d-4e4a-aae1-052998a49fd4",
   "metadata": {},
   "source": [
    "<h3><b>3.4 Production_budget data set</b></h3>"
   ]
  },
  {
   "cell_type": "code",
   "execution_count": 12,
   "id": "95a110f9-fe37-409f-93ab-151915a095ef",
   "metadata": {},
   "outputs": [
    {
     "data": {
      "text/html": [
       "<div>\n",
       "<style scoped>\n",
       "    .dataframe tbody tr th:only-of-type {\n",
       "        vertical-align: middle;\n",
       "    }\n",
       "\n",
       "    .dataframe tbody tr th {\n",
       "        vertical-align: top;\n",
       "    }\n",
       "\n",
       "    .dataframe thead th {\n",
       "        text-align: right;\n",
       "    }\n",
       "</style>\n",
       "<table border=\"1\" class=\"dataframe\">\n",
       "  <thead>\n",
       "    <tr style=\"text-align: right;\">\n",
       "      <th></th>\n",
       "      <th>release_date</th>\n",
       "      <th>movie</th>\n",
       "      <th>production_budget</th>\n",
       "      <th>domestic_gross</th>\n",
       "      <th>worldwide_gross</th>\n",
       "    </tr>\n",
       "    <tr>\n",
       "      <th>id</th>\n",
       "      <th></th>\n",
       "      <th></th>\n",
       "      <th></th>\n",
       "      <th></th>\n",
       "      <th></th>\n",
       "    </tr>\n",
       "  </thead>\n",
       "  <tbody>\n",
       "    <tr>\n",
       "      <th>1</th>\n",
       "      <td>Dec 18, 2009</td>\n",
       "      <td>Avatar</td>\n",
       "      <td>$425,000,000</td>\n",
       "      <td>$760,507,625</td>\n",
       "      <td>$2,776,345,279</td>\n",
       "    </tr>\n",
       "    <tr>\n",
       "      <th>2</th>\n",
       "      <td>May 20, 2011</td>\n",
       "      <td>Pirates of the Caribbean: On Stranger Tides</td>\n",
       "      <td>$410,600,000</td>\n",
       "      <td>$241,063,875</td>\n",
       "      <td>$1,045,663,875</td>\n",
       "    </tr>\n",
       "    <tr>\n",
       "      <th>3</th>\n",
       "      <td>Jun 7, 2019</td>\n",
       "      <td>Dark Phoenix</td>\n",
       "      <td>$350,000,000</td>\n",
       "      <td>$42,762,350</td>\n",
       "      <td>$149,762,350</td>\n",
       "    </tr>\n",
       "    <tr>\n",
       "      <th>4</th>\n",
       "      <td>May 1, 2015</td>\n",
       "      <td>Avengers: Age of Ultron</td>\n",
       "      <td>$330,600,000</td>\n",
       "      <td>$459,005,868</td>\n",
       "      <td>$1,403,013,963</td>\n",
       "    </tr>\n",
       "    <tr>\n",
       "      <th>5</th>\n",
       "      <td>Dec 15, 2017</td>\n",
       "      <td>Star Wars Ep. VIII: The Last Jedi</td>\n",
       "      <td>$317,000,000</td>\n",
       "      <td>$620,181,382</td>\n",
       "      <td>$1,316,721,747</td>\n",
       "    </tr>\n",
       "    <tr>\n",
       "      <th>...</th>\n",
       "      <td>...</td>\n",
       "      <td>...</td>\n",
       "      <td>...</td>\n",
       "      <td>...</td>\n",
       "      <td>...</td>\n",
       "    </tr>\n",
       "    <tr>\n",
       "      <th>78</th>\n",
       "      <td>Dec 31, 2018</td>\n",
       "      <td>Red 11</td>\n",
       "      <td>$7,000</td>\n",
       "      <td>$0</td>\n",
       "      <td>$0</td>\n",
       "    </tr>\n",
       "    <tr>\n",
       "      <th>79</th>\n",
       "      <td>Apr 2, 1999</td>\n",
       "      <td>Following</td>\n",
       "      <td>$6,000</td>\n",
       "      <td>$48,482</td>\n",
       "      <td>$240,495</td>\n",
       "    </tr>\n",
       "    <tr>\n",
       "      <th>80</th>\n",
       "      <td>Jul 13, 2005</td>\n",
       "      <td>Return to the Land of Wonders</td>\n",
       "      <td>$5,000</td>\n",
       "      <td>$1,338</td>\n",
       "      <td>$1,338</td>\n",
       "    </tr>\n",
       "    <tr>\n",
       "      <th>81</th>\n",
       "      <td>Sep 29, 2015</td>\n",
       "      <td>A Plague So Pleasant</td>\n",
       "      <td>$1,400</td>\n",
       "      <td>$0</td>\n",
       "      <td>$0</td>\n",
       "    </tr>\n",
       "    <tr>\n",
       "      <th>82</th>\n",
       "      <td>Aug 5, 2005</td>\n",
       "      <td>My Date With Drew</td>\n",
       "      <td>$1,100</td>\n",
       "      <td>$181,041</td>\n",
       "      <td>$181,041</td>\n",
       "    </tr>\n",
       "  </tbody>\n",
       "</table>\n",
       "<p>5782 rows × 5 columns</p>\n",
       "</div>"
      ],
      "text/plain": [
       "    release_date                                        movie  \\\n",
       "id                                                              \n",
       "1   Dec 18, 2009                                       Avatar   \n",
       "2   May 20, 2011  Pirates of the Caribbean: On Stranger Tides   \n",
       "3    Jun 7, 2019                                 Dark Phoenix   \n",
       "4    May 1, 2015                      Avengers: Age of Ultron   \n",
       "5   Dec 15, 2017            Star Wars Ep. VIII: The Last Jedi   \n",
       "..           ...                                          ...   \n",
       "78  Dec 31, 2018                                       Red 11   \n",
       "79   Apr 2, 1999                                    Following   \n",
       "80  Jul 13, 2005                Return to the Land of Wonders   \n",
       "81  Sep 29, 2015                         A Plague So Pleasant   \n",
       "82   Aug 5, 2005                            My Date With Drew   \n",
       "\n",
       "   production_budget domestic_gross worldwide_gross  \n",
       "id                                                   \n",
       "1       $425,000,000   $760,507,625  $2,776,345,279  \n",
       "2       $410,600,000   $241,063,875  $1,045,663,875  \n",
       "3       $350,000,000    $42,762,350    $149,762,350  \n",
       "4       $330,600,000   $459,005,868  $1,403,013,963  \n",
       "5       $317,000,000   $620,181,382  $1,316,721,747  \n",
       "..               ...            ...             ...  \n",
       "78            $7,000             $0              $0  \n",
       "79            $6,000        $48,482        $240,495  \n",
       "80            $5,000         $1,338          $1,338  \n",
       "81            $1,400             $0              $0  \n",
       "82            $1,100       $181,041        $181,041  \n",
       "\n",
       "[5782 rows x 5 columns]"
      ]
     },
     "execution_count": 12,
     "metadata": {},
     "output_type": "execute_result"
    }
   ],
   "source": [
    "movie_budget=pd.read_csv(\"FILES/tn.movie_budgets.csv\",index_col=0)\n",
    "movie_budget"
   ]
  },
  {
   "cell_type": "markdown",
   "id": "c4020525-82a6-4feb-8e12-7a0a75a1125b",
   "metadata": {},
   "source": [
    "<h3><b>3.5 Removing null in the data sets</b></h3>"
   ]
  },
  {
   "cell_type": "code",
   "execution_count": 25,
   "id": "a7b75dd8-a0d4-4664-ba21-d75fc68de4eb",
   "metadata": {},
   "outputs": [
    {
     "data": {
      "text/plain": [
       "release_date         False\n",
       "movie                False\n",
       "production_budget    False\n",
       "domestic_gross       False\n",
       "worldwide_gross      False\n",
       "dtype: bool"
      ]
     },
     "execution_count": 25,
     "metadata": {},
     "output_type": "execute_result"
    }
   ],
   "source": [
    "movie_budget.isna().max()"
   ]
  },
  {
   "cell_type": "markdown",
   "id": "f19781f7-aec9-40d0-b5fe-d944e953cba0",
   "metadata": {},
   "source": [
    "<h4>No null in the data set</h4>"
   ]
  },
  {
   "cell_type": "markdown",
   "id": "a987fd15-98f5-472d-90e0-7106584716b7",
   "metadata": {},
   "source": [
    "<h3><B>3.6 Chcking fo the duplicates </B></h3>"
   ]
  },
  {
   "cell_type": "code",
   "execution_count": 26,
   "id": "a8ed8a18-a50b-430e-b4d9-9ec4eaa0c429",
   "metadata": {},
   "outputs": [
    {
     "data": {
      "text/plain": [
       "False    5782\n",
       "Name: count, dtype: int64"
      ]
     },
     "execution_count": 26,
     "metadata": {},
     "output_type": "execute_result"
    }
   ],
   "source": [
    "#checkin of the data sets \n",
    "movie_budget.duplicated().value_counts()"
   ]
  },
  {
   "cell_type": "markdown",
   "id": "f731a42c-0328-4aa2-a986-b5a379833231",
   "metadata": {},
   "source": [
    "<h4>We have no duplicates in the data set</h4>"
   ]
  },
  {
   "cell_type": "markdown",
   "id": "47c2c3d5-9ab8-41eb-9ad6-cc819ea6bb37",
   "metadata": {},
   "source": [
    "<h3><b>3.7 Shape of the Data set\n",
    "</b></h3>"
   ]
  },
  {
   "cell_type": "code",
   "execution_count": 27,
   "id": "08620790-131a-486c-b913-adf8e68d1abb",
   "metadata": {},
   "outputs": [
    {
     "data": {
      "text/plain": [
       "(5782, 5)"
      ]
     },
     "execution_count": 27,
     "metadata": {},
     "output_type": "execute_result"
    }
   ],
   "source": [
    "movie_budget.shape"
   ]
  },
  {
   "cell_type": "code",
   "execution_count": 13,
   "id": "3493f4a8-7a1a-4b32-a1c0-5dfeaff4cf30",
   "metadata": {},
   "outputs": [
    {
     "name": "stdout",
     "output_type": "stream",
     "text": [
      "<class 'pandas.core.frame.DataFrame'>\n",
      "Index: 5782 entries, 1 to 82\n",
      "Data columns (total 5 columns):\n",
      " #   Column             Non-Null Count  Dtype \n",
      "---  ------             --------------  ----- \n",
      " 0   release_date       5782 non-null   object\n",
      " 1   movie              5782 non-null   object\n",
      " 2   production_budget  5782 non-null   object\n",
      " 3   domestic_gross     5782 non-null   object\n",
      " 4   worldwide_gross    5782 non-null   object\n",
      "dtypes: object(5)\n",
      "memory usage: 271.0+ KB\n"
     ]
    }
   ],
   "source": [
    "movie_budget.info()"
   ]
  },
  {
   "cell_type": "markdown",
   "id": "c5082744-810f-4298-b897-12c53cf5c0cf",
   "metadata": {},
   "source": [
    "<h4>we have a row data set of 5782,  and  5 columns </h4>"
   ]
  },
  {
   "cell_type": "markdown",
   "id": "b33b4d14-7509-4794-bfa6-97b8afd83359",
   "metadata": {},
   "source": [
    "<h3><b>3.8 Merging the Movie budget data set and the merged data set(mg_data)</b></h3>"
   ]
  },
  {
   "cell_type": "code",
   "execution_count": 28,
   "id": "1cadbdc7-becc-466c-bee4-cf0ce2068918",
   "metadata": {},
   "outputs": [
    {
     "data": {
      "text/html": [
       "<div>\n",
       "<style scoped>\n",
       "    .dataframe tbody tr th:only-of-type {\n",
       "        vertical-align: middle;\n",
       "    }\n",
       "\n",
       "    .dataframe tbody tr th {\n",
       "        vertical-align: top;\n",
       "    }\n",
       "\n",
       "    .dataframe thead th {\n",
       "        text-align: right;\n",
       "    }\n",
       "</style>\n",
       "<table border=\"1\" class=\"dataframe\">\n",
       "  <thead>\n",
       "    <tr style=\"text-align: right;\">\n",
       "      <th></th>\n",
       "      <th>release_date</th>\n",
       "      <th>movie</th>\n",
       "      <th>production_budget</th>\n",
       "      <th>domestic_gross</th>\n",
       "      <th>worldwide_gross</th>\n",
       "      <th>popularity</th>\n",
       "      <th>title</th>\n",
       "      <th>vote_average</th>\n",
       "      <th>vote_count</th>\n",
       "      <th>studio</th>\n",
       "      <th>foreign_gross</th>\n",
       "      <th>year</th>\n",
       "    </tr>\n",
       "  </thead>\n",
       "  <tbody>\n",
       "    <tr>\n",
       "      <th>8233</th>\n",
       "      <td>2018-11-30</td>\n",
       "      <td>NaN</td>\n",
       "      <td>NaN</td>\n",
       "      <td>24300.0</td>\n",
       "      <td>NaN</td>\n",
       "      <td>2.903</td>\n",
       "      <td>Elliot: The Littlest Reindeer</td>\n",
       "      <td>3.4</td>\n",
       "      <td>7.0</td>\n",
       "      <td>Scre.</td>\n",
       "      <td>18700000.0</td>\n",
       "      <td>2018.0</td>\n",
       "    </tr>\n",
       "    <tr>\n",
       "      <th>8234</th>\n",
       "      <td>2018-02-02</td>\n",
       "      <td>NaN</td>\n",
       "      <td>NaN</td>\n",
       "      <td>491000.0</td>\n",
       "      <td>NaN</td>\n",
       "      <td>2.707</td>\n",
       "      <td>Bilal: A New Breed of Hero</td>\n",
       "      <td>6.8</td>\n",
       "      <td>54.0</td>\n",
       "      <td>VE</td>\n",
       "      <td>1700000.0</td>\n",
       "      <td>2018.0</td>\n",
       "    </tr>\n",
       "    <tr>\n",
       "      <th>8235</th>\n",
       "      <td>2018-02-09</td>\n",
       "      <td>NaN</td>\n",
       "      <td>NaN</td>\n",
       "      <td>2800000.0</td>\n",
       "      <td>NaN</td>\n",
       "      <td>2.550</td>\n",
       "      <td>La Boda de Valentina</td>\n",
       "      <td>6.3</td>\n",
       "      <td>7.0</td>\n",
       "      <td>PNT</td>\n",
       "      <td>18700000.0</td>\n",
       "      <td>2018.0</td>\n",
       "    </tr>\n",
       "    <tr>\n",
       "      <th>8236</th>\n",
       "      <td>2018-01-12</td>\n",
       "      <td>NaN</td>\n",
       "      <td>NaN</td>\n",
       "      <td>75900.0</td>\n",
       "      <td>NaN</td>\n",
       "      <td>2.276</td>\n",
       "      <td>Mukkabaaz</td>\n",
       "      <td>7.5</td>\n",
       "      <td>18.0</td>\n",
       "      <td>Eros</td>\n",
       "      <td>18700000.0</td>\n",
       "      <td>2018.0</td>\n",
       "    </tr>\n",
       "    <tr>\n",
       "      <th>8237</th>\n",
       "      <td>2018-11-09</td>\n",
       "      <td>NaN</td>\n",
       "      <td>NaN</td>\n",
       "      <td>181000.0</td>\n",
       "      <td>NaN</td>\n",
       "      <td>0.600</td>\n",
       "      <td>Last Letter</td>\n",
       "      <td>6.0</td>\n",
       "      <td>1.0</td>\n",
       "      <td>CL</td>\n",
       "      <td>18700000.0</td>\n",
       "      <td>2018.0</td>\n",
       "    </tr>\n",
       "  </tbody>\n",
       "</table>\n",
       "</div>"
      ],
      "text/plain": [
       "     release_date movie production_budget domestic_gross worldwide_gross  \\\n",
       "8233   2018-11-30   NaN               NaN        24300.0             NaN   \n",
       "8234   2018-02-02   NaN               NaN       491000.0             NaN   \n",
       "8235   2018-02-09   NaN               NaN      2800000.0             NaN   \n",
       "8236   2018-01-12   NaN               NaN        75900.0             NaN   \n",
       "8237   2018-11-09   NaN               NaN       181000.0             NaN   \n",
       "\n",
       "      popularity                          title  vote_average  vote_count  \\\n",
       "8233       2.903  Elliot: The Littlest Reindeer           3.4         7.0   \n",
       "8234       2.707     Bilal: A New Breed of Hero           6.8        54.0   \n",
       "8235       2.550           La Boda de Valentina           6.3         7.0   \n",
       "8236       2.276                      Mukkabaaz           7.5        18.0   \n",
       "8237       0.600                    Last Letter           6.0         1.0   \n",
       "\n",
       "     studio  foreign_gross    year  \n",
       "8233  Scre.     18700000.0  2018.0  \n",
       "8234     VE      1700000.0  2018.0  \n",
       "8235    PNT     18700000.0  2018.0  \n",
       "8236   Eros     18700000.0  2018.0  \n",
       "8237     CL     18700000.0  2018.0  "
      ]
     },
     "execution_count": 28,
     "metadata": {},
     "output_type": "execute_result"
    }
   ],
   "source": [
    "big_mg_data=pd.concat([movie_budget,mg_data],ignore_index=True)\n",
    "big_mg_data.tail()"
   ]
  },
  {
   "cell_type": "markdown",
   "id": "24a10832-3fef-414f-869f-8dbbb76c4a82",
   "metadata": {},
   "source": [
    "<h3><b>3.9 Dropping of the null columns from the data set</b></h3>"
   ]
  },
  {
   "cell_type": "code",
   "execution_count": 29,
   "id": "e1ba6561-b8bb-4c0e-9680-64287ca21312",
   "metadata": {},
   "outputs": [
    {
     "data": {
      "text/plain": [
       "release_date            0\n",
       "movie                5782\n",
       "production_budget    5782\n",
       "domestic_gross          0\n",
       "worldwide_gross      5782\n",
       "popularity              0\n",
       "title                   0\n",
       "vote_average            0\n",
       "vote_count              0\n",
       "studio                  0\n",
       "foreign_gross           0\n",
       "year                    0\n",
       "dtype: int64"
      ]
     },
     "execution_count": 29,
     "metadata": {},
     "output_type": "execute_result"
    }
   ],
   "source": [
    "big_mg_data.isnull().idxmax()"
   ]
  },
  {
   "cell_type": "markdown",
   "id": "c10d386d-e5e4-44e6-b8d1-3734bade6904",
   "metadata": {},
   "source": [
    "<h3><b>4.0 Importing of the DATABASE TABLES</b>\n",
    "</h3>"
   ]
  },
  {
   "cell_type": "code",
   "execution_count": 14,
   "id": "f95c6972-92c1-48a2-ad51-b1cbb073f5c3",
   "metadata": {},
   "outputs": [],
   "source": [
    "conn=sqlite3.connect(\"FILES/im.db\")"
   ]
  },
  {
   "cell_type": "code",
   "execution_count": 15,
   "id": "c9c2ad54-70e5-44b0-89d4-00da84b07285",
   "metadata": {},
   "outputs": [],
   "source": [
    "cur=conn.cursor()"
   ]
  },
  {
   "cell_type": "markdown",
   "id": "8b1eba17-79ce-4cf4-b3e7-093de8ceaf7d",
   "metadata": {},
   "source": [
    "<h3><b>4.1 Reading from the database table person\n",
    "</b></h3>"
   ]
  },
  {
   "cell_type": "code",
   "execution_count": 16,
   "id": "0445e6db-dbaf-4f63-bee2-1e06da5e444f",
   "metadata": {},
   "outputs": [
    {
     "data": {
      "text/html": [
       "<div>\n",
       "<style scoped>\n",
       "    .dataframe tbody tr th:only-of-type {\n",
       "        vertical-align: middle;\n",
       "    }\n",
       "\n",
       "    .dataframe tbody tr th {\n",
       "        vertical-align: top;\n",
       "    }\n",
       "\n",
       "    .dataframe thead th {\n",
       "        text-align: right;\n",
       "    }\n",
       "</style>\n",
       "<table border=\"1\" class=\"dataframe\">\n",
       "  <thead>\n",
       "    <tr style=\"text-align: right;\">\n",
       "      <th></th>\n",
       "      <th>person_id</th>\n",
       "      <th>primary_name</th>\n",
       "      <th>primary_profession</th>\n",
       "    </tr>\n",
       "  </thead>\n",
       "  <tbody>\n",
       "    <tr>\n",
       "      <th>0</th>\n",
       "      <td>nm0061671</td>\n",
       "      <td>Mary Ellen Bauder</td>\n",
       "      <td>miscellaneous,production_manager,producer</td>\n",
       "    </tr>\n",
       "    <tr>\n",
       "      <th>1</th>\n",
       "      <td>nm0061865</td>\n",
       "      <td>Joseph Bauer</td>\n",
       "      <td>composer,music_department,sound_department</td>\n",
       "    </tr>\n",
       "    <tr>\n",
       "      <th>2</th>\n",
       "      <td>nm0062070</td>\n",
       "      <td>Bruce Baum</td>\n",
       "      <td>miscellaneous,actor,writer</td>\n",
       "    </tr>\n",
       "    <tr>\n",
       "      <th>3</th>\n",
       "      <td>nm0062195</td>\n",
       "      <td>Axel Baumann</td>\n",
       "      <td>camera_department,cinematographer,art_department</td>\n",
       "    </tr>\n",
       "    <tr>\n",
       "      <th>4</th>\n",
       "      <td>nm0062798</td>\n",
       "      <td>Pete Baxter</td>\n",
       "      <td>production_designer,art_department,set_decorator</td>\n",
       "    </tr>\n",
       "  </tbody>\n",
       "</table>\n",
       "</div>"
      ],
      "text/plain": [
       "   person_id       primary_name  \\\n",
       "0  nm0061671  Mary Ellen Bauder   \n",
       "1  nm0061865       Joseph Bauer   \n",
       "2  nm0062070         Bruce Baum   \n",
       "3  nm0062195       Axel Baumann   \n",
       "4  nm0062798        Pete Baxter   \n",
       "\n",
       "                                 primary_profession  \n",
       "0         miscellaneous,production_manager,producer  \n",
       "1        composer,music_department,sound_department  \n",
       "2                        miscellaneous,actor,writer  \n",
       "3  camera_department,cinematographer,art_department  \n",
       "4  production_designer,art_department,set_decorator  "
      ]
     },
     "execution_count": 16,
     "metadata": {},
     "output_type": "execute_result"
    }
   ],
   "source": [
    "pd.read_sql_query(\"\"\"SELECT * FROM persons\"\"\", conn).head()\n",
    "\n"
   ]
  },
  {
   "cell_type": "markdown",
   "id": "1716b748-9d4a-4ea0-915c-131b7d1d8608",
   "metadata": {},
   "source": [
    "<h3><b>4.2 Dropping the NaN columns</b></h3>"
   ]
  },
  {
   "cell_type": "code",
   "execution_count": 33,
   "id": "7bebe32c-81f4-4337-b3db-b631d11d6462",
   "metadata": {},
   "outputs": [
    {
     "ename": "OperationalError",
     "evalue": "no such column: \"death_year\"",
     "output_type": "error",
     "traceback": [
      "\u001b[0;31m---------------------------------------------------------------------------\u001b[0m",
      "\u001b[0;31mOperationalError\u001b[0m                          Traceback (most recent call last)",
      "Cell \u001b[0;32mIn[33], line 1\u001b[0m\n\u001b[0;32m----> 1\u001b[0m cur\u001b[38;5;241m.\u001b[39mexecute(\u001b[38;5;124m\"\"\"\u001b[39m\u001b[38;5;124mALTER TABLE persons DROP COLUMN death_year \u001b[39m\u001b[38;5;124m\"\"\"\u001b[39m)\n",
      "\u001b[0;31mOperationalError\u001b[0m: no such column: \"death_year\""
     ]
    }
   ],
   "source": [
    "cur.execute(\"\"\"ALTER TABLE persons DROP COLUMN death_year \"\"\")\n",
    "\n"
   ]
  },
  {
   "cell_type": "code",
   "execution_count": 34,
   "id": "619adbfc-a6ad-412c-b3d2-6d18b8d6611b",
   "metadata": {},
   "outputs": [
    {
     "data": {
      "text/html": [
       "<div>\n",
       "<style scoped>\n",
       "    .dataframe tbody tr th:only-of-type {\n",
       "        vertical-align: middle;\n",
       "    }\n",
       "\n",
       "    .dataframe tbody tr th {\n",
       "        vertical-align: top;\n",
       "    }\n",
       "\n",
       "    .dataframe thead th {\n",
       "        text-align: right;\n",
       "    }\n",
       "</style>\n",
       "<table border=\"1\" class=\"dataframe\">\n",
       "  <thead>\n",
       "    <tr style=\"text-align: right;\">\n",
       "      <th></th>\n",
       "      <th>person_id</th>\n",
       "      <th>primary_name</th>\n",
       "      <th>primary_profession</th>\n",
       "    </tr>\n",
       "  </thead>\n",
       "  <tbody>\n",
       "    <tr>\n",
       "      <th>0</th>\n",
       "      <td>nm0061671</td>\n",
       "      <td>Mary Ellen Bauder</td>\n",
       "      <td>miscellaneous,production_manager,producer</td>\n",
       "    </tr>\n",
       "    <tr>\n",
       "      <th>1</th>\n",
       "      <td>nm0061865</td>\n",
       "      <td>Joseph Bauer</td>\n",
       "      <td>composer,music_department,sound_department</td>\n",
       "    </tr>\n",
       "    <tr>\n",
       "      <th>2</th>\n",
       "      <td>nm0062070</td>\n",
       "      <td>Bruce Baum</td>\n",
       "      <td>miscellaneous,actor,writer</td>\n",
       "    </tr>\n",
       "    <tr>\n",
       "      <th>3</th>\n",
       "      <td>nm0062195</td>\n",
       "      <td>Axel Baumann</td>\n",
       "      <td>camera_department,cinematographer,art_department</td>\n",
       "    </tr>\n",
       "    <tr>\n",
       "      <th>4</th>\n",
       "      <td>nm0062798</td>\n",
       "      <td>Pete Baxter</td>\n",
       "      <td>production_designer,art_department,set_decorator</td>\n",
       "    </tr>\n",
       "  </tbody>\n",
       "</table>\n",
       "</div>"
      ],
      "text/plain": [
       "   person_id       primary_name  \\\n",
       "0  nm0061671  Mary Ellen Bauder   \n",
       "1  nm0061865       Joseph Bauer   \n",
       "2  nm0062070         Bruce Baum   \n",
       "3  nm0062195       Axel Baumann   \n",
       "4  nm0062798        Pete Baxter   \n",
       "\n",
       "                                 primary_profession  \n",
       "0         miscellaneous,production_manager,producer  \n",
       "1        composer,music_department,sound_department  \n",
       "2                        miscellaneous,actor,writer  \n",
       "3  camera_department,cinematographer,art_department  \n",
       "4  production_designer,art_department,set_decorator  "
      ]
     },
     "execution_count": 34,
     "metadata": {},
     "output_type": "execute_result"
    }
   ],
   "source": [
    "pd.read_sql_query(\"\"\"SELECT * FROM persons\"\"\", conn).head()\n",
    "\n",
    "\n"
   ]
  },
  {
   "cell_type": "markdown",
   "id": "63920da4-a51e-49e2-9b12-fe69cb6385bd",
   "metadata": {},
   "source": [
    "<h3><b>4.3 Reading from the Principals table</b></h3>"
   ]
  },
  {
   "cell_type": "code",
   "execution_count": 35,
   "id": "d7361cf4-6333-453f-a4b5-af80cf29adff",
   "metadata": {},
   "outputs": [
    {
     "data": {
      "text/html": [
       "<div>\n",
       "<style scoped>\n",
       "    .dataframe tbody tr th:only-of-type {\n",
       "        vertical-align: middle;\n",
       "    }\n",
       "\n",
       "    .dataframe tbody tr th {\n",
       "        vertical-align: top;\n",
       "    }\n",
       "\n",
       "    .dataframe thead th {\n",
       "        text-align: right;\n",
       "    }\n",
       "</style>\n",
       "<table border=\"1\" class=\"dataframe\">\n",
       "  <thead>\n",
       "    <tr style=\"text-align: right;\">\n",
       "      <th></th>\n",
       "      <th>movie_id</th>\n",
       "      <th>ordering</th>\n",
       "      <th>person_id</th>\n",
       "      <th>category</th>\n",
       "      <th>job</th>\n",
       "      <th>characters</th>\n",
       "    </tr>\n",
       "  </thead>\n",
       "  <tbody>\n",
       "    <tr>\n",
       "      <th>1028181</th>\n",
       "      <td>tt9692684</td>\n",
       "      <td>1</td>\n",
       "      <td>nm0186469</td>\n",
       "      <td>actor</td>\n",
       "      <td>None</td>\n",
       "      <td>[\"Ebenezer Scrooge\"]</td>\n",
       "    </tr>\n",
       "    <tr>\n",
       "      <th>1028182</th>\n",
       "      <td>tt9692684</td>\n",
       "      <td>2</td>\n",
       "      <td>nm4929530</td>\n",
       "      <td>self</td>\n",
       "      <td>None</td>\n",
       "      <td>[\"Herself\",\"Regan\"]</td>\n",
       "    </tr>\n",
       "    <tr>\n",
       "      <th>1028183</th>\n",
       "      <td>tt9692684</td>\n",
       "      <td>3</td>\n",
       "      <td>nm10441594</td>\n",
       "      <td>director</td>\n",
       "      <td>None</td>\n",
       "      <td>None</td>\n",
       "    </tr>\n",
       "    <tr>\n",
       "      <th>1028184</th>\n",
       "      <td>tt9692684</td>\n",
       "      <td>4</td>\n",
       "      <td>nm6009913</td>\n",
       "      <td>writer</td>\n",
       "      <td>writer</td>\n",
       "      <td>None</td>\n",
       "    </tr>\n",
       "    <tr>\n",
       "      <th>1028185</th>\n",
       "      <td>tt9692684</td>\n",
       "      <td>5</td>\n",
       "      <td>nm10441595</td>\n",
       "      <td>producer</td>\n",
       "      <td>producer</td>\n",
       "      <td>None</td>\n",
       "    </tr>\n",
       "  </tbody>\n",
       "</table>\n",
       "</div>"
      ],
      "text/plain": [
       "          movie_id  ordering   person_id  category       job  \\\n",
       "1028181  tt9692684         1   nm0186469     actor      None   \n",
       "1028182  tt9692684         2   nm4929530      self      None   \n",
       "1028183  tt9692684         3  nm10441594  director      None   \n",
       "1028184  tt9692684         4   nm6009913    writer    writer   \n",
       "1028185  tt9692684         5  nm10441595  producer  producer   \n",
       "\n",
       "                   characters  \n",
       "1028181  [\"Ebenezer Scrooge\"]  \n",
       "1028182   [\"Herself\",\"Regan\"]  \n",
       "1028183                  None  \n",
       "1028184                  None  \n",
       "1028185                  None  "
      ]
     },
     "execution_count": 35,
     "metadata": {},
     "output_type": "execute_result"
    }
   ],
   "source": [
    "pd.read_sql_query(\"\"\"SELECT * FROM principals\"\"\", conn).tail()\n",
    "\n"
   ]
  },
  {
   "cell_type": "markdown",
   "id": "98235276-24b2-4a5d-9f7f-ed067146259f",
   "metadata": {},
   "source": [
    "<h3><b>4.4. Joining the two tables , Persons and principles table</b></h3>"
   ]
  },
  {
   "cell_type": "code",
   "execution_count": 36,
   "id": "ba1f4bed-f046-4f07-a407-02444a3a745d",
   "metadata": {},
   "outputs": [
    {
     "data": {
      "text/html": [
       "<div>\n",
       "<style scoped>\n",
       "    .dataframe tbody tr th:only-of-type {\n",
       "        vertical-align: middle;\n",
       "    }\n",
       "\n",
       "    .dataframe tbody tr th {\n",
       "        vertical-align: top;\n",
       "    }\n",
       "\n",
       "    .dataframe thead th {\n",
       "        text-align: right;\n",
       "    }\n",
       "</style>\n",
       "<table border=\"1\" class=\"dataframe\">\n",
       "  <thead>\n",
       "    <tr style=\"text-align: right;\">\n",
       "      <th></th>\n",
       "      <th>person_id</th>\n",
       "      <th>primary_name</th>\n",
       "      <th>primary_profession</th>\n",
       "      <th>movie_id</th>\n",
       "      <th>ordering</th>\n",
       "      <th>person_id</th>\n",
       "      <th>category</th>\n",
       "      <th>job</th>\n",
       "      <th>characters</th>\n",
       "    </tr>\n",
       "  </thead>\n",
       "  <tbody>\n",
       "    <tr>\n",
       "      <th>0</th>\n",
       "      <td>nm0061671</td>\n",
       "      <td>Mary Ellen Bauder</td>\n",
       "      <td>miscellaneous,production_manager,producer</td>\n",
       "      <td>tt2398241</td>\n",
       "      <td>9</td>\n",
       "      <td>nm0061671</td>\n",
       "      <td>producer</td>\n",
       "      <td>producer</td>\n",
       "      <td>None</td>\n",
       "    </tr>\n",
       "    <tr>\n",
       "      <th>1</th>\n",
       "      <td>nm0061865</td>\n",
       "      <td>Joseph Bauer</td>\n",
       "      <td>composer,music_department,sound_department</td>\n",
       "      <td>tt0433397</td>\n",
       "      <td>7</td>\n",
       "      <td>nm0061865</td>\n",
       "      <td>composer</td>\n",
       "      <td>None</td>\n",
       "      <td>None</td>\n",
       "    </tr>\n",
       "    <tr>\n",
       "      <th>2</th>\n",
       "      <td>nm0061865</td>\n",
       "      <td>Joseph Bauer</td>\n",
       "      <td>composer,music_department,sound_department</td>\n",
       "      <td>tt1681372</td>\n",
       "      <td>8</td>\n",
       "      <td>nm0061865</td>\n",
       "      <td>composer</td>\n",
       "      <td>None</td>\n",
       "      <td>None</td>\n",
       "    </tr>\n",
       "    <tr>\n",
       "      <th>3</th>\n",
       "      <td>nm0061865</td>\n",
       "      <td>Joseph Bauer</td>\n",
       "      <td>composer,music_department,sound_department</td>\n",
       "      <td>tt2281215</td>\n",
       "      <td>7</td>\n",
       "      <td>nm0061865</td>\n",
       "      <td>composer</td>\n",
       "      <td>None</td>\n",
       "      <td>None</td>\n",
       "    </tr>\n",
       "    <tr>\n",
       "      <th>4</th>\n",
       "      <td>nm0061865</td>\n",
       "      <td>Joseph Bauer</td>\n",
       "      <td>composer,music_department,sound_department</td>\n",
       "      <td>tt2387710</td>\n",
       "      <td>8</td>\n",
       "      <td>nm0061865</td>\n",
       "      <td>composer</td>\n",
       "      <td>None</td>\n",
       "      <td>None</td>\n",
       "    </tr>\n",
       "  </tbody>\n",
       "</table>\n",
       "</div>"
      ],
      "text/plain": [
       "   person_id       primary_name                          primary_profession  \\\n",
       "0  nm0061671  Mary Ellen Bauder   miscellaneous,production_manager,producer   \n",
       "1  nm0061865       Joseph Bauer  composer,music_department,sound_department   \n",
       "2  nm0061865       Joseph Bauer  composer,music_department,sound_department   \n",
       "3  nm0061865       Joseph Bauer  composer,music_department,sound_department   \n",
       "4  nm0061865       Joseph Bauer  composer,music_department,sound_department   \n",
       "\n",
       "    movie_id  ordering  person_id  category       job characters  \n",
       "0  tt2398241         9  nm0061671  producer  producer       None  \n",
       "1  tt0433397         7  nm0061865  composer      None       None  \n",
       "2  tt1681372         8  nm0061865  composer      None       None  \n",
       "3  tt2281215         7  nm0061865  composer      None       None  \n",
       "4  tt2387710         8  nm0061865  composer      None       None  "
      ]
     },
     "execution_count": 36,
     "metadata": {},
     "output_type": "execute_result"
    }
   ],
   "source": [
    "pd.read_sql_query(\"\"\"SELECT * FROM persons\n",
    "JOIN principals\n",
    "ON persons.person_id=principals.person_id\"\"\",conn).head()"
   ]
  },
  {
   "cell_type": "markdown",
   "id": "6ce314d1-f7ad-40da-b7d5-7dbfe9c86cbe",
   "metadata": {},
   "source": [
    "<h3><b>4.5. Looking at the person id with the highest number of Ordering AND category </b></h3>"
   ]
  },
  {
   "cell_type": "code",
   "execution_count": 37,
   "id": "dd026235-41e7-4120-8d46-da9f1e8b7768",
   "metadata": {},
   "outputs": [
    {
     "data": {
      "text/html": [
       "<div>\n",
       "<style scoped>\n",
       "    .dataframe tbody tr th:only-of-type {\n",
       "        vertical-align: middle;\n",
       "    }\n",
       "\n",
       "    .dataframe tbody tr th {\n",
       "        vertical-align: top;\n",
       "    }\n",
       "\n",
       "    .dataframe thead th {\n",
       "        text-align: right;\n",
       "    }\n",
       "</style>\n",
       "<table border=\"1\" class=\"dataframe\">\n",
       "  <thead>\n",
       "    <tr style=\"text-align: right;\">\n",
       "      <th></th>\n",
       "      <th>movie_id</th>\n",
       "      <th>Ordering</th>\n",
       "      <th>person_id</th>\n",
       "    </tr>\n",
       "  </thead>\n",
       "  <tbody>\n",
       "    <tr>\n",
       "      <th>0</th>\n",
       "      <td>tt1801509</td>\n",
       "      <td>378</td>\n",
       "      <td>nm1930572</td>\n",
       "    </tr>\n",
       "    <tr>\n",
       "      <th>1</th>\n",
       "      <td>tt1274300</td>\n",
       "      <td>160</td>\n",
       "      <td>nm0000636</td>\n",
       "    </tr>\n",
       "    <tr>\n",
       "      <th>2</th>\n",
       "      <td>tt1921111</td>\n",
       "      <td>148</td>\n",
       "      <td>nm0000616</td>\n",
       "    </tr>\n",
       "    <tr>\n",
       "      <th>3</th>\n",
       "      <td>tt2156899</td>\n",
       "      <td>126</td>\n",
       "      <td>nm0103977</td>\n",
       "    </tr>\n",
       "    <tr>\n",
       "      <th>4</th>\n",
       "      <td>tt2414424</td>\n",
       "      <td>103</td>\n",
       "      <td>nm4394575</td>\n",
       "    </tr>\n",
       "  </tbody>\n",
       "</table>\n",
       "</div>"
      ],
      "text/plain": [
       "    movie_id  Ordering  person_id\n",
       "0  tt1801509       378  nm1930572\n",
       "1  tt1274300       160  nm0000636\n",
       "2  tt1921111       148  nm0000616\n",
       "3  tt2156899       126  nm0103977\n",
       "4  tt2414424       103  nm4394575"
      ]
     },
     "execution_count": 37,
     "metadata": {},
     "output_type": "execute_result"
    }
   ],
   "source": [
    "pd.read_sql_query(\"\"\"SELECT movie_id,COUNT(ordering) AS Ordering,person_id\n",
    "FROM principals\n",
    "GROUP BY person_id\n",
    "ORDER BY Ordering DESC\n",
    "LIMIT 5\"\"\", conn)"
   ]
  },
  {
   "cell_type": "code",
   "execution_count": 38,
   "id": "8a0e4b3d-3387-46d8-8457-99d7db448e9f",
   "metadata": {},
   "outputs": [
    {
     "data": {
      "text/html": [
       "<div>\n",
       "<style scoped>\n",
       "    .dataframe tbody tr th:only-of-type {\n",
       "        vertical-align: middle;\n",
       "    }\n",
       "\n",
       "    .dataframe tbody tr th {\n",
       "        vertical-align: top;\n",
       "    }\n",
       "\n",
       "    .dataframe thead th {\n",
       "        text-align: right;\n",
       "    }\n",
       "</style>\n",
       "<table border=\"1\" class=\"dataframe\">\n",
       "  <thead>\n",
       "    <tr style=\"text-align: right;\">\n",
       "      <th></th>\n",
       "      <th>primary_name</th>\n",
       "      <th>person_id</th>\n",
       "    </tr>\n",
       "  </thead>\n",
       "  <tbody>\n",
       "    <tr>\n",
       "      <th>0</th>\n",
       "      <td>Kevin MacLeod</td>\n",
       "      <td>nm1930572</td>\n",
       "    </tr>\n",
       "  </tbody>\n",
       "</table>\n",
       "</div>"
      ],
      "text/plain": [
       "    primary_name  person_id\n",
       "0  Kevin MacLeod  nm1930572"
      ]
     },
     "execution_count": 38,
     "metadata": {},
     "output_type": "execute_result"
    }
   ],
   "source": [
    "#checking person id with the primary name \n",
    "pd.read_sql_query(\"\"\"SELECT primary_name,person_id \n",
    "FROM persons\n",
    "WHERE person_id=\"nm1930572\" \"\"\",conn)"
   ]
  },
  {
   "cell_type": "code",
   "execution_count": 39,
   "id": "1f4e1aa0-286c-4198-a1c1-bf827062d660",
   "metadata": {},
   "outputs": [
    {
     "data": {
      "text/html": [
       "<div>\n",
       "<style scoped>\n",
       "    .dataframe tbody tr th:only-of-type {\n",
       "        vertical-align: middle;\n",
       "    }\n",
       "\n",
       "    .dataframe tbody tr th {\n",
       "        vertical-align: top;\n",
       "    }\n",
       "\n",
       "    .dataframe thead th {\n",
       "        text-align: right;\n",
       "    }\n",
       "</style>\n",
       "<table border=\"1\" class=\"dataframe\">\n",
       "  <thead>\n",
       "    <tr style=\"text-align: right;\">\n",
       "      <th></th>\n",
       "      <th>category</th>\n",
       "      <th>person_id</th>\n",
       "    </tr>\n",
       "  </thead>\n",
       "  <tbody>\n",
       "    <tr>\n",
       "      <th>0</th>\n",
       "      <td>composer</td>\n",
       "      <td>nm1930572</td>\n",
       "    </tr>\n",
       "  </tbody>\n",
       "</table>\n",
       "</div>"
      ],
      "text/plain": [
       "   category  person_id\n",
       "0  composer  nm1930572"
      ]
     },
     "execution_count": 39,
     "metadata": {},
     "output_type": "execute_result"
    }
   ],
   "source": [
    "#cheking  person_id and its category\n",
    "pd.read_sql_query(\"\"\"SELECT category,person_id \n",
    "FROM principals\n",
    "WHERE person_id=\"nm1930572\"\n",
    "LIMIT 1 \"\"\",conn)"
   ]
  },
  {
   "cell_type": "markdown",
   "id": "662c49f3-5d83-4293-b97d-fe21e994ec85",
   "metadata": {},
   "source": [
    "<h4><b>CONC:</b> Composer KEVIN MACLEOD id_no \"nm1930572\", have the highest ordering films of 378 to clients </h4>"
   ]
  },
  {
   "cell_type": "markdown",
   "id": "175e13cc-c7cd-4fb5-98ef-2d04e35b474b",
   "metadata": {},
   "source": [
    "<h3><b>4.6 Reading from the table writer<br>\n",
    "Identifying which person had the highest writer Films</b></h3>"
   ]
  },
  {
   "cell_type": "code",
   "execution_count": 40,
   "id": "86ca57e0-20bf-42e0-9140-a61a2d21ccdd",
   "metadata": {},
   "outputs": [
    {
     "data": {
      "text/html": [
       "<div>\n",
       "<style scoped>\n",
       "    .dataframe tbody tr th:only-of-type {\n",
       "        vertical-align: middle;\n",
       "    }\n",
       "\n",
       "    .dataframe tbody tr th {\n",
       "        vertical-align: top;\n",
       "    }\n",
       "\n",
       "    .dataframe thead th {\n",
       "        text-align: right;\n",
       "    }\n",
       "</style>\n",
       "<table border=\"1\" class=\"dataframe\">\n",
       "  <thead>\n",
       "    <tr style=\"text-align: right;\">\n",
       "      <th></th>\n",
       "      <th>person_id</th>\n",
       "      <th>primary_name</th>\n",
       "      <th>primary_profession</th>\n",
       "      <th>movie_id</th>\n",
       "      <th>person_id</th>\n",
       "    </tr>\n",
       "  </thead>\n",
       "  <tbody>\n",
       "    <tr>\n",
       "      <th>0</th>\n",
       "      <td>nm0061671</td>\n",
       "      <td>Mary Ellen Bauder</td>\n",
       "      <td>miscellaneous,production_manager,producer</td>\n",
       "      <td>None</td>\n",
       "      <td>None</td>\n",
       "    </tr>\n",
       "    <tr>\n",
       "      <th>1</th>\n",
       "      <td>nm0061865</td>\n",
       "      <td>Joseph Bauer</td>\n",
       "      <td>composer,music_department,sound_department</td>\n",
       "      <td>None</td>\n",
       "      <td>None</td>\n",
       "    </tr>\n",
       "    <tr>\n",
       "      <th>2</th>\n",
       "      <td>nm0062070</td>\n",
       "      <td>Bruce Baum</td>\n",
       "      <td>miscellaneous,actor,writer</td>\n",
       "      <td>None</td>\n",
       "      <td>None</td>\n",
       "    </tr>\n",
       "    <tr>\n",
       "      <th>3</th>\n",
       "      <td>nm0062195</td>\n",
       "      <td>Axel Baumann</td>\n",
       "      <td>camera_department,cinematographer,art_department</td>\n",
       "      <td>None</td>\n",
       "      <td>None</td>\n",
       "    </tr>\n",
       "    <tr>\n",
       "      <th>4</th>\n",
       "      <td>nm0062798</td>\n",
       "      <td>Pete Baxter</td>\n",
       "      <td>production_designer,art_department,set_decorator</td>\n",
       "      <td>None</td>\n",
       "      <td>None</td>\n",
       "    </tr>\n",
       "  </tbody>\n",
       "</table>\n",
       "</div>"
      ],
      "text/plain": [
       "   person_id       primary_name  \\\n",
       "0  nm0061671  Mary Ellen Bauder   \n",
       "1  nm0061865       Joseph Bauer   \n",
       "2  nm0062070         Bruce Baum   \n",
       "3  nm0062195       Axel Baumann   \n",
       "4  nm0062798        Pete Baxter   \n",
       "\n",
       "                                 primary_profession movie_id person_id  \n",
       "0         miscellaneous,production_manager,producer     None      None  \n",
       "1        composer,music_department,sound_department     None      None  \n",
       "2                        miscellaneous,actor,writer     None      None  \n",
       "3  camera_department,cinematographer,art_department     None      None  \n",
       "4  production_designer,art_department,set_decorator     None      None  "
      ]
     },
     "execution_count": 40,
     "metadata": {},
     "output_type": "execute_result"
    }
   ],
   "source": [
    "#LEFT JOINING OF THE TWO TABLES, PERSONS AND WRITERS\n",
    "pd.read_sql_query(\"\"\"SELECT * FROM persons\n",
    "LEFT JOIN writers\n",
    "ON persons.person_id=writers.person_id\"\"\", conn).head()"
   ]
  },
  {
   "cell_type": "code",
   "execution_count": 41,
   "id": "cc0149e2-72e5-4c40-9d46-de0a5de9f81e",
   "metadata": {},
   "outputs": [
    {
     "data": {
      "text/html": [
       "<div>\n",
       "<style scoped>\n",
       "    .dataframe tbody tr th:only-of-type {\n",
       "        vertical-align: middle;\n",
       "    }\n",
       "\n",
       "    .dataframe tbody tr th {\n",
       "        vertical-align: top;\n",
       "    }\n",
       "\n",
       "    .dataframe thead th {\n",
       "        text-align: right;\n",
       "    }\n",
       "</style>\n",
       "<table border=\"1\" class=\"dataframe\">\n",
       "  <thead>\n",
       "    <tr style=\"text-align: right;\">\n",
       "      <th></th>\n",
       "      <th>person_id_count</th>\n",
       "      <th>person_id</th>\n",
       "    </tr>\n",
       "  </thead>\n",
       "  <tbody>\n",
       "    <tr>\n",
       "      <th>0</th>\n",
       "      <td>3818</td>\n",
       "      <td>nm6031788</td>\n",
       "    </tr>\n",
       "    <tr>\n",
       "      <th>1</th>\n",
       "      <td>2397</td>\n",
       "      <td>nm0685673</td>\n",
       "    </tr>\n",
       "    <tr>\n",
       "      <th>2</th>\n",
       "      <td>2392</td>\n",
       "      <td>nm5437847</td>\n",
       "    </tr>\n",
       "    <tr>\n",
       "      <th>3</th>\n",
       "      <td>2013</td>\n",
       "      <td>nm2449187</td>\n",
       "    </tr>\n",
       "    <tr>\n",
       "      <th>4</th>\n",
       "      <td>1770</td>\n",
       "      <td>nm0627159</td>\n",
       "    </tr>\n",
       "  </tbody>\n",
       "</table>\n",
       "</div>"
      ],
      "text/plain": [
       "   person_id_count  person_id\n",
       "0             3818  nm6031788\n",
       "1             2397  nm0685673\n",
       "2             2392  nm5437847\n",
       "3             2013  nm2449187\n",
       "4             1770  nm0627159"
      ]
     },
     "execution_count": 41,
     "metadata": {},
     "output_type": "execute_result"
    }
   ],
   "source": [
    "#\n",
    "pd.read_sql_query(\"\"\"SELECT COUNT(person_id) AS person_id_count,person_id\n",
    "FROM writers\n",
    "GROUP BY movie_id\n",
    "ORDER BY person_id_count DESC \"\"\", conn).head()\n"
   ]
  },
  {
   "cell_type": "code",
   "execution_count": 42,
   "id": "98052cf7-f62b-43ed-8505-3665b3e7979f",
   "metadata": {},
   "outputs": [
    {
     "data": {
      "text/html": [
       "<div>\n",
       "<style scoped>\n",
       "    .dataframe tbody tr th:only-of-type {\n",
       "        vertical-align: middle;\n",
       "    }\n",
       "\n",
       "    .dataframe tbody tr th {\n",
       "        vertical-align: top;\n",
       "    }\n",
       "\n",
       "    .dataframe thead th {\n",
       "        text-align: right;\n",
       "    }\n",
       "</style>\n",
       "<table border=\"1\" class=\"dataframe\">\n",
       "  <thead>\n",
       "    <tr style=\"text-align: right;\">\n",
       "      <th></th>\n",
       "      <th>person_id</th>\n",
       "      <th>primary_name</th>\n",
       "    </tr>\n",
       "  </thead>\n",
       "  <tbody>\n",
       "    <tr>\n",
       "      <th>0</th>\n",
       "      <td>nm6031788</td>\n",
       "      <td>Frank Appache</td>\n",
       "    </tr>\n",
       "  </tbody>\n",
       "</table>\n",
       "</div>"
      ],
      "text/plain": [
       "   person_id   primary_name\n",
       "0  nm6031788  Frank Appache"
      ]
     },
     "execution_count": 42,
     "metadata": {},
     "output_type": "execute_result"
    }
   ],
   "source": [
    "#cheking the highest writer's name\n",
    "pd.read_sql_query(\"\"\"SELECT person_id,primary_name \n",
    "FROM persons\n",
    "WHERE person_id=\"nm6031788\"\n",
    "LIMIT 1 \"\"\",conn)"
   ]
  },
  {
   "cell_type": "markdown",
   "id": "6ea742ef-3700-4047-9aef-b4fde9974fa9",
   "metadata": {},
   "source": [
    "<h4><b>CONC:</b>In the Film industry, the highest Writer is <b>Frank Appache</b> with ID  nm6031788</h4>"
   ]
  },
  {
   "cell_type": "markdown",
   "id": "8ae79a6f-e71b-40ce-bdcc-be81877db55d",
   "metadata": {},
   "source": [
    "<h3><b>4.7. Checking at the Best Directors in the industry</b></h3>"
   ]
  },
  {
   "cell_type": "code",
   "execution_count": 43,
   "id": "d3a42030-da36-46c8-8c8b-1798f0c65f45",
   "metadata": {},
   "outputs": [
    {
     "data": {
      "text/html": [
       "<div>\n",
       "<style scoped>\n",
       "    .dataframe tbody tr th:only-of-type {\n",
       "        vertical-align: middle;\n",
       "    }\n",
       "\n",
       "    .dataframe tbody tr th {\n",
       "        vertical-align: top;\n",
       "    }\n",
       "\n",
       "    .dataframe thead th {\n",
       "        text-align: right;\n",
       "    }\n",
       "</style>\n",
       "<table border=\"1\" class=\"dataframe\">\n",
       "  <thead>\n",
       "    <tr style=\"text-align: right;\">\n",
       "      <th></th>\n",
       "      <th>movie_id</th>\n",
       "      <th>person_id</th>\n",
       "    </tr>\n",
       "  </thead>\n",
       "  <tbody>\n",
       "    <tr>\n",
       "      <th>0</th>\n",
       "      <td>tt0285252</td>\n",
       "      <td>nm0899854</td>\n",
       "    </tr>\n",
       "    <tr>\n",
       "      <th>1</th>\n",
       "      <td>tt0462036</td>\n",
       "      <td>nm1940585</td>\n",
       "    </tr>\n",
       "    <tr>\n",
       "      <th>2</th>\n",
       "      <td>tt0835418</td>\n",
       "      <td>nm0151540</td>\n",
       "    </tr>\n",
       "    <tr>\n",
       "      <th>3</th>\n",
       "      <td>tt0835418</td>\n",
       "      <td>nm0151540</td>\n",
       "    </tr>\n",
       "    <tr>\n",
       "      <th>4</th>\n",
       "      <td>tt0878654</td>\n",
       "      <td>nm0089502</td>\n",
       "    </tr>\n",
       "  </tbody>\n",
       "</table>\n",
       "</div>"
      ],
      "text/plain": [
       "    movie_id  person_id\n",
       "0  tt0285252  nm0899854\n",
       "1  tt0462036  nm1940585\n",
       "2  tt0835418  nm0151540\n",
       "3  tt0835418  nm0151540\n",
       "4  tt0878654  nm0089502"
      ]
     },
     "execution_count": 43,
     "metadata": {},
     "output_type": "execute_result"
    }
   ],
   "source": [
    "\n",
    "#reading from the directors tables\n",
    "pd.read_sql_query(\"\"\"SELECT* FROM directors \n",
    "LIMIT 5\"\"\",conn)"
   ]
  },
  {
   "cell_type": "code",
   "execution_count": 44,
   "id": "eacfbacd-c7f0-440c-b182-9f27ac3e173a",
   "metadata": {},
   "outputs": [
    {
     "data": {
      "text/html": [
       "<div>\n",
       "<style scoped>\n",
       "    .dataframe tbody tr th:only-of-type {\n",
       "        vertical-align: middle;\n",
       "    }\n",
       "\n",
       "    .dataframe tbody tr th {\n",
       "        vertical-align: top;\n",
       "    }\n",
       "\n",
       "    .dataframe thead th {\n",
       "        text-align: right;\n",
       "    }\n",
       "</style>\n",
       "<table border=\"1\" class=\"dataframe\">\n",
       "  <thead>\n",
       "    <tr style=\"text-align: right;\">\n",
       "      <th></th>\n",
       "      <th>person_id_count</th>\n",
       "      <th>person_id</th>\n",
       "    </tr>\n",
       "  </thead>\n",
       "  <tbody>\n",
       "    <tr>\n",
       "      <th>0</th>\n",
       "      <td>3818</td>\n",
       "      <td>nm4429747</td>\n",
       "    </tr>\n",
       "    <tr>\n",
       "      <th>1</th>\n",
       "      <td>2397</td>\n",
       "      <td>nm0294492</td>\n",
       "    </tr>\n",
       "    <tr>\n",
       "      <th>2</th>\n",
       "      <td>2392</td>\n",
       "      <td>nm4712424</td>\n",
       "    </tr>\n",
       "    <tr>\n",
       "      <th>3</th>\n",
       "      <td>2013</td>\n",
       "      <td>nm7576911</td>\n",
       "    </tr>\n",
       "    <tr>\n",
       "      <th>4</th>\n",
       "      <td>1770</td>\n",
       "      <td>nm5074519</td>\n",
       "    </tr>\n",
       "  </tbody>\n",
       "</table>\n",
       "</div>"
      ],
      "text/plain": [
       "   person_id_count  person_id\n",
       "0             3818  nm4429747\n",
       "1             2397  nm0294492\n",
       "2             2392  nm4712424\n",
       "3             2013  nm7576911\n",
       "4             1770  nm5074519"
      ]
     },
     "execution_count": 44,
     "metadata": {},
     "output_type": "execute_result"
    }
   ],
   "source": [
    "#Directors with the highest number of counts \n",
    "\n",
    "pd.read_sql_query(\"\"\"SELECT COUNT(person_id) AS person_id_count,person_id\n",
    "FROM directors\n",
    "GROUP BY movie_id\n",
    "ORDER BY person_id_count DESC \"\"\", conn).head()\n"
   ]
  },
  {
   "cell_type": "code",
   "execution_count": 45,
   "id": "973be4d3-a62b-4abe-97f5-e224f2c0961d",
   "metadata": {},
   "outputs": [
    {
     "data": {
      "text/html": [
       "<div>\n",
       "<style scoped>\n",
       "    .dataframe tbody tr th:only-of-type {\n",
       "        vertical-align: middle;\n",
       "    }\n",
       "\n",
       "    .dataframe tbody tr th {\n",
       "        vertical-align: top;\n",
       "    }\n",
       "\n",
       "    .dataframe thead th {\n",
       "        text-align: right;\n",
       "    }\n",
       "</style>\n",
       "<table border=\"1\" class=\"dataframe\">\n",
       "  <thead>\n",
       "    <tr style=\"text-align: right;\">\n",
       "      <th></th>\n",
       "      <th>person_id</th>\n",
       "      <th>primary_name</th>\n",
       "    </tr>\n",
       "  </thead>\n",
       "  <tbody>\n",
       "    <tr>\n",
       "      <th>0</th>\n",
       "      <td>nm4429747</td>\n",
       "      <td>Liz Salvato</td>\n",
       "    </tr>\n",
       "  </tbody>\n",
       "</table>\n",
       "</div>"
      ],
      "text/plain": [
       "   person_id primary_name\n",
       "0  nm4429747  Liz Salvato"
      ]
     },
     "execution_count": 45,
     "metadata": {},
     "output_type": "execute_result"
    }
   ],
   "source": [
    "#Checking at the directors name\n",
    "pd.read_sql_query(\"\"\"SELECT person_id,primary_name \n",
    "FROM persons\n",
    "WHERE person_id=\"nm4429747\"\n",
    "LIMIT 1 \"\"\",conn)"
   ]
  },
  {
   "cell_type": "markdown",
   "id": "43104721-9f6e-4680-aed5-b20c860f0898",
   "metadata": {},
   "source": [
    "<h4><b>CONC: </b>The best director from the industry is </b>Liz Salvato</b></h4>"
   ]
  },
  {
   "cell_type": "markdown",
   "id": "27caa7b1-02ff-4181-a347-925063b9cf92",
   "metadata": {},
   "source": [
    "<h3><b>4.8. Checking at the Best Movies with the highest number of orders </b></h3>"
   ]
  },
  {
   "cell_type": "code",
   "execution_count": 46,
   "id": "fd5be6fc-ab4e-4d38-a5f8-34d01f7363d4",
   "metadata": {},
   "outputs": [
    {
     "data": {
      "text/html": [
       "<div>\n",
       "<style scoped>\n",
       "    .dataframe tbody tr th:only-of-type {\n",
       "        vertical-align: middle;\n",
       "    }\n",
       "\n",
       "    .dataframe tbody tr th {\n",
       "        vertical-align: top;\n",
       "    }\n",
       "\n",
       "    .dataframe thead th {\n",
       "        text-align: right;\n",
       "    }\n",
       "</style>\n",
       "<table border=\"1\" class=\"dataframe\">\n",
       "  <thead>\n",
       "    <tr style=\"text-align: right;\">\n",
       "      <th></th>\n",
       "      <th>movie_id</th>\n",
       "      <th>primary_title</th>\n",
       "      <th>original_title</th>\n",
       "      <th>start_year</th>\n",
       "      <th>runtime_minutes</th>\n",
       "      <th>genres</th>\n",
       "    </tr>\n",
       "  </thead>\n",
       "  <tbody>\n",
       "    <tr>\n",
       "      <th>0</th>\n",
       "      <td>tt0063540</td>\n",
       "      <td>Sunghursh</td>\n",
       "      <td>Sunghursh</td>\n",
       "      <td>2013</td>\n",
       "      <td>175.0</td>\n",
       "      <td>Action,Crime,Drama</td>\n",
       "    </tr>\n",
       "    <tr>\n",
       "      <th>1</th>\n",
       "      <td>tt0066787</td>\n",
       "      <td>One Day Before the Rainy Season</td>\n",
       "      <td>Ashad Ka Ek Din</td>\n",
       "      <td>2019</td>\n",
       "      <td>114.0</td>\n",
       "      <td>Biography,Drama</td>\n",
       "    </tr>\n",
       "    <tr>\n",
       "      <th>2</th>\n",
       "      <td>tt0069049</td>\n",
       "      <td>The Other Side of the Wind</td>\n",
       "      <td>The Other Side of the Wind</td>\n",
       "      <td>2018</td>\n",
       "      <td>122.0</td>\n",
       "      <td>Drama</td>\n",
       "    </tr>\n",
       "    <tr>\n",
       "      <th>3</th>\n",
       "      <td>tt0069204</td>\n",
       "      <td>Sabse Bada Sukh</td>\n",
       "      <td>Sabse Bada Sukh</td>\n",
       "      <td>2018</td>\n",
       "      <td>NaN</td>\n",
       "      <td>Comedy,Drama</td>\n",
       "    </tr>\n",
       "    <tr>\n",
       "      <th>4</th>\n",
       "      <td>tt0100275</td>\n",
       "      <td>The Wandering Soap Opera</td>\n",
       "      <td>La Telenovela Errante</td>\n",
       "      <td>2017</td>\n",
       "      <td>80.0</td>\n",
       "      <td>Comedy,Drama,Fantasy</td>\n",
       "    </tr>\n",
       "  </tbody>\n",
       "</table>\n",
       "</div>"
      ],
      "text/plain": [
       "    movie_id                    primary_title              original_title  \\\n",
       "0  tt0063540                        Sunghursh                   Sunghursh   \n",
       "1  tt0066787  One Day Before the Rainy Season             Ashad Ka Ek Din   \n",
       "2  tt0069049       The Other Side of the Wind  The Other Side of the Wind   \n",
       "3  tt0069204                  Sabse Bada Sukh             Sabse Bada Sukh   \n",
       "4  tt0100275         The Wandering Soap Opera       La Telenovela Errante   \n",
       "\n",
       "   start_year  runtime_minutes                genres  \n",
       "0        2013            175.0    Action,Crime,Drama  \n",
       "1        2019            114.0       Biography,Drama  \n",
       "2        2018            122.0                 Drama  \n",
       "3        2018              NaN          Comedy,Drama  \n",
       "4        2017             80.0  Comedy,Drama,Fantasy  "
      ]
     },
     "execution_count": 46,
     "metadata": {},
     "output_type": "execute_result"
    }
   ],
   "source": [
    "#displaying the movie_basics \n",
    "pd.read_sql_query(\"\"\"SELECT* FROM movie_basics\n",
    "LIMIT 5\"\"\",conn)"
   ]
  },
  {
   "cell_type": "code",
   "execution_count": 47,
   "id": "f2e59a3c-486b-4dcf-b25c-2b9eca0d0c55",
   "metadata": {},
   "outputs": [
    {
     "data": {
      "text/html": [
       "<div>\n",
       "<style scoped>\n",
       "    .dataframe tbody tr th:only-of-type {\n",
       "        vertical-align: middle;\n",
       "    }\n",
       "\n",
       "    .dataframe tbody tr th {\n",
       "        vertical-align: top;\n",
       "    }\n",
       "\n",
       "    .dataframe thead th {\n",
       "        text-align: right;\n",
       "    }\n",
       "</style>\n",
       "<table border=\"1\" class=\"dataframe\">\n",
       "  <thead>\n",
       "    <tr style=\"text-align: right;\">\n",
       "      <th></th>\n",
       "      <th>movie_id</th>\n",
       "      <th>ordering</th>\n",
       "      <th>person_id</th>\n",
       "    </tr>\n",
       "  </thead>\n",
       "  <tbody>\n",
       "    <tr>\n",
       "      <th>0</th>\n",
       "      <td>tt1801509</td>\n",
       "      <td>378</td>\n",
       "      <td>nm1930572</td>\n",
       "    </tr>\n",
       "    <tr>\n",
       "      <th>1</th>\n",
       "      <td>tt1274300</td>\n",
       "      <td>160</td>\n",
       "      <td>nm0000636</td>\n",
       "    </tr>\n",
       "    <tr>\n",
       "      <th>2</th>\n",
       "      <td>tt1921111</td>\n",
       "      <td>148</td>\n",
       "      <td>nm0000616</td>\n",
       "    </tr>\n",
       "    <tr>\n",
       "      <th>3</th>\n",
       "      <td>tt2156899</td>\n",
       "      <td>126</td>\n",
       "      <td>nm0103977</td>\n",
       "    </tr>\n",
       "    <tr>\n",
       "      <th>4</th>\n",
       "      <td>tt2414424</td>\n",
       "      <td>103</td>\n",
       "      <td>nm4394575</td>\n",
       "    </tr>\n",
       "  </tbody>\n",
       "</table>\n",
       "</div>"
      ],
      "text/plain": [
       "    movie_id  ordering  person_id\n",
       "0  tt1801509       378  nm1930572\n",
       "1  tt1274300       160  nm0000636\n",
       "2  tt1921111       148  nm0000616\n",
       "3  tt2156899       126  nm0103977\n",
       "4  tt2414424       103  nm4394575"
      ]
     },
     "execution_count": 47,
     "metadata": {},
     "output_type": "execute_result"
    }
   ],
   "source": [
    "#movie id  with the highest number of orders from principals table\n",
    "\n",
    "pd.read_sql_query(\"\"\"SELECT movie_id,COUNT(ordering) AS ordering,person_id \n",
    "FROM principals\n",
    "GROUP BY person_id\n",
    "ORDER BY ordering DESC\n",
    "LIMIT 5\"\"\", conn)\n"
   ]
  },
  {
   "cell_type": "code",
   "execution_count": 49,
   "id": "90e05aae-d5ca-449f-9962-b642d3f52915",
   "metadata": {},
   "outputs": [
    {
     "data": {
      "text/html": [
       "<div>\n",
       "<style scoped>\n",
       "    .dataframe tbody tr th:only-of-type {\n",
       "        vertical-align: middle;\n",
       "    }\n",
       "\n",
       "    .dataframe tbody tr th {\n",
       "        vertical-align: top;\n",
       "    }\n",
       "\n",
       "    .dataframe thead th {\n",
       "        text-align: right;\n",
       "    }\n",
       "</style>\n",
       "<table border=\"1\" class=\"dataframe\">\n",
       "  <thead>\n",
       "    <tr style=\"text-align: right;\">\n",
       "      <th></th>\n",
       "      <th>primary_title</th>\n",
       "      <th>original_title</th>\n",
       "      <th>start_year</th>\n",
       "      <th>runtime_minutes</th>\n",
       "      <th>genres</th>\n",
       "    </tr>\n",
       "  </thead>\n",
       "  <tbody>\n",
       "    <tr>\n",
       "      <th>0</th>\n",
       "      <td>Goles y metas</td>\n",
       "      <td>Goles y metas</td>\n",
       "      <td>2010</td>\n",
       "      <td>6.0</td>\n",
       "      <td>Documentary,Drama,Family</td>\n",
       "    </tr>\n",
       "  </tbody>\n",
       "</table>\n",
       "</div>"
      ],
      "text/plain": [
       "   primary_title original_title  start_year  runtime_minutes  \\\n",
       "0  Goles y metas  Goles y metas        2010              6.0   \n",
       "\n",
       "                     genres  \n",
       "0  Documentary,Drama,Family  "
      ]
     },
     "execution_count": 49,
     "metadata": {},
     "output_type": "execute_result"
    }
   ],
   "source": [
    "#from the movies,  print out the  movie name with the highest number of orders using the movie ID\n",
    "pd.read_sql_query(\"\"\"SELECT primary_title,original_title,start_year,runtime_minutes,genres\n",
    "FROM movie_basics\n",
    "WHERE movie_id=\"tt1801509\" \"\"\", conn)"
   ]
  },
  {
   "cell_type": "code",
   "execution_count": 50,
   "id": "302698de-03b1-42e0-9bc7-29fdfd2e9435",
   "metadata": {},
   "outputs": [
    {
     "data": {
      "text/html": [
       "<div>\n",
       "<style scoped>\n",
       "    .dataframe tbody tr th:only-of-type {\n",
       "        vertical-align: middle;\n",
       "    }\n",
       "\n",
       "    .dataframe tbody tr th {\n",
       "        vertical-align: top;\n",
       "    }\n",
       "\n",
       "    .dataframe thead th {\n",
       "        text-align: right;\n",
       "    }\n",
       "</style>\n",
       "<table border=\"1\" class=\"dataframe\">\n",
       "  <thead>\n",
       "    <tr style=\"text-align: right;\">\n",
       "      <th></th>\n",
       "      <th>primary_name</th>\n",
       "      <th>person_id</th>\n",
       "    </tr>\n",
       "  </thead>\n",
       "  <tbody>\n",
       "    <tr>\n",
       "      <th>0</th>\n",
       "      <td>Kevin MacLeod</td>\n",
       "      <td>nm1930572</td>\n",
       "    </tr>\n",
       "  </tbody>\n",
       "</table>\n",
       "</div>"
      ],
      "text/plain": [
       "    primary_name  person_id\n",
       "0  Kevin MacLeod  nm1930572"
      ]
     },
     "execution_count": 50,
     "metadata": {},
     "output_type": "execute_result"
    }
   ],
   "source": [
    "#Output the person of the movie\n",
    "pd.read_sql_query(\"\"\"SELECT primary_name,person_id FROM persons\n",
    "WHERE person_id=\"nm1930572\"\n",
    "\"\"\",conn)"
   ]
  },
  {
   "cell_type": "markdown",
   "id": "132c641d-0c84-4b6c-bc66-3f050f4f12bb",
   "metadata": {},
   "source": [
    "<h4><b>CONC:</b>The movie with the highest order is <b>Goles y metas</b>, composed on the year 2010 </h4>"
   ]
  },
  {
   "cell_type": "markdown",
   "id": "155957fd-4541-4394-a2ab-f4528b6beeb9",
   "metadata": {},
   "source": [
    "<h3><b>4.9.Movie with the highest number of ratings</b></h3>"
   ]
  },
  {
   "cell_type": "code",
   "execution_count": 51,
   "id": "faef6261-4056-4ee0-9820-6258f4711a1c",
   "metadata": {},
   "outputs": [
    {
     "data": {
      "text/html": [
       "<div>\n",
       "<style scoped>\n",
       "    .dataframe tbody tr th:only-of-type {\n",
       "        vertical-align: middle;\n",
       "    }\n",
       "\n",
       "    .dataframe tbody tr th {\n",
       "        vertical-align: top;\n",
       "    }\n",
       "\n",
       "    .dataframe thead th {\n",
       "        text-align: right;\n",
       "    }\n",
       "</style>\n",
       "<table border=\"1\" class=\"dataframe\">\n",
       "  <thead>\n",
       "    <tr style=\"text-align: right;\">\n",
       "      <th></th>\n",
       "      <th>movie_id</th>\n",
       "      <th>averagerating</th>\n",
       "      <th>numvotes</th>\n",
       "    </tr>\n",
       "  </thead>\n",
       "  <tbody>\n",
       "    <tr>\n",
       "      <th>0</th>\n",
       "      <td>tt10356526</td>\n",
       "      <td>8.3</td>\n",
       "      <td>31</td>\n",
       "    </tr>\n",
       "    <tr>\n",
       "      <th>1</th>\n",
       "      <td>tt10384606</td>\n",
       "      <td>8.9</td>\n",
       "      <td>559</td>\n",
       "    </tr>\n",
       "    <tr>\n",
       "      <th>2</th>\n",
       "      <td>tt1042974</td>\n",
       "      <td>6.4</td>\n",
       "      <td>20</td>\n",
       "    </tr>\n",
       "    <tr>\n",
       "      <th>3</th>\n",
       "      <td>tt1043726</td>\n",
       "      <td>4.2</td>\n",
       "      <td>50352</td>\n",
       "    </tr>\n",
       "    <tr>\n",
       "      <th>4</th>\n",
       "      <td>tt1060240</td>\n",
       "      <td>6.5</td>\n",
       "      <td>21</td>\n",
       "    </tr>\n",
       "  </tbody>\n",
       "</table>\n",
       "</div>"
      ],
      "text/plain": [
       "     movie_id  averagerating  numvotes\n",
       "0  tt10356526            8.3        31\n",
       "1  tt10384606            8.9       559\n",
       "2   tt1042974            6.4        20\n",
       "3   tt1043726            4.2     50352\n",
       "4   tt1060240            6.5        21"
      ]
     },
     "execution_count": 51,
     "metadata": {},
     "output_type": "execute_result"
    }
   ],
   "source": [
    "#displaying the movie_ratings \n",
    "pd.read_sql_query(\"\"\"SELECT* FROM movie_ratings\n",
    "LIMIT 5\"\"\",conn)"
   ]
  },
  {
   "cell_type": "code",
   "execution_count": 52,
   "id": "cfabf3b1-1c95-48cc-99db-65ab4c52525a",
   "metadata": {},
   "outputs": [
    {
     "data": {
      "text/html": [
       "<div>\n",
       "<style scoped>\n",
       "    .dataframe tbody tr th:only-of-type {\n",
       "        vertical-align: middle;\n",
       "    }\n",
       "\n",
       "    .dataframe tbody tr th {\n",
       "        vertical-align: top;\n",
       "    }\n",
       "\n",
       "    .dataframe thead th {\n",
       "        text-align: right;\n",
       "    }\n",
       "</style>\n",
       "<table border=\"1\" class=\"dataframe\">\n",
       "  <thead>\n",
       "    <tr style=\"text-align: right;\">\n",
       "      <th></th>\n",
       "      <th>movie_id</th>\n",
       "      <th>NUMB_VOTES_ratings</th>\n",
       "    </tr>\n",
       "  </thead>\n",
       "  <tbody>\n",
       "    <tr>\n",
       "      <th>0</th>\n",
       "      <td>tt1375666</td>\n",
       "      <td>1841066</td>\n",
       "    </tr>\n",
       "  </tbody>\n",
       "</table>\n",
       "</div>"
      ],
      "text/plain": [
       "    movie_id  NUMB_VOTES_ratings\n",
       "0  tt1375666             1841066"
      ]
     },
     "execution_count": 52,
     "metadata": {},
     "output_type": "execute_result"
    }
   ],
   "source": [
    "#highest number of vote ratings\n",
    "pd.read_sql_query(\"\"\"SELECT  movie_id,MAX(numvotes) AS NUMB_VOTES_ratings\n",
    "FROM movie_ratings\n",
    "ORDER BY NUMB_VOTES_ratings DESC\n",
    "LIMIT 5\n",
    " \"\"\", conn)\n"
   ]
  },
  {
   "cell_type": "code",
   "execution_count": 53,
   "id": "7854c3fa-3342-4edc-834e-190b4f8b8177",
   "metadata": {},
   "outputs": [
    {
     "data": {
      "text/html": [
       "<div>\n",
       "<style scoped>\n",
       "    .dataframe tbody tr th:only-of-type {\n",
       "        vertical-align: middle;\n",
       "    }\n",
       "\n",
       "    .dataframe tbody tr th {\n",
       "        vertical-align: top;\n",
       "    }\n",
       "\n",
       "    .dataframe thead th {\n",
       "        text-align: right;\n",
       "    }\n",
       "</style>\n",
       "<table border=\"1\" class=\"dataframe\">\n",
       "  <thead>\n",
       "    <tr style=\"text-align: right;\">\n",
       "      <th></th>\n",
       "      <th>movie_id</th>\n",
       "      <th>AVG_VOTES_ratings</th>\n",
       "    </tr>\n",
       "  </thead>\n",
       "  <tbody>\n",
       "    <tr>\n",
       "      <th>0</th>\n",
       "      <td>tt5390098</td>\n",
       "      <td>10.0</td>\n",
       "    </tr>\n",
       "  </tbody>\n",
       "</table>\n",
       "</div>"
      ],
      "text/plain": [
       "    movie_id  AVG_VOTES_ratings\n",
       "0  tt5390098               10.0"
      ]
     },
     "execution_count": 53,
     "metadata": {},
     "output_type": "execute_result"
    }
   ],
   "source": [
    "#Highest number of averaging ratings \n",
    "pd.read_sql_query(\"\"\"SELECT  movie_id,MAX(averagerating) AS AVG_VOTES_ratings\n",
    "FROM movie_ratings\n",
    "ORDER BY AVG_VOTES_ratings DESC\n",
    "\n",
    " \"\"\", conn)"
   ]
  },
  {
   "cell_type": "code",
   "execution_count": 54,
   "id": "402bed48-6d67-459f-9603-6a3f58ecc251",
   "metadata": {},
   "outputs": [
    {
     "data": {
      "text/html": [
       "<div>\n",
       "<style scoped>\n",
       "    .dataframe tbody tr th:only-of-type {\n",
       "        vertical-align: middle;\n",
       "    }\n",
       "\n",
       "    .dataframe tbody tr th {\n",
       "        vertical-align: top;\n",
       "    }\n",
       "\n",
       "    .dataframe thead th {\n",
       "        text-align: right;\n",
       "    }\n",
       "</style>\n",
       "<table border=\"1\" class=\"dataframe\">\n",
       "  <thead>\n",
       "    <tr style=\"text-align: right;\">\n",
       "      <th></th>\n",
       "      <th>original_title</th>\n",
       "      <th>runtime_minutes</th>\n",
       "      <th>genres</th>\n",
       "      <th>movie_id</th>\n",
       "      <th>start_year</th>\n",
       "    </tr>\n",
       "  </thead>\n",
       "  <tbody>\n",
       "    <tr>\n",
       "      <th>0</th>\n",
       "      <td>Inception</td>\n",
       "      <td>148.0</td>\n",
       "      <td>Action,Adventure,Sci-Fi</td>\n",
       "      <td>tt1375666</td>\n",
       "      <td>2010</td>\n",
       "    </tr>\n",
       "  </tbody>\n",
       "</table>\n",
       "</div>"
      ],
      "text/plain": [
       "  original_title  runtime_minutes                   genres   movie_id  \\\n",
       "0      Inception            148.0  Action,Adventure,Sci-Fi  tt1375666   \n",
       "\n",
       "   start_year  \n",
       "0        2010  "
      ]
     },
     "execution_count": 54,
     "metadata": {},
     "output_type": "execute_result"
    }
   ],
   "source": [
    "#IDENTIFY THE TYPE OF THE FILMS WITH THE HIGHEST NUMBER OF NUMBER OF VOTES RATINGS \n",
    "pd.read_sql_query(\"\"\"SELECT original_title,runtime_minutes,genres,movie_id,start_year\n",
    "FROM movie_basics\n",
    "WHERE movie_id=\"tt1375666\" \"\"\",conn)"
   ]
  },
  {
   "cell_type": "code",
   "execution_count": 55,
   "id": "b6128b41-3794-49b9-94f9-a91d315c57c9",
   "metadata": {},
   "outputs": [
    {
     "data": {
      "text/html": [
       "<div>\n",
       "<style scoped>\n",
       "    .dataframe tbody tr th:only-of-type {\n",
       "        vertical-align: middle;\n",
       "    }\n",
       "\n",
       "    .dataframe tbody tr th {\n",
       "        vertical-align: top;\n",
       "    }\n",
       "\n",
       "    .dataframe thead th {\n",
       "        text-align: right;\n",
       "    }\n",
       "</style>\n",
       "<table border=\"1\" class=\"dataframe\">\n",
       "  <thead>\n",
       "    <tr style=\"text-align: right;\">\n",
       "      <th></th>\n",
       "      <th>original_title</th>\n",
       "      <th>runtime_minutes</th>\n",
       "      <th>genres</th>\n",
       "      <th>movie_id</th>\n",
       "      <th>start_year</th>\n",
       "    </tr>\n",
       "  </thead>\n",
       "  <tbody>\n",
       "    <tr>\n",
       "      <th>0</th>\n",
       "      <td>Atlas Mountain: Barbary Macaques - Childcaring...</td>\n",
       "      <td>59.0</td>\n",
       "      <td>Documentary</td>\n",
       "      <td>tt5390098</td>\n",
       "      <td>2015</td>\n",
       "    </tr>\n",
       "  </tbody>\n",
       "</table>\n",
       "</div>"
      ],
      "text/plain": [
       "                                      original_title  runtime_minutes  \\\n",
       "0  Atlas Mountain: Barbary Macaques - Childcaring...             59.0   \n",
       "\n",
       "        genres   movie_id  start_year  \n",
       "0  Documentary  tt5390098        2015  "
      ]
     },
     "execution_count": 55,
     "metadata": {},
     "output_type": "execute_result"
    }
   ],
   "source": [
    "#IDENTIFY THE TYPE OF THE FILMS WITH THE HIGHEST NUMBER OF AVG VOTES RATINGS \n",
    "pd.read_sql_query(\"\"\"SELECT original_title,runtime_minutes,genres,movie_id,start_year\n",
    "FROM movie_basics\n",
    "WHERE movie_id=\"tt5390098\" \"\"\",conn)"
   ]
  },
  {
   "cell_type": "markdown",
   "id": "864caeae-5f8a-4cba-8071-79d9c350ef87",
   "metadata": {},
   "source": [
    "<h4><b>CONC:</b><br>From the analysis, the movie with the highest number of votes is <b>Inception</b><br>\n",
    "The movie with the highest average is <b>Atlas Mountain: Barbary Macaques - Childcaring.</b>/</h4>"
   ]
  },
  {
   "cell_type": "markdown",
   "id": "a3f2dc97-fb58-4d27-a168-6afbf7ef7ebd",
   "metadata": {},
   "source": [
    "<h3><b>5.0 Movie Regional_Popularity </b></h3>"
   ]
  },
  {
   "cell_type": "code",
   "execution_count": 56,
   "id": "bb5ece8b-237c-4615-aee2-57edf49b6bd9",
   "metadata": {},
   "outputs": [
    {
     "data": {
      "text/html": [
       "<div>\n",
       "<style scoped>\n",
       "    .dataframe tbody tr th:only-of-type {\n",
       "        vertical-align: middle;\n",
       "    }\n",
       "\n",
       "    .dataframe tbody tr th {\n",
       "        vertical-align: top;\n",
       "    }\n",
       "\n",
       "    .dataframe thead th {\n",
       "        text-align: right;\n",
       "    }\n",
       "</style>\n",
       "<table border=\"1\" class=\"dataframe\">\n",
       "  <thead>\n",
       "    <tr style=\"text-align: right;\">\n",
       "      <th></th>\n",
       "      <th>movie_id</th>\n",
       "      <th>ordering</th>\n",
       "      <th>title</th>\n",
       "      <th>region</th>\n",
       "      <th>language</th>\n",
       "      <th>types</th>\n",
       "      <th>attributes</th>\n",
       "      <th>is_original_title</th>\n",
       "    </tr>\n",
       "  </thead>\n",
       "  <tbody>\n",
       "    <tr>\n",
       "      <th>0</th>\n",
       "      <td>tt0369610</td>\n",
       "      <td>10</td>\n",
       "      <td>Джурасик свят</td>\n",
       "      <td>BG</td>\n",
       "      <td>bg</td>\n",
       "      <td>None</td>\n",
       "      <td>None</td>\n",
       "      <td>0.0</td>\n",
       "    </tr>\n",
       "    <tr>\n",
       "      <th>1</th>\n",
       "      <td>tt0369610</td>\n",
       "      <td>11</td>\n",
       "      <td>Jurashikku warudo</td>\n",
       "      <td>JP</td>\n",
       "      <td>None</td>\n",
       "      <td>imdbDisplay</td>\n",
       "      <td>None</td>\n",
       "      <td>0.0</td>\n",
       "    </tr>\n",
       "    <tr>\n",
       "      <th>2</th>\n",
       "      <td>tt0369610</td>\n",
       "      <td>12</td>\n",
       "      <td>Jurassic World: O Mundo dos Dinossauros</td>\n",
       "      <td>BR</td>\n",
       "      <td>None</td>\n",
       "      <td>imdbDisplay</td>\n",
       "      <td>None</td>\n",
       "      <td>0.0</td>\n",
       "    </tr>\n",
       "    <tr>\n",
       "      <th>3</th>\n",
       "      <td>tt0369610</td>\n",
       "      <td>13</td>\n",
       "      <td>O Mundo dos Dinossauros</td>\n",
       "      <td>BR</td>\n",
       "      <td>None</td>\n",
       "      <td>None</td>\n",
       "      <td>short title</td>\n",
       "      <td>0.0</td>\n",
       "    </tr>\n",
       "    <tr>\n",
       "      <th>4</th>\n",
       "      <td>tt0369610</td>\n",
       "      <td>14</td>\n",
       "      <td>Jurassic World</td>\n",
       "      <td>FR</td>\n",
       "      <td>None</td>\n",
       "      <td>imdbDisplay</td>\n",
       "      <td>None</td>\n",
       "      <td>0.0</td>\n",
       "    </tr>\n",
       "  </tbody>\n",
       "</table>\n",
       "</div>"
      ],
      "text/plain": [
       "    movie_id  ordering                                    title region  \\\n",
       "0  tt0369610        10                            Джурасик свят     BG   \n",
       "1  tt0369610        11                        Jurashikku warudo     JP   \n",
       "2  tt0369610        12  Jurassic World: O Mundo dos Dinossauros     BR   \n",
       "3  tt0369610        13                  O Mundo dos Dinossauros     BR   \n",
       "4  tt0369610        14                           Jurassic World     FR   \n",
       "\n",
       "  language        types   attributes  is_original_title  \n",
       "0       bg         None         None                0.0  \n",
       "1     None  imdbDisplay         None                0.0  \n",
       "2     None  imdbDisplay         None                0.0  \n",
       "3     None         None  short title                0.0  \n",
       "4     None  imdbDisplay         None                0.0  "
      ]
     },
     "execution_count": 56,
     "metadata": {},
     "output_type": "execute_result"
    }
   ],
   "source": [
    "#print out the table ,Movies_Akas\n",
    "pd.read_sql_query(\"\"\"SELECT * FROM movie_akas\n",
    "LIMIT 5\n",
    "\"\"\",conn)"
   ]
  },
  {
   "cell_type": "code",
   "execution_count": 57,
   "id": "db5a9d5a-ace4-434f-9fdb-b3461961a8e4",
   "metadata": {},
   "outputs": [
    {
     "data": {
      "text/html": [
       "<div>\n",
       "<style scoped>\n",
       "    .dataframe tbody tr th:only-of-type {\n",
       "        vertical-align: middle;\n",
       "    }\n",
       "\n",
       "    .dataframe tbody tr th {\n",
       "        vertical-align: top;\n",
       "    }\n",
       "\n",
       "    .dataframe thead th {\n",
       "        text-align: right;\n",
       "    }\n",
       "</style>\n",
       "<table border=\"1\" class=\"dataframe\">\n",
       "  <thead>\n",
       "    <tr style=\"text-align: right;\">\n",
       "      <th></th>\n",
       "      <th>title</th>\n",
       "      <th>movie_id</th>\n",
       "      <th>region_count</th>\n",
       "      <th>region</th>\n",
       "    </tr>\n",
       "  </thead>\n",
       "  <tbody>\n",
       "    <tr>\n",
       "      <th>0</th>\n",
       "      <td>Jurassic World 3D</td>\n",
       "      <td>tt0369610</td>\n",
       "      <td>51490</td>\n",
       "      <td>US</td>\n",
       "    </tr>\n",
       "    <tr>\n",
       "      <th>1</th>\n",
       "      <td>Jurassic World 3D</td>\n",
       "      <td>tt0369610</td>\n",
       "      <td>18467</td>\n",
       "      <td>XWW</td>\n",
       "    </tr>\n",
       "    <tr>\n",
       "      <th>2</th>\n",
       "      <td>Мир Юрского периода</td>\n",
       "      <td>tt0369610</td>\n",
       "      <td>13817</td>\n",
       "      <td>RU</td>\n",
       "    </tr>\n",
       "    <tr>\n",
       "      <th>3</th>\n",
       "      <td>Jurassic World 3D</td>\n",
       "      <td>tt0369610</td>\n",
       "      <td>11634</td>\n",
       "      <td>DE</td>\n",
       "    </tr>\n",
       "    <tr>\n",
       "      <th>4</th>\n",
       "      <td>Jurassic World</td>\n",
       "      <td>tt0369610</td>\n",
       "      <td>10990</td>\n",
       "      <td>FR</td>\n",
       "    </tr>\n",
       "    <tr>\n",
       "      <th>5</th>\n",
       "      <td>Jurassic World</td>\n",
       "      <td>tt0369610</td>\n",
       "      <td>9007</td>\n",
       "      <td>ES</td>\n",
       "    </tr>\n",
       "    <tr>\n",
       "      <th>6</th>\n",
       "      <td>Cloud Cuckoo Land</td>\n",
       "      <td>tt0381957</td>\n",
       "      <td>8942</td>\n",
       "      <td>GB</td>\n",
       "    </tr>\n",
       "    <tr>\n",
       "      <th>7</th>\n",
       "      <td>Monde jurassique</td>\n",
       "      <td>tt0369610</td>\n",
       "      <td>8871</td>\n",
       "      <td>CA</td>\n",
       "    </tr>\n",
       "    <tr>\n",
       "      <th>8</th>\n",
       "      <td>Park jurajski 4</td>\n",
       "      <td>tt0369610</td>\n",
       "      <td>8691</td>\n",
       "      <td>PL</td>\n",
       "    </tr>\n",
       "    <tr>\n",
       "      <th>9</th>\n",
       "      <td>John Carter Maaveeran</td>\n",
       "      <td>tt0401729</td>\n",
       "      <td>8435</td>\n",
       "      <td>IN</td>\n",
       "    </tr>\n",
       "  </tbody>\n",
       "</table>\n",
       "</div>"
      ],
      "text/plain": [
       "                   title   movie_id  region_count region\n",
       "0      Jurassic World 3D  tt0369610         51490     US\n",
       "1      Jurassic World 3D  tt0369610         18467    XWW\n",
       "2    Мир Юрского периода  tt0369610         13817     RU\n",
       "3      Jurassic World 3D  tt0369610         11634     DE\n",
       "4         Jurassic World  tt0369610         10990     FR\n",
       "5         Jurassic World  tt0369610          9007     ES\n",
       "6      Cloud Cuckoo Land  tt0381957          8942     GB\n",
       "7       Monde jurassique  tt0369610          8871     CA\n",
       "8        Park jurajski 4  tt0369610          8691     PL\n",
       "9  John Carter Maaveeran  tt0401729          8435     IN"
      ]
     },
     "execution_count": 57,
     "metadata": {},
     "output_type": "execute_result"
    }
   ],
   "source": [
    "#checking on the movie popularity per Region\n",
    "pd.read_sql_query(\"\"\"SELECT title,movie_id,COUNT(region) AS region_count,region\n",
    "FROM movie_akas\n",
    "GROUP BY region\n",
    "ORDER BY region_count DESC\n",
    "LIMIT 10\n",
    " \"\"\", conn)"
   ]
  },
  {
   "cell_type": "code",
   "execution_count": 58,
   "id": "8dc1807a-4ec7-4c7f-82f0-1587b0b44b2c",
   "metadata": {},
   "outputs": [
    {
     "data": {
      "text/html": [
       "<div>\n",
       "<style scoped>\n",
       "    .dataframe tbody tr th:only-of-type {\n",
       "        vertical-align: middle;\n",
       "    }\n",
       "\n",
       "    .dataframe tbody tr th {\n",
       "        vertical-align: top;\n",
       "    }\n",
       "\n",
       "    .dataframe thead th {\n",
       "        text-align: right;\n",
       "    }\n",
       "</style>\n",
       "<table border=\"1\" class=\"dataframe\">\n",
       "  <thead>\n",
       "    <tr style=\"text-align: right;\">\n",
       "      <th></th>\n",
       "      <th>title</th>\n",
       "      <th>movie_id</th>\n",
       "      <th>MAX_ORDER</th>\n",
       "      <th>region</th>\n",
       "    </tr>\n",
       "  </thead>\n",
       "  <tbody>\n",
       "    <tr>\n",
       "      <th>0</th>\n",
       "      <td>Žvaigždžiu karai: galia nubunda</td>\n",
       "      <td>tt2488496</td>\n",
       "      <td>61</td>\n",
       "      <td>LT</td>\n",
       "    </tr>\n",
       "    <tr>\n",
       "      <th>1</th>\n",
       "      <td>Star Wars: Güç Uyaniyor</td>\n",
       "      <td>tt2488496</td>\n",
       "      <td>60</td>\n",
       "      <td>TR</td>\n",
       "    </tr>\n",
       "    <tr>\n",
       "      <th>2</th>\n",
       "      <td>Star Wars: Episódio VII - O Despertar da Força</td>\n",
       "      <td>tt2488496</td>\n",
       "      <td>59</td>\n",
       "      <td>PT</td>\n",
       "    </tr>\n",
       "    <tr>\n",
       "      <th>3</th>\n",
       "      <td>Star Wars: O Despertar da Força</td>\n",
       "      <td>tt2488496</td>\n",
       "      <td>58</td>\n",
       "      <td>BR</td>\n",
       "    </tr>\n",
       "    <tr>\n",
       "      <th>4</th>\n",
       "      <td>Star Wars: Das Erwachen der Macht</td>\n",
       "      <td>tt2488496</td>\n",
       "      <td>57</td>\n",
       "      <td>DE</td>\n",
       "    </tr>\n",
       "  </tbody>\n",
       "</table>\n",
       "</div>"
      ],
      "text/plain": [
       "                                            title   movie_id  MAX_ORDER region\n",
       "0                 Žvaigždžiu karai: galia nubunda  tt2488496         61     LT\n",
       "1                         Star Wars: Güç Uyaniyor  tt2488496         60     TR\n",
       "2  Star Wars: Episódio VII - O Despertar da Força  tt2488496         59     PT\n",
       "3                 Star Wars: O Despertar da Força  tt2488496         58     BR\n",
       "4               Star Wars: Das Erwachen der Macht  tt2488496         57     DE"
      ]
     },
     "execution_count": 58,
     "metadata": {},
     "output_type": "execute_result"
    }
   ],
   "source": [
    "#Region with the highest Order\n",
    "pd.read_sql_query(\"\"\"SELECT title,movie_id,MAX(ordering) AS MAX_ORDER,region\n",
    "FROM movie_akas\n",
    "GROUP BY region\n",
    "ORDER BY MAX_ORDER DESC\n",
    "LIMIT 5\n",
    " \"\"\", conn)\n"
   ]
  },
  {
   "cell_type": "code",
   "execution_count": 59,
   "id": "0458348a-b7d5-4d86-8616-8f654cf2d16e",
   "metadata": {},
   "outputs": [
    {
     "data": {
      "text/html": [
       "<div>\n",
       "<style scoped>\n",
       "    .dataframe tbody tr th:only-of-type {\n",
       "        vertical-align: middle;\n",
       "    }\n",
       "\n",
       "    .dataframe tbody tr th {\n",
       "        vertical-align: top;\n",
       "    }\n",
       "\n",
       "    .dataframe thead th {\n",
       "        text-align: right;\n",
       "    }\n",
       "</style>\n",
       "<table border=\"1\" class=\"dataframe\">\n",
       "  <thead>\n",
       "    <tr style=\"text-align: right;\">\n",
       "      <th></th>\n",
       "      <th>movie_id</th>\n",
       "      <th>averagerating</th>\n",
       "      <th>numvotes</th>\n",
       "    </tr>\n",
       "  </thead>\n",
       "  <tbody>\n",
       "    <tr>\n",
       "      <th>0</th>\n",
       "      <td>tt0369610</td>\n",
       "      <td>7.0</td>\n",
       "      <td>539338</td>\n",
       "    </tr>\n",
       "  </tbody>\n",
       "</table>\n",
       "</div>"
      ],
      "text/plain": [
       "    movie_id  averagerating  numvotes\n",
       "0  tt0369610            7.0    539338"
      ]
     },
     "execution_count": 59,
     "metadata": {},
     "output_type": "execute_result"
    }
   ],
   "source": [
    "#movie_ rating \n",
    "pd.read_sql_query(\"\"\"SELECT movie_id,averagerating,numvotes\n",
    "FROM movie_ratings\n",
    "WHERE movie_id=\"tt0369610\" \"\"\",conn)"
   ]
  },
  {
   "cell_type": "markdown",
   "id": "48259629-964a-4031-b4d9-61460aef4257",
   "metadata": {},
   "source": [
    "<h4><b>CONC:</b><br>From the analysis, the region with the highest number of Movie counts is <b>\"US\", MOVIE-Jurassic World 3D</b>,<br> with counts of 51490 AND ratings of (avgrate-7.0), num_votes-539338\n",
    "</h4>"
   ]
  },
  {
   "cell_type": "markdown",
   "id": "65425126-65b7-431f-80ff-a5affe2673a0",
   "metadata": {},
   "source": [
    "<h3><b>5.1. MOVIE WITH THE HIGHEST WRITER\n",
    "</b></h3>"
   ]
  },
  {
   "cell_type": "code",
   "execution_count": 60,
   "id": "c446c471-0215-47fd-a4f0-8e621e689d97",
   "metadata": {},
   "outputs": [
    {
     "data": {
      "text/html": [
       "<div>\n",
       "<style scoped>\n",
       "    .dataframe tbody tr th:only-of-type {\n",
       "        vertical-align: middle;\n",
       "    }\n",
       "\n",
       "    .dataframe tbody tr th {\n",
       "        vertical-align: top;\n",
       "    }\n",
       "\n",
       "    .dataframe thead th {\n",
       "        text-align: right;\n",
       "    }\n",
       "</style>\n",
       "<table border=\"1\" class=\"dataframe\">\n",
       "  <thead>\n",
       "    <tr style=\"text-align: right;\">\n",
       "      <th></th>\n",
       "      <th>COUNT_person</th>\n",
       "      <th>movie_id</th>\n",
       "    </tr>\n",
       "  </thead>\n",
       "  <tbody>\n",
       "    <tr>\n",
       "      <th>0</th>\n",
       "      <td>3818</td>\n",
       "      <td>tt4050462</td>\n",
       "    </tr>\n",
       "    <tr>\n",
       "      <th>1</th>\n",
       "      <td>2397</td>\n",
       "      <td>tt3091166</td>\n",
       "    </tr>\n",
       "    <tr>\n",
       "      <th>2</th>\n",
       "      <td>2392</td>\n",
       "      <td>tt2249786</td>\n",
       "    </tr>\n",
       "    <tr>\n",
       "      <th>3</th>\n",
       "      <td>2013</td>\n",
       "      <td>tt4942694</td>\n",
       "    </tr>\n",
       "    <tr>\n",
       "      <th>4</th>\n",
       "      <td>1770</td>\n",
       "      <td>tt3528906</td>\n",
       "    </tr>\n",
       "  </tbody>\n",
       "</table>\n",
       "</div>"
      ],
      "text/plain": [
       "   COUNT_person   movie_id\n",
       "0          3818  tt4050462\n",
       "1          2397  tt3091166\n",
       "2          2392  tt2249786\n",
       "3          2013  tt4942694\n",
       "4          1770  tt3528906"
      ]
     },
     "execution_count": 60,
     "metadata": {},
     "output_type": "execute_result"
    }
   ],
   "source": [
    "#confirmation of the movie with the highest writer\n",
    "pd.read_sql_query(\"\"\"SELECT COUNT(person_id) AS COUNT_person,movie_id\n",
    "FROM writers\n",
    "GROUP BY movie_id \n",
    "ORDER BY COUNT_person DESC\n",
    "LIMIT 5 \"\"\", conn)\n"
   ]
  },
  {
   "cell_type": "code",
   "execution_count": 61,
   "id": "39931b48-ecdc-4428-8fa0-8f483239a080",
   "metadata": {},
   "outputs": [
    {
     "data": {
      "text/html": [
       "<div>\n",
       "<style scoped>\n",
       "    .dataframe tbody tr th:only-of-type {\n",
       "        vertical-align: middle;\n",
       "    }\n",
       "\n",
       "    .dataframe tbody tr th {\n",
       "        vertical-align: top;\n",
       "    }\n",
       "\n",
       "    .dataframe thead th {\n",
       "        text-align: right;\n",
       "    }\n",
       "</style>\n",
       "<table border=\"1\" class=\"dataframe\">\n",
       "  <thead>\n",
       "    <tr style=\"text-align: right;\">\n",
       "      <th></th>\n",
       "      <th>movie_id</th>\n",
       "      <th>primary_title</th>\n",
       "      <th>original_title</th>\n",
       "      <th>start_year</th>\n",
       "      <th>runtime_minutes</th>\n",
       "    </tr>\n",
       "  </thead>\n",
       "  <tbody>\n",
       "    <tr>\n",
       "      <th>0</th>\n",
       "      <td>tt4050462</td>\n",
       "      <td>World of Death</td>\n",
       "      <td>World of Death</td>\n",
       "      <td>2016</td>\n",
       "      <td>142.0</td>\n",
       "    </tr>\n",
       "  </tbody>\n",
       "</table>\n",
       "</div>"
      ],
      "text/plain": [
       "    movie_id   primary_title  original_title  start_year  runtime_minutes\n",
       "0  tt4050462  World of Death  World of Death        2016            142.0"
      ]
     },
     "execution_count": 61,
     "metadata": {},
     "output_type": "execute_result"
    }
   ],
   "source": [
    "#Displaying the movie name with the highest writer\n",
    "pd.read_sql_query(\"\"\"SELECT movie_id,primary_title,original_title,start_year,runtime_minutes\n",
    "FROM movie_basics\n",
    "WHERE movie_id=\"tt4050462\" \"\"\",conn)"
   ]
  },
  {
   "cell_type": "code",
   "execution_count": 65,
   "id": "803a7948-e740-45d3-a08b-de2d8444a614",
   "metadata": {},
   "outputs": [
    {
     "data": {
      "text/html": [
       "<div>\n",
       "<style scoped>\n",
       "    .dataframe tbody tr th:only-of-type {\n",
       "        vertical-align: middle;\n",
       "    }\n",
       "\n",
       "    .dataframe tbody tr th {\n",
       "        vertical-align: top;\n",
       "    }\n",
       "\n",
       "    .dataframe thead th {\n",
       "        text-align: right;\n",
       "    }\n",
       "</style>\n",
       "<table border=\"1\" class=\"dataframe\">\n",
       "  <thead>\n",
       "    <tr style=\"text-align: right;\">\n",
       "      <th></th>\n",
       "      <th>movie_id</th>\n",
       "      <th>averagerating</th>\n",
       "      <th>numvotes</th>\n",
       "    </tr>\n",
       "  </thead>\n",
       "  <tbody>\n",
       "    <tr>\n",
       "      <th>0</th>\n",
       "      <td>tt4050462</td>\n",
       "      <td>7.2</td>\n",
       "      <td>31</td>\n",
       "    </tr>\n",
       "  </tbody>\n",
       "</table>\n",
       "</div>"
      ],
      "text/plain": [
       "    movie_id  averagerating  numvotes\n",
       "0  tt4050462            7.2        31"
      ]
     },
     "execution_count": 65,
     "metadata": {},
     "output_type": "execute_result"
    }
   ],
   "source": [
    "#understanding the movie ratings \n",
    "pd.read_sql_query(\"\"\"SELECT movie_id,averagerating,numvotes\n",
    "FROM movie_ratings\n",
    "WHERE movie_id=\"tt4050462\" \"\"\",conn)"
   ]
  },
  {
   "cell_type": "code",
   "execution_count": 64,
   "id": "f1ebce8a-a416-489f-8424-030176f8f5ee",
   "metadata": {},
   "outputs": [
    {
     "data": {
      "text/html": [
       "<div>\n",
       "<style scoped>\n",
       "    .dataframe tbody tr th:only-of-type {\n",
       "        vertical-align: middle;\n",
       "    }\n",
       "\n",
       "    .dataframe tbody tr th {\n",
       "        vertical-align: top;\n",
       "    }\n",
       "\n",
       "    .dataframe thead th {\n",
       "        text-align: right;\n",
       "    }\n",
       "</style>\n",
       "<table border=\"1\" class=\"dataframe\">\n",
       "  <thead>\n",
       "    <tr style=\"text-align: right;\">\n",
       "      <th></th>\n",
       "      <th>region</th>\n",
       "      <th>title</th>\n",
       "      <th>ordering</th>\n",
       "      <th>language</th>\n",
       "    </tr>\n",
       "  </thead>\n",
       "  <tbody>\n",
       "    <tr>\n",
       "      <th>0</th>\n",
       "      <td>US</td>\n",
       "      <td>World of Death</td>\n",
       "      <td>1</td>\n",
       "      <td>None</td>\n",
       "    </tr>\n",
       "  </tbody>\n",
       "</table>\n",
       "</div>"
      ],
      "text/plain": [
       "  region           title  ordering language\n",
       "0     US  World of Death         1     None"
      ]
     },
     "execution_count": 64,
     "metadata": {},
     "output_type": "execute_result"
    }
   ],
   "source": [
    "#movie with the highest writer popularity\n",
    "pd.read_sql_query(\"\"\"SELECT region,title, ordering, language\n",
    "FROM movie_akas\n",
    "WHERE movie_id=\"tt4050462\" \"\"\",conn)"
   ]
  },
  {
   "cell_type": "code",
   "execution_count": 63,
   "id": "61dc5b4d-70c2-4f94-a520-cd567dd2856d",
   "metadata": {},
   "outputs": [
    {
     "data": {
      "text/html": [
       "<div>\n",
       "<style scoped>\n",
       "    .dataframe tbody tr th:only-of-type {\n",
       "        vertical-align: middle;\n",
       "    }\n",
       "\n",
       "    .dataframe tbody tr th {\n",
       "        vertical-align: top;\n",
       "    }\n",
       "\n",
       "    .dataframe thead th {\n",
       "        text-align: right;\n",
       "    }\n",
       "</style>\n",
       "<table border=\"1\" class=\"dataframe\">\n",
       "  <thead>\n",
       "    <tr style=\"text-align: right;\">\n",
       "      <th></th>\n",
       "      <th>WRITER</th>\n",
       "      <th>person_id</th>\n",
       "    </tr>\n",
       "  </thead>\n",
       "  <tbody>\n",
       "    <tr>\n",
       "      <th>0</th>\n",
       "      <td>3818</td>\n",
       "      <td>nm6031788</td>\n",
       "    </tr>\n",
       "  </tbody>\n",
       "</table>\n",
       "</div>"
      ],
      "text/plain": [
       "   WRITER  person_id\n",
       "0    3818  nm6031788"
      ]
     },
     "execution_count": 63,
     "metadata": {},
     "output_type": "execute_result"
    }
   ],
   "source": [
    "#understanding the name of the writer\n",
    "\n",
    "pd.read_sql_query(\"\"\"SELECT COUNT(person_id) AS WRITER,person_id\n",
    "FROM writers\n",
    "WHERE movie_id=\"tt4050462\" \"\"\", conn)"
   ]
  },
  {
   "cell_type": "code",
   "execution_count": 62,
   "id": "d3ceb8a8-4eee-401f-b799-3b8f55616aac",
   "metadata": {},
   "outputs": [
    {
     "data": {
      "text/html": [
       "<div>\n",
       "<style scoped>\n",
       "    .dataframe tbody tr th:only-of-type {\n",
       "        vertical-align: middle;\n",
       "    }\n",
       "\n",
       "    .dataframe tbody tr th {\n",
       "        vertical-align: top;\n",
       "    }\n",
       "\n",
       "    .dataframe thead th {\n",
       "        text-align: right;\n",
       "    }\n",
       "</style>\n",
       "<table border=\"1\" class=\"dataframe\">\n",
       "  <thead>\n",
       "    <tr style=\"text-align: right;\">\n",
       "      <th></th>\n",
       "      <th>person_id</th>\n",
       "      <th>primary_name</th>\n",
       "      <th>primary_profession</th>\n",
       "    </tr>\n",
       "  </thead>\n",
       "  <tbody>\n",
       "    <tr>\n",
       "      <th>0</th>\n",
       "      <td>nm6031788</td>\n",
       "      <td>Frank Appache</td>\n",
       "      <td>director,writer,editor</td>\n",
       "    </tr>\n",
       "  </tbody>\n",
       "</table>\n",
       "</div>"
      ],
      "text/plain": [
       "   person_id   primary_name      primary_profession\n",
       "0  nm6031788  Frank Appache  director,writer,editor"
      ]
     },
     "execution_count": 62,
     "metadata": {},
     "output_type": "execute_result"
    }
   ],
   "source": [
    "#printing out the name_writer of\n",
    "pd.read_sql_query(\"\"\"SELECT person_id,primary_name,primary_profession\n",
    "FROM persons\n",
    "WHERE person_id=\"nm6031788\" \"\"\", conn)"
   ]
  },
  {
   "cell_type": "markdown",
   "id": "86707844-27b6-41b1-9286-e35d7b854da5",
   "metadata": {},
   "source": [
    "<h4><b>CONC:</b><br>The movie with the highest writers is <b>WORLD OF DEATH</b><br><br>\n",
    "With the Rating of averagely  <b>7.2</b><br><br>\n",
    "Popularity is in US<br><br>\n",
    "Name of the writer is <b>Frank Appache</b><br><br>\n",
    "Year of Production is <b>2016</b></h4>"
   ]
  },
  {
   "cell_type": "code",
   "execution_count": null,
   "id": "4faca135-40f8-4e3f-98d6-ef22be4836d9",
   "metadata": {},
   "outputs": [],
   "source": []
  },
  {
   "cell_type": "markdown",
   "id": "62b45f0e-ea83-412f-ae51-af38969faea8",
   "metadata": {},
   "source": [
    "<h2>6.0.DATA EXPLORATORY ANALYSIS<br><br>\n",
    "(i)Movie_gross</h2>"
   ]
  },
  {
   "cell_type": "code",
   "execution_count": 66,
   "id": "5e2b00b2-2fa5-4252-b774-c98223766f14",
   "metadata": {},
   "outputs": [
    {
     "data": {
      "text/html": [
       "<div>\n",
       "<style scoped>\n",
       "    .dataframe tbody tr th:only-of-type {\n",
       "        vertical-align: middle;\n",
       "    }\n",
       "\n",
       "    .dataframe tbody tr th {\n",
       "        vertical-align: top;\n",
       "    }\n",
       "\n",
       "    .dataframe thead th {\n",
       "        text-align: right;\n",
       "    }\n",
       "</style>\n",
       "<table border=\"1\" class=\"dataframe\">\n",
       "  <thead>\n",
       "    <tr style=\"text-align: right;\">\n",
       "      <th></th>\n",
       "      <th>title</th>\n",
       "      <th>studio</th>\n",
       "      <th>domestic_gross</th>\n",
       "      <th>foreign_gross</th>\n",
       "      <th>year</th>\n",
       "    </tr>\n",
       "  </thead>\n",
       "  <tbody>\n",
       "    <tr>\n",
       "      <th>0</th>\n",
       "      <td>Toy Story 3</td>\n",
       "      <td>BV</td>\n",
       "      <td>415000000.0</td>\n",
       "      <td>652000000.0</td>\n",
       "      <td>2010</td>\n",
       "    </tr>\n",
       "    <tr>\n",
       "      <th>1</th>\n",
       "      <td>Alice in Wonderland (2010)</td>\n",
       "      <td>BV</td>\n",
       "      <td>334200000.0</td>\n",
       "      <td>691300000.0</td>\n",
       "      <td>2010</td>\n",
       "    </tr>\n",
       "    <tr>\n",
       "      <th>2</th>\n",
       "      <td>Harry Potter and the Deathly Hallows Part 1</td>\n",
       "      <td>WB</td>\n",
       "      <td>296000000.0</td>\n",
       "      <td>664300000.0</td>\n",
       "      <td>2010</td>\n",
       "    </tr>\n",
       "    <tr>\n",
       "      <th>3</th>\n",
       "      <td>Inception</td>\n",
       "      <td>WB</td>\n",
       "      <td>292600000.0</td>\n",
       "      <td>535700000.0</td>\n",
       "      <td>2010</td>\n",
       "    </tr>\n",
       "    <tr>\n",
       "      <th>4</th>\n",
       "      <td>Shrek Forever After</td>\n",
       "      <td>P/DW</td>\n",
       "      <td>238700000.0</td>\n",
       "      <td>513900000.0</td>\n",
       "      <td>2010</td>\n",
       "    </tr>\n",
       "  </tbody>\n",
       "</table>\n",
       "</div>"
      ],
      "text/plain": [
       "                                         title studio  domestic_gross  \\\n",
       "0                                  Toy Story 3     BV     415000000.0   \n",
       "1                   Alice in Wonderland (2010)     BV     334200000.0   \n",
       "2  Harry Potter and the Deathly Hallows Part 1     WB     296000000.0   \n",
       "3                                    Inception     WB     292600000.0   \n",
       "4                          Shrek Forever After   P/DW     238700000.0   \n",
       "\n",
       "   foreign_gross  year  \n",
       "0    652000000.0  2010  \n",
       "1    691300000.0  2010  \n",
       "2    664300000.0  2010  \n",
       "3    535700000.0  2010  \n",
       "4    513900000.0  2010  "
      ]
     },
     "execution_count": 66,
     "metadata": {},
     "output_type": "execute_result"
    }
   ],
   "source": [
    "movie_gross.head()"
   ]
  },
  {
   "cell_type": "markdown",
   "id": "42f5e52e-71dc-47c5-9ff0-fc429179fc19",
   "metadata": {},
   "source": [
    "<h3><b>6.1. Formulating a bar graph movie title with the highest Domestic_gross Income</b></h3>"
   ]
  },
  {
   "cell_type": "code",
   "execution_count": 84,
   "id": "3a93e023-5a0d-4f80-b79e-0ae07ee6879d",
   "metadata": {},
   "outputs": [
    {
     "data": {
      "image/png": "[encoded data removed]",
      "text/plain": [
       "<Figure size 640x480 with 1 Axes>"
      ]
     },
     "metadata": {},
     "output_type": "display_data"
    }
   ],
   "source": [
    "#plotting\n",
    "top_movies = movie_gross.sort_values(by='domestic_gross', ascending=False).head(15)\n",
    "\n",
    "\n",
    "#plt.figure(figsize=(12, 8))\n",
    "plt.barh(top_movies['title'], top_movies['domestic_gross'], color='skyblue')\n",
    "plt.xlabel('Domestic Gross ')\n",
    "plt.title('Top 15 Movies by Domestic Gross')\n",
    "plt.gca().invert_yaxis()  # Highest grossing at the top\n",
    "\n",
    "plt.show()"
   ]
  },
  {
   "cell_type": "markdown",
   "id": "2bec839b-8d69-4ff8-b190-15952046e8e8",
   "metadata": {},
   "source": [
    "<h4><b>CONC:</b>The Movie title with the highest domestic_Gross is <b>STAR WARS: The FORCE AWAKENS</b></h4>"
   ]
  },
  {
   "cell_type": "markdown",
   "id": "1a5e05d9-df56-4e9b-8cfa-c61ce9dcd078",
   "metadata": {},
   "source": [
    "<h3><b>6.2.BAR graph of top studios with the highest domestic_gross</b></h3>"
   ]
  },
  {
   "cell_type": "code",
   "execution_count": 87,
   "id": "87f419f3-8b34-4abd-b740-746e202e0b39",
   "metadata": {},
   "outputs": [
    {
     "data": {
      "image/png": "[encoded data removed]",
      "text/plain": [
       "<Figure size 640x480 with 1 Axes>"
      ]
     },
     "metadata": {},
     "output_type": "display_data"
    }
   ],
   "source": [
    "#plotting bar grapgh on studio name with the highest domestic gross\n",
    "top_movies =movie_gross.sort_values(by='domestic_gross', ascending=False).head(15)\n",
    "\n",
    "# Plot\n",
    "#plt.figure(figsize=(10, 8))\n",
    "plt.barh(top_movies[\"studio\"], top_movies['domestic_gross'], color='skyblue')\n",
    "plt.xlabel('Domestic Gross ')\n",
    "plt.title('Top 15 Movies studio by Domestic Gross')\n",
    "plt.gca().invert_yaxis()  # Highest grossing at the top\n",
    "\n",
    "plt.show()"
   ]
  },
  {
   "cell_type": "markdown",
   "id": "13b5cf7d-cf29-4a83-b1b2-76bb9ded1de1",
   "metadata": {},
   "source": [
    "<h4><b>CONC:</b>The  movie_studio with the highest Domestic_gross is <b>BV</b></h4>"
   ]
  },
  {
   "cell_type": "markdown",
   "id": "70e5cd53-7372-4fca-a895-2a13b364006f",
   "metadata": {},
   "source": [
    "<h3><b>6.3.Identifing of the outliers from the data set</b></h3>"
   ]
  },
  {
   "cell_type": "code",
   "execution_count": 92,
   "id": "0287640d-7ed9-4879-b3fa-df5984cef80b",
   "metadata": {},
   "outputs": [
    {
     "data": {
      "image/png": "[encoded data removed]",
      "text/plain": [
       "<Figure size 800x600 with 1 Axes>"
      ]
     },
     "metadata": {},
     "output_type": "display_data"
    }
   ],
   "source": [
    "#identifying of the data set outliers from the data set\n",
    "data = [movie_gross['domestic_gross'].dropna(), movie_gross['foreign_gross'].dropna()]\n",
    "\n",
    "# Plot\n",
    "plt.figure(figsize=(8, 6))\n",
    "plt.boxplot(data, labels=['Domestic Gross', 'Foreign Gross'], patch_artist=True)\n",
    "\n",
    "# Add titles and labels\n",
    "plt.title('Boxplot of Domestic and Foreign Gross')\n",
    "plt.ylabel('Gross ($)')\n",
    "plt.grid(True)\n",
    "plt.tight_layout()\n",
    "plt.show()"
   ]
  },
  {
   "cell_type": "markdown",
   "id": "1b898434-60a8-4d81-a7e8-f7ecdda3e0d0",
   "metadata": {},
   "source": [
    "<h3><b>6.4. Correlationship between domestic and the foreign gross</b></h3>"
   ]
  },
  {
   "cell_type": "code",
   "execution_count": 116,
   "id": "0eafa6c4-718f-4bd4-880f-3c04c237de7f",
   "metadata": {},
   "outputs": [
    {
     "data": {
      "image/png": "[encoded data removed]",
      "text/plain": [
       "<Figure size 640x480 with 1 Axes>"
      ]
     },
     "metadata": {},
     "output_type": "display_data"
    }
   ],
   "source": [
    "#finding out the relationship between domestic and the foreign gross\n",
    "sns.scatterplot(x='foreign_gross', y='domestic_gross', data=movie_gross)\n",
    "plt.title(\"correlationship between Domestic_gross and foreign_gross\")\n",
    "plt.show()"
   ]
  },
  {
   "cell_type": "markdown",
   "id": "3123182d-1737-41f2-9c35-5004364ed1bf",
   "metadata": {},
   "source": [
    "<h4><b>CONC:</b> There is a <b>positive correlationship</b> between domestic and foreign gross</h4>"
   ]
  },
  {
   "cell_type": "markdown",
   "id": "01d7f5f3-490a-4874-a9bd-dd38384c863f",
   "metadata": {},
   "source": [
    "<h3><b>6.5. line graph showing the trends in domestic_gross per anum</b></h3>"
   ]
  },
  {
   "cell_type": "code",
   "execution_count": 117,
   "id": "cde86e09-4e9b-443b-948d-240afeb7293c",
   "metadata": {},
   "outputs": [
    {
     "data": {
      "image/png": "[encoded data removed]",
      "text/plain": [
       "<Figure size 640x480 with 1 Axes>"
      ]
     },
     "metadata": {},
     "output_type": "display_data"
    }
   ],
   "source": [
    "yearly_domestic = movie_gross.groupby('year')['domestic_gross'].sum().reset_index()\n",
    "\n",
    "plt.plot(yearly_domestic['year'], yearly_domestic['domestic_gross'], marker='*', linestyle='-', color='green')\n",
    "plt.title('Yearly Domestic Gross Revenue')\n",
    "plt.xlabel('Year')\n",
    "plt.ylabel('Total Domestic Gross ($)')\n",
    "plt.grid(True)\n",
    "plt.show()"
   ]
  },
  {
   "cell_type": "markdown",
   "id": "bbdf1f34-ba06-40da-9d52-edcbba38172a",
   "metadata": {},
   "source": [
    "<h3><b>CONC:</b>There is a gradual increase in the domestic gross per year</h3>"
   ]
  },
  {
   "cell_type": "markdown",
   "id": "5c576862-0852-4edb-b743-0389cff90ace",
   "metadata": {},
   "source": [
    "<h3><b>6.6.<br>(ii) movie popularity</b></h3>"
   ]
  },
  {
   "cell_type": "code",
   "execution_count": 123,
   "id": "6cbdf230-5094-4bfd-9798-95fa2093b426",
   "metadata": {},
   "outputs": [
    {
     "data": {
      "text/html": [
       "<div>\n",
       "<style scoped>\n",
       "    .dataframe tbody tr th:only-of-type {\n",
       "        vertical-align: middle;\n",
       "    }\n",
       "\n",
       "    .dataframe tbody tr th {\n",
       "        vertical-align: top;\n",
       "    }\n",
       "\n",
       "    .dataframe thead th {\n",
       "        text-align: right;\n",
       "    }\n",
       "</style>\n",
       "<table border=\"1\" class=\"dataframe\">\n",
       "  <thead>\n",
       "    <tr style=\"text-align: right;\">\n",
       "      <th></th>\n",
       "      <th>popularity</th>\n",
       "      <th>release_date</th>\n",
       "      <th>title</th>\n",
       "      <th>vote_average</th>\n",
       "      <th>vote_count</th>\n",
       "      <th>studio</th>\n",
       "      <th>domestic_gross</th>\n",
       "      <th>foreign_gross</th>\n",
       "      <th>year</th>\n",
       "    </tr>\n",
       "  </thead>\n",
       "  <tbody>\n",
       "    <tr>\n",
       "      <th>0</th>\n",
       "      <td>28.734</td>\n",
       "      <td>2010-03-26</td>\n",
       "      <td>How to Train Your Dragon</td>\n",
       "      <td>7.7</td>\n",
       "      <td>7610</td>\n",
       "      <td>P/DW</td>\n",
       "      <td>217600000.0</td>\n",
       "      <td>277300000.0</td>\n",
       "      <td>2010</td>\n",
       "    </tr>\n",
       "    <tr>\n",
       "      <th>1</th>\n",
       "      <td>28.515</td>\n",
       "      <td>2010-05-07</td>\n",
       "      <td>Iron Man 2</td>\n",
       "      <td>6.8</td>\n",
       "      <td>12368</td>\n",
       "      <td>Par.</td>\n",
       "      <td>312400000.0</td>\n",
       "      <td>311500000.0</td>\n",
       "      <td>2010</td>\n",
       "    </tr>\n",
       "    <tr>\n",
       "      <th>2</th>\n",
       "      <td>27.920</td>\n",
       "      <td>2010-07-16</td>\n",
       "      <td>Inception</td>\n",
       "      <td>8.3</td>\n",
       "      <td>22186</td>\n",
       "      <td>WB</td>\n",
       "      <td>292600000.0</td>\n",
       "      <td>535700000.0</td>\n",
       "      <td>2010</td>\n",
       "    </tr>\n",
       "    <tr>\n",
       "      <th>3</th>\n",
       "      <td>24.445</td>\n",
       "      <td>2010-06-17</td>\n",
       "      <td>Toy Story 3</td>\n",
       "      <td>7.7</td>\n",
       "      <td>8340</td>\n",
       "      <td>BV</td>\n",
       "      <td>415000000.0</td>\n",
       "      <td>652000000.0</td>\n",
       "      <td>2010</td>\n",
       "    </tr>\n",
       "    <tr>\n",
       "      <th>4</th>\n",
       "      <td>23.673</td>\n",
       "      <td>2010-07-09</td>\n",
       "      <td>Despicable Me</td>\n",
       "      <td>7.2</td>\n",
       "      <td>10057</td>\n",
       "      <td>Uni.</td>\n",
       "      <td>251500000.0</td>\n",
       "      <td>291600000.0</td>\n",
       "      <td>2010</td>\n",
       "    </tr>\n",
       "  </tbody>\n",
       "</table>\n",
       "</div>"
      ],
      "text/plain": [
       "   popularity release_date                     title  vote_average  \\\n",
       "0      28.734   2010-03-26  How to Train Your Dragon           7.7   \n",
       "1      28.515   2010-05-07                Iron Man 2           6.8   \n",
       "2      27.920   2010-07-16                 Inception           8.3   \n",
       "3      24.445   2010-06-17               Toy Story 3           7.7   \n",
       "4      23.673   2010-07-09             Despicable Me           7.2   \n",
       "\n",
       "   vote_count studio  domestic_gross  foreign_gross  year  \n",
       "0        7610   P/DW     217600000.0    277300000.0  2010  \n",
       "1       12368   Par.     312400000.0    311500000.0  2010  \n",
       "2       22186     WB     292600000.0    535700000.0  2010  \n",
       "3        8340     BV     415000000.0    652000000.0  2010  \n",
       "4       10057   Uni.     251500000.0    291600000.0  2010  "
      ]
     },
     "execution_count": 123,
     "metadata": {},
     "output_type": "execute_result"
    }
   ],
   "source": [
    "mg_data.head()"
   ]
  },
  {
   "cell_type": "code",
   "execution_count": null,
   "id": "a57128b9-3199-42a6-8e0e-b4c7d911c275",
   "metadata": {},
   "outputs": [],
   "source": []
  },
  {
   "cell_type": "code",
   "execution_count": 127,
   "id": "479d0ab8-a195-46cb-bbbb-1abab6fdd87d",
   "metadata": {},
   "outputs": [
    {
     "data": {
      "image/png": "[encoded data removed]",
      "text/plain": [
       "<Figure size 640x480 with 1 Axes>"
      ]
     },
     "metadata": {},
     "output_type": "display_data"
    }
   ],
   "source": [
    "#plotting bar grapgh on studio name with the highest popularity\n",
    "top_movie_popularity =mg_data.sort_values(by='popularity', ascending=False).head(15)\n",
    "\n",
    "# Plot\n",
    "#plt.figure(figsize=(10, 8))\n",
    "plt.barh(top_movie_popularity[\"title\"], top_movie_popularity['popularity'], color='skyblue')\n",
    "plt.xlabel(' popularity ')\n",
    "plt.title('movie_popularity')\n",
    "plt.gca().invert_yaxis()  # Highest grossing at the top\n",
    "\n",
    "plt.show()"
   ]
  },
  {
   "cell_type": "markdown",
   "id": "dd8b3af2-6bfd-43b4-b1d2-137c7abecb72",
   "metadata": {},
   "source": [
    "<h4><b>CONC:</b>The most popular movie is Avengers: infinity awar</h4>"
   ]
  },
  {
   "cell_type": "markdown",
   "id": "69d7771e-8cc0-444f-9477-818e4c1f1e9e",
   "metadata": {},
   "source": [
    "<h3><b>6.7.movie_popularity per Year</b></h3>"
   ]
  },
  {
   "cell_type": "code",
   "execution_count": 132,
   "id": "a7707c36-63f2-457f-962f-62af031406a2",
   "metadata": {},
   "outputs": [
    {
     "data": {
      "image/png": "[encoded data removed]",
      "text/plain": [
       "<Figure size 640x480 with 1 Axes>"
      ]
     },
     "metadata": {},
     "output_type": "display_data"
    }
   ],
   "source": [
    "#plotting bar graph on studio name with the highest popularity\n",
    "top_movie_popularity_year =mg_data.sort_values(by='popularity', ascending=False).head(15)\n",
    "\n",
    "# Plot\n",
    "#plt.figure(figsize=(10, 8))\n",
    "plt.barh(top_movie_popularity[\"release_date\"], top_movie_popularity['popularity'], color='skyblue')\n",
    "plt.xlabel(' popularity ')\n",
    "plt.title('movie_popularity_year')\n",
    "plt.gca().invert_yaxis()  # Highest grossing at the top\n",
    "\n",
    "plt.show()"
   ]
  },
  {
   "cell_type": "markdown",
   "id": "098c9fa3-c503-435b-adca-90a0d68fab45",
   "metadata": {},
   "source": [
    "<h4><b>CONC:</b>The year with the highest popularity is 2018</h4>"
   ]
  },
  {
   "cell_type": "markdown",
   "id": "90135861-9515-4053-bf8e-3fb5c1ec9c1c",
   "metadata": {},
   "source": [
    "<h3>6.8.Identifying the movie vote counts</h3>"
   ]
  },
  {
   "cell_type": "code",
   "execution_count": 136,
   "id": "f5ae818c-20a0-4bde-b350-22599a26fc14",
   "metadata": {},
   "outputs": [
    {
     "data": {
      "image/png": "[encoded data removed]",
      "text/plain": [
       "<Figure size 640x480 with 1 Axes>"
      ]
     },
     "metadata": {},
     "output_type": "display_data"
    }
   ],
   "source": [
    "#plotting bar grapgh on studio name with the highest vote_counts\n",
    "top_movie_popularity =mg_data.sort_values(by='vote_count', ascending=False).head(15)\n",
    "\n",
    "# Plot\n",
    "#plt.figure(figsize=(10, 8))\n",
    "plt.barh(top_movie_popularity[\"title\"], top_movie_popularity['vote_count'], color='skyblue')\n",
    "plt.xlabel(' vote_count ')\n",
    "plt.title('movie_vote_count')\n",
    "plt.gca().invert_yaxis()  # Highest grossing at the top\n",
    "\n",
    "plt.show()"
   ]
  },
  {
   "cell_type": "markdown",
   "id": "803ae002-ff51-46a5-8d3d-7e9f19ee5a8e",
   "metadata": {},
   "source": [
    "<h4><b>CONT:</b>The movie title with the highest votecount is <b>INCEPTION</b></h4>"
   ]
  },
  {
   "cell_type": "markdown",
   "id": "029980ba-87c2-4834-8f1e-b2f172cfb551",
   "metadata": {},
   "source": [
    "<h3><b>6.9.<br><br>\n",
    "(iii)Movie budget</b></h3>"
   ]
  },
  {
   "cell_type": "code",
   "execution_count": 141,
   "id": "72501a40-037d-4601-86a2-3afbca2ddd3c",
   "metadata": {},
   "outputs": [
    {
     "data": {
      "text/html": [
       "<div>\n",
       "<style scoped>\n",
       "    .dataframe tbody tr th:only-of-type {\n",
       "        vertical-align: middle;\n",
       "    }\n",
       "\n",
       "    .dataframe tbody tr th {\n",
       "        vertical-align: top;\n",
       "    }\n",
       "\n",
       "    .dataframe thead th {\n",
       "        text-align: right;\n",
       "    }\n",
       "</style>\n",
       "<table border=\"1\" class=\"dataframe\">\n",
       "  <thead>\n",
       "    <tr style=\"text-align: right;\">\n",
       "      <th></th>\n",
       "      <th>release_date</th>\n",
       "      <th>movie</th>\n",
       "      <th>production_budget</th>\n",
       "      <th>domestic_gross</th>\n",
       "      <th>worldwide_gross</th>\n",
       "    </tr>\n",
       "    <tr>\n",
       "      <th>id</th>\n",
       "      <th></th>\n",
       "      <th></th>\n",
       "      <th></th>\n",
       "      <th></th>\n",
       "      <th></th>\n",
       "    </tr>\n",
       "  </thead>\n",
       "  <tbody>\n",
       "    <tr>\n",
       "      <th>1</th>\n",
       "      <td>Dec 18, 2009</td>\n",
       "      <td>Avatar</td>\n",
       "      <td>$425,000,000</td>\n",
       "      <td>$760,507,625</td>\n",
       "      <td>$2,776,345,279</td>\n",
       "    </tr>\n",
       "    <tr>\n",
       "      <th>2</th>\n",
       "      <td>May 20, 2011</td>\n",
       "      <td>Pirates of the Caribbean: On Stranger Tides</td>\n",
       "      <td>$410,600,000</td>\n",
       "      <td>$241,063,875</td>\n",
       "      <td>$1,045,663,875</td>\n",
       "    </tr>\n",
       "    <tr>\n",
       "      <th>3</th>\n",
       "      <td>Jun 7, 2019</td>\n",
       "      <td>Dark Phoenix</td>\n",
       "      <td>$350,000,000</td>\n",
       "      <td>$42,762,350</td>\n",
       "      <td>$149,762,350</td>\n",
       "    </tr>\n",
       "    <tr>\n",
       "      <th>4</th>\n",
       "      <td>May 1, 2015</td>\n",
       "      <td>Avengers: Age of Ultron</td>\n",
       "      <td>$330,600,000</td>\n",
       "      <td>$459,005,868</td>\n",
       "      <td>$1,403,013,963</td>\n",
       "    </tr>\n",
       "    <tr>\n",
       "      <th>5</th>\n",
       "      <td>Dec 15, 2017</td>\n",
       "      <td>Star Wars Ep. VIII: The Last Jedi</td>\n",
       "      <td>$317,000,000</td>\n",
       "      <td>$620,181,382</td>\n",
       "      <td>$1,316,721,747</td>\n",
       "    </tr>\n",
       "  </tbody>\n",
       "</table>\n",
       "</div>"
      ],
      "text/plain": [
       "    release_date                                        movie  \\\n",
       "id                                                              \n",
       "1   Dec 18, 2009                                       Avatar   \n",
       "2   May 20, 2011  Pirates of the Caribbean: On Stranger Tides   \n",
       "3    Jun 7, 2019                                 Dark Phoenix   \n",
       "4    May 1, 2015                      Avengers: Age of Ultron   \n",
       "5   Dec 15, 2017            Star Wars Ep. VIII: The Last Jedi   \n",
       "\n",
       "   production_budget domestic_gross worldwide_gross  \n",
       "id                                                   \n",
       "1       $425,000,000   $760,507,625  $2,776,345,279  \n",
       "2       $410,600,000   $241,063,875  $1,045,663,875  \n",
       "3       $350,000,000    $42,762,350    $149,762,350  \n",
       "4       $330,600,000   $459,005,868  $1,403,013,963  \n",
       "5       $317,000,000   $620,181,382  $1,316,721,747  "
      ]
     },
     "execution_count": 141,
     "metadata": {},
     "output_type": "execute_result"
    }
   ],
   "source": [
    "movie_budget.head()"
   ]
  },
  {
   "cell_type": "markdown",
   "id": "8899cdb4-bd5a-4d77-9a17-d47a8c5ba23d",
   "metadata": {},
   "source": [
    "<h3><b>7.0.bar grapgh of movie with the highest production budget </b></h3>"
   ]
  },
  {
   "cell_type": "code",
   "execution_count": 150,
   "id": "096cc3ab-bbfa-4157-aacf-4dab4f508c26",
   "metadata": {},
   "outputs": [
    {
     "name": "stderr",
     "output_type": "stream",
     "text": [
      "/tmp/ipykernel_3971/825145010.py:13: UserWarning: Glyph 128 (\\x80) missing from current font.\n",
      "  plt.tight_layout()\n",
      "/tmp/ipykernel_3971/825145010.py:13: UserWarning: Glyph 153 (\\x99) missing from current font.\n",
      "  plt.tight_layout()\n"
     ]
    },
    {
     "data": {
      "image/png": "[encoded data removed]",
      "text/plain": [
       "<Figure size 1000x600 with 1 Axes>"
      ]
     },
     "metadata": {},
     "output_type": "display_data"
    }
   ],
   "source": [
    "\n",
    "# Sort by budget and select top 15 for readability\n",
    "top_budget_movies = movie_budget.sort_values(by='production_budget', ascending=False).head(10)\n",
    "\n",
    "# Plotting\n",
    "plt.figure(figsize=(10, 6))\n",
    "plt.barh(top_budget_movies['movie'], top_budget_movies['production_budget'], color='teal')\n",
    "plt.xlabel('Production Budget ($)')\n",
    "plt.title('Top 15 Movies by Production Budget')\n",
    "plt.gca().invert_yaxis()\n",
    "plt.tight_layout()\n",
    "plt.show()\n"
   ]
  },
  {
   "cell_type": "markdown",
   "id": "9025b837-fc94-4f8a-af8b-9d66fe1efa63",
   "metadata": {},
   "source": [
    "<h4><b>CONC:</b>The movie with the highest production budget is <b>AVATAR</b></h4>"
   ]
  },
  {
   "cell_type": "code",
   "execution_count": null,
   "id": "ebba0fc3-95ae-4f16-823b-11c85f2e9f77",
   "metadata": {},
   "outputs": [],
   "source": []
  },
  {
   "cell_type": "code",
   "execution_count": 163,
   "id": "dfd2d2a8-3402-4e04-a4bf-f931639276f5",
   "metadata": {},
   "outputs": [
    {
     "data": {
      "image/png": "[encoded data removed]",
      "text/plain": [
       "<Figure size 640x480 with 1 Axes>"
      ]
     },
     "metadata": {},
     "output_type": "display_data"
    }
   ],
   "source": [
    "#finding out the relationship between domestic and the production_budget\n",
    "sns.scatterplot(x='production_budget', y='domestic_gross', data=movie_budget)\n",
    "plt.title(\"correlationship between Domestic_gross and production_budget\")\n",
    "plt.show()"
   ]
  },
  {
   "cell_type": "markdown",
   "id": "19e4422c-bde2-4953-a56c-ebebb76fb39b",
   "metadata": {},
   "source": [
    "<h3><b>CONC:</b>There is a positive correletionship between the production_budget and the domestic_budget</h3>"
   ]
  },
  {
   "cell_type": "code",
   "execution_count": 166,
   "id": "da9f4368-adfe-4f1d-8aa1-ff78bfde1773",
   "metadata": {},
   "outputs": [
    {
     "data": {
      "image/png": "[encoded data removed]",
      "text/plain": [
       "<Figure size 640x480 with 1 Axes>"
      ]
     },
     "metadata": {},
     "output_type": "display_data"
    }
   ],
   "source": [
    "#plotting bar grapgh on movie title with the highest worldwide gross\n",
    "top_movie_world =movie_budget.sort_values(by='worldwide_gross', ascending=False).head(15)\n",
    "\n",
    "# Plot\n",
    "#plt.figure(figsize=(10, 8))\n",
    "plt.barh(top_movie_world[\"movie\"], top_movie_world['worldwide_gross'], color='skyblue')\n",
    "plt.xlabel(' worldwide_gross ')\n",
    "plt.title('movie_world_wide')\n",
    "plt.gca().invert_yaxis()  # Highest grossing at the top\n",
    "\n",
    "plt.show()"
   ]
  },
  {
   "cell_type": "markdown",
   "id": "014c005b-257b-4915-a0d3-30bce1550a41",
   "metadata": {},
   "source": [
    "<h3><b>CONC:</b>In the world wide gross rating, Avatar is the highly consumed  </h3>"
   ]
  },
  {
   "cell_type": "code",
   "execution_count": null,
   "id": "b4f64ebd-573b-406a-a744-0e7d31ea7b50",
   "metadata": {},
   "outputs": [],
   "source": []
  },
  {
   "cell_type": "markdown",
   "id": "c1a1624e-1026-422e-a2bf-dd0c12c76364",
   "metadata": {},
   "source": [
    "<h3><b>CONCLUTION:</b><br>\n",
    "1. Financial Success is Driven by Genre & Talent\n",
    "<br>\n",
    "    <br>\n",
    "2.International Markets Offer Major Revenue Potential\n",
    "<br><br>\n",
    "3.Audience Engagement & Brand Building Are Critical\n",
    "<br><br>\n",
    "4.The most populr movie world wide is Avatar with the highest budget in production\n",
    "<br><br>\n",
    "5. The writers, composers and the directors affect the impact to the clients\n",
    "<br><br>\n",
    "6.BV  is the highest producing Studio</h3>"
   ]
  }
 ],
 "metadata": {
  "kernelspec": {
   "display_name": "Python 3 (ipykernel)",
   "language": "python",
   "name": "python3"
  },
  "language_info": {
   "codemirror_mode": {
    "name": "ipython",
    "version": 3
   },
   "file_extension": ".py",
   "mimetype": "text/x-python",
   "name": "python",
   "nbconvert_exporter": "python",
   "pygments_lexer": "ipython3",
   "version": "3.11.7"
  }
 },
 "nbformat": 4,
 "nbformat_minor": 5
}
